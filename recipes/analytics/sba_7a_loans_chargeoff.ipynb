{
 "cells": [
  {
   "cell_type": "markdown",
   "id": "a3debe4a-65d0-48d5-be5a-a8bc96072058",
   "metadata": {},
   "source": [
    "## Overview\n",
    "This notebook provides the details of creating the exploratory and data representation observations for an analytics example. In an analytic setting, the method or computational approach to surface the insight is typically known. So it is matter of running a set of queries or running an algorithm on the data. This is the case here. The guidelines described in [the observation glossary](https://github.com/rajivsam/KMDS/blob/main/feature_documentation/glossary_observation_types.md) are used to generate the exploratory observations and the data representation observations."
   ]
  },
  {
   "cell_type": "code",
   "execution_count": 1,
   "id": "ff080a2f-e093-47c2-a5b2-ab464c5d7979",
   "metadata": {},
   "outputs": [
    {
     "name": "stderr",
     "output_type": "stream",
     "text": [
      "/var/folders/fb/t_m5qpcj6qq85rvkh73vbxh40000gn/T/ipykernel_15717/2261579296.py:3: DtypeWarning: Columns (34,35,39) have mixed types. Specify dtype option on import or set low_memory=False.\n",
      "  df = pd.read_csv(fp)\n"
     ]
    }
   ],
   "source": [
    "import pandas as pd\n",
    "fp =\"../../data/sba_7a_loans.csv\"\n",
    "df = pd.read_csv(fp)"
   ]
  },
  {
   "cell_type": "code",
   "execution_count": 2,
   "id": "3fdd3de9-6dc5-4977-b25a-b0012dc0fb18",
   "metadata": {},
   "outputs": [],
   "source": [
    "from kmds.ontology.kmds_ontology import *\n",
    "from kmds.tagging.tag_types import ExploratoryTags\n",
    "\n",
    "kaw = KnowledgeApplicationWorkflow(\"SBA Loan Chargeoff Analysis 2023 data\", namespace=onto)"
   ]
  },
  {
   "cell_type": "code",
   "execution_count": 3,
   "id": "12e82aef-8d83-4bbe-b19c-4ae063da354b",
   "metadata": {},
   "outputs": [],
   "source": [
    "exp_obs_list = []\n",
    "observation_count :int = 1\n",
    "e1 = ExploratoryObservation(namespace=onto)\n",
    "e1.finding = \"Only (NaicsCode, BorrState, LoanStatus) are needed for this analysis. We don't care about other data elements for this report.\"\n",
    "e1.finding_sequence = observation_count\n",
    "e1.exploratory_observation_type = ExploratoryTags.RELEVANCE_OBSERVATION.value\n",
    "exp_obs_list.append(e1)"
   ]
  },
  {
   "cell_type": "code",
   "execution_count": 4,
   "id": "17edcc37-10f9-49aa-86f3-78165b0b9ec2",
   "metadata": {},
   "outputs": [],
   "source": [
    "observation_count += 1\n",
    "e2 = ExploratoryObservation(namespace=onto)\n",
    "e2.finding = \"The data is government published data, have to take the quality at face value :-)\"\n",
    "e2.finding_sequence = observation_count\n",
    "e2.exploratory_observation_type = ExploratoryTags.RELEVANCE_OBSERVATION.value\n",
    "exp_obs_list.append(e2)"
   ]
  },
  {
   "cell_type": "code",
   "execution_count": 5,
   "id": "40554eca-93a2-4a47-a004-09956468cbe5",
   "metadata": {},
   "outputs": [],
   "source": [
    "kaw.has_exploratory_observations = exp_obs_list"
   ]
  },
  {
   "cell_type": "code",
   "execution_count": 6,
   "id": "d5b70115-680f-4229-bb3b-4def495a95b6",
   "metadata": {},
   "outputs": [],
   "source": [
    "subset_cols = [\"NaicsCode\", \"BorrState\", \"LoanStatus\"]\n",
    "df = df[subset_cols]\n",
    "include_loan_status = df.LoanStatus != \"COMMIT\"\n",
    "df = df[include_loan_status]"
   ]
  },
  {
   "cell_type": "code",
   "execution_count": 7,
   "id": "019ba06e-8d97-464e-aaee-7d44736f9910",
   "metadata": {},
   "outputs": [],
   "source": [
    "from kmds.tagging.tag_types import DataRepresentationTags\n",
    "dr_obs_list = []\n",
    "observation_count = 1\n",
    "dr1 = DataRepresentationObservation(namespace=onto)\n",
    "dr1.finding = \"See the data dictionary in the repo data directory, the business type is captured by the Naics Code.\\\n",
    "To compute loan performance by business type, group by Naics Code, count the Loan Status in each group and then the percentages\\\n",
    "for each loan status within a group. Therefore, in each group the percentages must add to a 100 percent.\"\n",
    "dr1.finding_sequence = observation_count\n",
    "dr1.data_representation_observation_type = DataRepresentationTags.DATA_TRANSFORMATION_OBSERVATION.value\n",
    "dr_obs_list.append(dr1)"
   ]
  },
  {
   "cell_type": "code",
   "execution_count": 8,
   "id": "1e5f8348-213e-4286-a42e-f51e187d24e2",
   "metadata": {},
   "outputs": [],
   "source": [
    "dfnc = df.groupby(\"NaicsCode\")[\"LoanStatus\"].value_counts().reset_index()\n",
    "dfnc[\"NaicsCode\"] = dfnc.NaicsCode.astype(int)\n",
    "dfnc[\"percentage\"] = (100 * dfnc[\"count\"]  / dfnc.groupby('NaicsCode')['count'].transform('sum')).round(2)"
   ]
  },
  {
   "cell_type": "code",
   "execution_count": 9,
   "id": "cb76c8ab-709d-4b8b-95e1-11d7518d8a1f",
   "metadata": {},
   "outputs": [
    {
     "data": {
      "text/html": [
       "<div>\n",
       "<style scoped>\n",
       "    .dataframe tbody tr th:only-of-type {\n",
       "        vertical-align: middle;\n",
       "    }\n",
       "\n",
       "    .dataframe tbody tr th {\n",
       "        vertical-align: top;\n",
       "    }\n",
       "\n",
       "    .dataframe thead th {\n",
       "        text-align: right;\n",
       "    }\n",
       "</style>\n",
       "<table border=\"1\" class=\"dataframe\">\n",
       "  <thead>\n",
       "    <tr style=\"text-align: right;\">\n",
       "      <th></th>\n",
       "      <th>NaicsCode</th>\n",
       "      <th>LoanStatus</th>\n",
       "      <th>count</th>\n",
       "      <th>percentage</th>\n",
       "    </tr>\n",
       "  </thead>\n",
       "  <tbody>\n",
       "    <tr>\n",
       "      <th>0</th>\n",
       "      <td>111110</td>\n",
       "      <td>CANCLD</td>\n",
       "      <td>16</td>\n",
       "      <td>44.44</td>\n",
       "    </tr>\n",
       "    <tr>\n",
       "      <th>1</th>\n",
       "      <td>111110</td>\n",
       "      <td>EXEMPT</td>\n",
       "      <td>14</td>\n",
       "      <td>38.89</td>\n",
       "    </tr>\n",
       "    <tr>\n",
       "      <th>2</th>\n",
       "      <td>111110</td>\n",
       "      <td>PIF</td>\n",
       "      <td>6</td>\n",
       "      <td>16.67</td>\n",
       "    </tr>\n",
       "    <tr>\n",
       "      <th>3</th>\n",
       "      <td>111120</td>\n",
       "      <td>CANCLD</td>\n",
       "      <td>1</td>\n",
       "      <td>33.33</td>\n",
       "    </tr>\n",
       "    <tr>\n",
       "      <th>4</th>\n",
       "      <td>111120</td>\n",
       "      <td>EXEMPT</td>\n",
       "      <td>1</td>\n",
       "      <td>33.33</td>\n",
       "    </tr>\n",
       "    <tr>\n",
       "      <th>...</th>\n",
       "      <td>...</td>\n",
       "      <td>...</td>\n",
       "      <td>...</td>\n",
       "      <td>...</td>\n",
       "    </tr>\n",
       "    <tr>\n",
       "      <th>3068</th>\n",
       "      <td>926120</td>\n",
       "      <td>CANCLD</td>\n",
       "      <td>2</td>\n",
       "      <td>100.00</td>\n",
       "    </tr>\n",
       "    <tr>\n",
       "      <th>3069</th>\n",
       "      <td>926130</td>\n",
       "      <td>EXEMPT</td>\n",
       "      <td>2</td>\n",
       "      <td>66.67</td>\n",
       "    </tr>\n",
       "    <tr>\n",
       "      <th>3070</th>\n",
       "      <td>926130</td>\n",
       "      <td>PIF</td>\n",
       "      <td>1</td>\n",
       "      <td>33.33</td>\n",
       "    </tr>\n",
       "    <tr>\n",
       "      <th>3071</th>\n",
       "      <td>926150</td>\n",
       "      <td>EXEMPT</td>\n",
       "      <td>1</td>\n",
       "      <td>100.00</td>\n",
       "    </tr>\n",
       "    <tr>\n",
       "      <th>3072</th>\n",
       "      <td>928110</td>\n",
       "      <td>EXEMPT</td>\n",
       "      <td>1</td>\n",
       "      <td>100.00</td>\n",
       "    </tr>\n",
       "  </tbody>\n",
       "</table>\n",
       "<p>3073 rows × 4 columns</p>\n",
       "</div>"
      ],
      "text/plain": [
       "      NaicsCode LoanStatus  count  percentage\n",
       "0        111110     CANCLD     16       44.44\n",
       "1        111110     EXEMPT     14       38.89\n",
       "2        111110        PIF      6       16.67\n",
       "3        111120     CANCLD      1       33.33\n",
       "4        111120     EXEMPT      1       33.33\n",
       "...         ...        ...    ...         ...\n",
       "3068     926120     CANCLD      2      100.00\n",
       "3069     926130     EXEMPT      2       66.67\n",
       "3070     926130        PIF      1       33.33\n",
       "3071     926150     EXEMPT      1      100.00\n",
       "3072     928110     EXEMPT      1      100.00\n",
       "\n",
       "[3073 rows x 4 columns]"
      ]
     },
     "execution_count": 9,
     "metadata": {},
     "output_type": "execute_result"
    }
   ],
   "source": [
    "dfnc"
   ]
  },
  {
   "cell_type": "code",
   "execution_count": 10,
   "id": "ca8e0a7a-58b4-42ec-90ff-9335007a6523",
   "metadata": {},
   "outputs": [],
   "source": [
    "dr2 = DataRepresentationObservation(namespace=onto)\n",
    "dr2.finding = \"The borrower state is captured by the BorrState attribute, see the data dictionary.\\\n",
    "To compute loan performance by BorrState,group by BorrState, count the Loan Status in each group and then the percentages\\\n",
    "for each loan status within a group. Therefore, in each group the percentages must add to a 100 percent.\"\n",
    "observation_count += 1\n",
    "dr2.finding_sequence = observation_count\n",
    "dr2.data_representation_observation_type = DataRepresentationTags.DATA_TRANSFORMATION_OBSERVATION.value\n",
    "dr_obs_list.append(dr2)"
   ]
  },
  {
   "cell_type": "code",
   "execution_count": 11,
   "id": "e1ab9df5-1745-4e92-9724-8761a7436d61",
   "metadata": {},
   "outputs": [
    {
     "data": {
      "text/html": [
       "<div>\n",
       "<style scoped>\n",
       "    .dataframe tbody tr th:only-of-type {\n",
       "        vertical-align: middle;\n",
       "    }\n",
       "\n",
       "    .dataframe tbody tr th {\n",
       "        vertical-align: top;\n",
       "    }\n",
       "\n",
       "    .dataframe thead th {\n",
       "        text-align: right;\n",
       "    }\n",
       "</style>\n",
       "<table border=\"1\" class=\"dataframe\">\n",
       "  <thead>\n",
       "    <tr style=\"text-align: right;\">\n",
       "      <th></th>\n",
       "      <th>BorrState</th>\n",
       "      <th>LoanStatus</th>\n",
       "      <th>count</th>\n",
       "      <th>percentage</th>\n",
       "    </tr>\n",
       "  </thead>\n",
       "  <tbody>\n",
       "    <tr>\n",
       "      <th>0</th>\n",
       "      <td>AK</td>\n",
       "      <td>EXEMPT</td>\n",
       "      <td>302</td>\n",
       "      <td>80.53</td>\n",
       "    </tr>\n",
       "    <tr>\n",
       "      <th>1</th>\n",
       "      <td>AK</td>\n",
       "      <td>CANCLD</td>\n",
       "      <td>42</td>\n",
       "      <td>11.20</td>\n",
       "    </tr>\n",
       "    <tr>\n",
       "      <th>2</th>\n",
       "      <td>AK</td>\n",
       "      <td>PIF</td>\n",
       "      <td>31</td>\n",
       "      <td>8.27</td>\n",
       "    </tr>\n",
       "    <tr>\n",
       "      <th>3</th>\n",
       "      <td>AL</td>\n",
       "      <td>EXEMPT</td>\n",
       "      <td>1046</td>\n",
       "      <td>79.85</td>\n",
       "    </tr>\n",
       "    <tr>\n",
       "      <th>4</th>\n",
       "      <td>AL</td>\n",
       "      <td>CANCLD</td>\n",
       "      <td>133</td>\n",
       "      <td>10.15</td>\n",
       "    </tr>\n",
       "    <tr>\n",
       "      <th>...</th>\n",
       "      <td>...</td>\n",
       "      <td>...</td>\n",
       "      <td>...</td>\n",
       "      <td>...</td>\n",
       "    </tr>\n",
       "    <tr>\n",
       "      <th>205</th>\n",
       "      <td>WV</td>\n",
       "      <td>CANCLD</td>\n",
       "      <td>66</td>\n",
       "      <td>9.59</td>\n",
       "    </tr>\n",
       "    <tr>\n",
       "      <th>206</th>\n",
       "      <td>WY</td>\n",
       "      <td>EXEMPT</td>\n",
       "      <td>244</td>\n",
       "      <td>71.55</td>\n",
       "    </tr>\n",
       "    <tr>\n",
       "      <th>207</th>\n",
       "      <td>WY</td>\n",
       "      <td>PIF</td>\n",
       "      <td>65</td>\n",
       "      <td>19.06</td>\n",
       "    </tr>\n",
       "    <tr>\n",
       "      <th>208</th>\n",
       "      <td>WY</td>\n",
       "      <td>CANCLD</td>\n",
       "      <td>29</td>\n",
       "      <td>8.50</td>\n",
       "    </tr>\n",
       "    <tr>\n",
       "      <th>209</th>\n",
       "      <td>WY</td>\n",
       "      <td>CHGOFF</td>\n",
       "      <td>3</td>\n",
       "      <td>0.88</td>\n",
       "    </tr>\n",
       "  </tbody>\n",
       "</table>\n",
       "<p>210 rows × 4 columns</p>\n",
       "</div>"
      ],
      "text/plain": [
       "    BorrState LoanStatus  count  percentage\n",
       "0          AK     EXEMPT    302       80.53\n",
       "1          AK     CANCLD     42       11.20\n",
       "2          AK        PIF     31        8.27\n",
       "3          AL     EXEMPT   1046       79.85\n",
       "4          AL     CANCLD    133       10.15\n",
       "..        ...        ...    ...         ...\n",
       "205        WV     CANCLD     66        9.59\n",
       "206        WY     EXEMPT    244       71.55\n",
       "207        WY        PIF     65       19.06\n",
       "208        WY     CANCLD     29        8.50\n",
       "209        WY     CHGOFF      3        0.88\n",
       "\n",
       "[210 rows x 4 columns]"
      ]
     },
     "execution_count": 11,
     "metadata": {},
     "output_type": "execute_result"
    }
   ],
   "source": [
    "dfs = df.groupby(\"BorrState\")[\"LoanStatus\"].value_counts().reset_index()\n",
    "dfs[\"percentage\"] = (100 * dfs[\"count\"]  / dfs.groupby('BorrState')['count'].transform('sum')).round(2)\n",
    "dfs"
   ]
  },
  {
   "cell_type": "code",
   "execution_count": 12,
   "id": "6aece1e5-0dd9-4e02-878b-824c7ab38a52",
   "metadata": {},
   "outputs": [],
   "source": [
    "kaw.has_data_representation_observations = dr_obs_list"
   ]
  },
  {
   "cell_type": "code",
   "execution_count": 13,
   "id": "590278e2-f568-4f17-81be-2667ef985fda",
   "metadata": {},
   "outputs": [],
   "source": [
    "KNOWLEDGE_BASE = \"sba_7a_2023_perf_kb.xml\"\n",
    "onto.save(file=KNOWLEDGE_BASE, format=\"rdfxml\")"
   ]
  },
  {
   "cell_type": "code",
   "execution_count": null,
   "id": "cf22ae22-2292-4f73-90f2-f1cab34ba747",
   "metadata": {},
   "outputs": [],
   "source": []
  }
 ],
 "metadata": {
  "kernelspec": {
   "display_name": "Python 3 (ipykernel)",
   "language": "python",
   "name": "python3"
  },
  "language_info": {
   "codemirror_mode": {
    "name": "ipython",
    "version": 3
   },
   "file_extension": ".py",
   "mimetype": "text/x-python",
   "name": "python",
   "nbconvert_exporter": "python",
   "pygments_lexer": "ipython3",
   "version": "3.10.13"
  }
 },
 "nbformat": 4,
 "nbformat_minor": 5
}
