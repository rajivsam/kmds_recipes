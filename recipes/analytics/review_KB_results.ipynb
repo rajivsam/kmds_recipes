{
 "cells": [
  {
   "cell_type": "code",
   "execution_count": 4,
   "id": "47aaa028-beb0-4c33-9a50-5e846fbbf64e",
   "metadata": {},
   "outputs": [],
   "source": [
    "import kmds\n",
    "from kmds.tagging.tag_types import DataRepresentationTags\n",
    "from owlready2 import *\n",
    "from kmds.utils.load_utils import *\n",
    "KNOWLEDGE_BASE = \"sba_7a_2023_perf_kb.xml\"\n",
    "onto2 :Ontology = load_kb(KNOWLEDGE_BASE)\n",
    "import pandas as pd\n",
    "pd.options.display.max_colwidth = 350"
   ]
  },
  {
   "cell_type": "code",
   "execution_count": 5,
   "id": "77ed4c33-b4b0-405b-9780-3277cc53b227",
   "metadata": {},
   "outputs": [
    {
     "data": {
      "text/html": [
       "<div>\n",
       "<style scoped>\n",
       "    .dataframe tbody tr th:only-of-type {\n",
       "        vertical-align: middle;\n",
       "    }\n",
       "\n",
       "    .dataframe tbody tr th {\n",
       "        vertical-align: top;\n",
       "    }\n",
       "\n",
       "    .dataframe thead th {\n",
       "        text-align: right;\n",
       "    }\n",
       "</style>\n",
       "<table border=\"1\" class=\"dataframe\">\n",
       "  <thead>\n",
       "    <tr style=\"text-align: right;\">\n",
       "      <th></th>\n",
       "      <th>obs_type</th>\n",
       "      <th>finding</th>\n",
       "      <th>finding_seq</th>\n",
       "    </tr>\n",
       "  </thead>\n",
       "  <tbody>\n",
       "    <tr>\n",
       "      <th>0</th>\n",
       "      <td>Relevance Observation</td>\n",
       "      <td>Only (NaicsCode, BorrState, LoanStatus) are needed for this analysis. We don't care about other data elements for this report.</td>\n",
       "      <td>1</td>\n",
       "    </tr>\n",
       "    <tr>\n",
       "      <th>1</th>\n",
       "      <td>Relevance Observation</td>\n",
       "      <td>The data is government published data, have to take the quality at face value :-)</td>\n",
       "      <td>2</td>\n",
       "    </tr>\n",
       "  </tbody>\n",
       "</table>\n",
       "</div>"
      ],
      "text/plain": [
       "                obs_type  \\\n",
       "0  Relevance Observation   \n",
       "1  Relevance Observation   \n",
       "\n",
       "                                                                                                                          finding  \\\n",
       "0  Only (NaicsCode, BorrState, LoanStatus) are needed for this analysis. We don't care about other data elements for this report.   \n",
       "1                                               The data is government published data, have to take the quality at face value :-)   \n",
       "\n",
       "   finding_seq  \n",
       "0            1  \n",
       "1            2  "
      ]
     },
     "metadata": {},
     "output_type": "display_data"
    }
   ],
   "source": [
    "from IPython.display import display\n",
    "display(load_exp_observations(onto2))"
   ]
  },
  {
   "cell_type": "code",
   "execution_count": 6,
   "id": "cbe9b44f-8ed2-419a-b6fa-cc5272d23db0",
   "metadata": {},
   "outputs": [
    {
     "data": {
      "text/html": [
       "<div>\n",
       "<style scoped>\n",
       "    .dataframe tbody tr th:only-of-type {\n",
       "        vertical-align: middle;\n",
       "    }\n",
       "\n",
       "    .dataframe tbody tr th {\n",
       "        vertical-align: top;\n",
       "    }\n",
       "\n",
       "    .dataframe thead th {\n",
       "        text-align: right;\n",
       "    }\n",
       "</style>\n",
       "<table border=\"1\" class=\"dataframe\">\n",
       "  <thead>\n",
       "    <tr style=\"text-align: right;\">\n",
       "      <th></th>\n",
       "      <th>obs_type</th>\n",
       "      <th>finding</th>\n",
       "      <th>finding_seq</th>\n",
       "    </tr>\n",
       "  </thead>\n",
       "  <tbody>\n",
       "    <tr>\n",
       "      <th>0</th>\n",
       "      <td>Data Transformation Observation</td>\n",
       "      <td>See the data dictionary in the repo data directory, the business type is captured by the Naics Code.To compute loan performance by business type, group by Naics Code, count the Loan Status in each group and then the percentagesfor each loan status within a group. Therefore, in each group the percentages must add to a 100 percent.</td>\n",
       "      <td>1</td>\n",
       "    </tr>\n",
       "    <tr>\n",
       "      <th>1</th>\n",
       "      <td>Data Transformation Observation</td>\n",
       "      <td>The borrower state is captured by the BorrState attribute, see the data dictionary.To compute loan performance by BorrState,group by BorrState, count the Loan Status in each group and then the percentagesfor each loan status within a group. Therefore, in each group the percentages must add to a 100 percent.</td>\n",
       "      <td>2</td>\n",
       "    </tr>\n",
       "  </tbody>\n",
       "</table>\n",
       "</div>"
      ],
      "text/plain": [
       "                          obs_type  \\\n",
       "0  Data Transformation Observation   \n",
       "1  Data Transformation Observation   \n",
       "\n",
       "                                                                                                                                                                                                                                                                                                                                       finding  \\\n",
       "0  See the data dictionary in the repo data directory, the business type is captured by the Naics Code.To compute loan performance by business type, group by Naics Code, count the Loan Status in each group and then the percentagesfor each loan status within a group. Therefore, in each group the percentages must add to a 100 percent.   \n",
       "1                         The borrower state is captured by the BorrState attribute, see the data dictionary.To compute loan performance by BorrState,group by BorrState, count the Loan Status in each group and then the percentagesfor each loan status within a group. Therefore, in each group the percentages must add to a 100 percent.   \n",
       "\n",
       "   finding_seq  \n",
       "0            1  \n",
       "1            2  "
      ]
     },
     "metadata": {},
     "output_type": "display_data"
    }
   ],
   "source": [
    "display(load_data_rep_observations(onto2))"
   ]
  },
  {
   "cell_type": "code",
   "execution_count": null,
   "id": "2c934108-4371-41d1-8654-c2fe015e8b54",
   "metadata": {},
   "outputs": [],
   "source": []
  }
 ],
 "metadata": {
  "kernelspec": {
   "display_name": "Python 3 (ipykernel)",
   "language": "python",
   "name": "python3"
  },
  "language_info": {
   "codemirror_mode": {
    "name": "ipython",
    "version": 3
   },
   "file_extension": ".py",
   "mimetype": "text/x-python",
   "name": "python",
   "nbconvert_exporter": "python",
   "pygments_lexer": "ipython3",
   "version": "3.10.13"
  }
 },
 "nbformat": 4,
 "nbformat_minor": 5
}
