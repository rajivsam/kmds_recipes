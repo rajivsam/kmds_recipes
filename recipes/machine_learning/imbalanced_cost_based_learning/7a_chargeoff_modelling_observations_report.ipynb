{
 "cells": [
  {
   "cell_type": "markdown",
   "id": "d08c018c-9847-458a-a3d9-3544aad892f1",
   "metadata": {},
   "source": [
    "## Specify the Knowledge Base to use"
   ]
  },
  {
   "cell_type": "code",
   "execution_count": 1,
   "id": "a43dcda6-5670-4ff8-8713-68dfad4fc06d",
   "metadata": {},
   "outputs": [],
   "source": [
    "import kmds\n",
    "from kmds.tagging.tag_types import DataRepresentationTags\n",
    "from owlready2 import *\n",
    "from kmds.utils.load_utils import *\n",
    "from kmds.utils.path_utils import get_package_kb_path\n",
    "KNOWLEDGE_BASE = \"sba_7a_loan_chargeoff_modelling.xml\"\n",
    "onto2 :Ontology = load_kb(KNOWLEDGE_BASE)\n",
    "import pandas as pd\n",
    "pd.options.display.max_colwidth = 500"
   ]
  },
  {
   "cell_type": "markdown",
   "id": "e3025591-434f-4cef-959c-4546b1b2e48c",
   "metadata": {},
   "source": [
    "## Load the Exploratory Observations"
   ]
  },
  {
   "cell_type": "code",
   "execution_count": 2,
   "id": "eb288f83-ac20-45f5-89e1-c5bea85b0fba",
   "metadata": {},
   "outputs": [
    {
     "data": {
      "text/html": [
       "<div>\n",
       "<style scoped>\n",
       "    .dataframe tbody tr th:only-of-type {\n",
       "        vertical-align: middle;\n",
       "    }\n",
       "\n",
       "    .dataframe tbody tr th {\n",
       "        vertical-align: top;\n",
       "    }\n",
       "\n",
       "    .dataframe thead th {\n",
       "        text-align: right;\n",
       "    }\n",
       "</style>\n",
       "<table border=\"1\" class=\"dataframe\">\n",
       "  <thead>\n",
       "    <tr style=\"text-align: right;\">\n",
       "      <th></th>\n",
       "      <th>obs_type</th>\n",
       "      <th>finding</th>\n",
       "      <th>finding_seq</th>\n",
       "    </tr>\n",
       "  </thead>\n",
       "  <tbody>\n",
       "    <tr>\n",
       "      <th>0</th>\n",
       "      <td>Relevance Observation</td>\n",
       "      <td>0.2 percent of the data is kept for model evaluation, the rest is used for model building.</td>\n",
       "      <td>6</td>\n",
       "    </tr>\n",
       "    <tr>\n",
       "      <th>1</th>\n",
       "      <td>Data Quality Observation</td>\n",
       "      <td>Attributes ['BankFDICNumber', 'FranchiseCode', 'BusinessAge'] have missing values</td>\n",
       "      <td>2</td>\n",
       "    </tr>\n",
       "    <tr>\n",
       "      <th>2</th>\n",
       "      <td>Data Quality Observation</td>\n",
       "      <td>Cardinality of the categorical attribute space is very large, 13187, so need to use some kind of dimensionality reduction. Cannot one hot encode this size</td>\n",
       "      <td>4</td>\n",
       "    </tr>\n",
       "    <tr>\n",
       "      <th>3</th>\n",
       "      <td>Data Quality Observation</td>\n",
       "      <td>The class attribute is imbalanced, charge offs are less than five percent (0.048)</td>\n",
       "      <td>5</td>\n",
       "    </tr>\n",
       "    <tr>\n",
       "      <th>4</th>\n",
       "      <td>Data Quality Observation</td>\n",
       "      <td>Attributes with missing values are replaced with the string Not Applicable</td>\n",
       "      <td>3</td>\n",
       "    </tr>\n",
       "    <tr>\n",
       "      <th>5</th>\n",
       "      <td>Relevance Observation</td>\n",
       "      <td>Only ['BorrName', 'BankFDICNumber', 'BankZip', 'BorrZip', 'NaicsCode', 'FranchiseCode', 'BusinessAge', 'LoanStatus', 'SBAGuaranteedApproval'] attributes from the raw data file are used in modeling</td>\n",
       "      <td>1</td>\n",
       "    </tr>\n",
       "  </tbody>\n",
       "</table>\n",
       "</div>"
      ],
      "text/plain": [
       "                   obs_type  \\\n",
       "0     Relevance Observation   \n",
       "1  Data Quality Observation   \n",
       "2  Data Quality Observation   \n",
       "3  Data Quality Observation   \n",
       "4  Data Quality Observation   \n",
       "5     Relevance Observation   \n",
       "\n",
       "                                                                                                                                                                                                finding  \\\n",
       "0                                                                                                            0.2 percent of the data is kept for model evaluation, the rest is used for model building.   \n",
       "1                                                                                                                     Attributes ['BankFDICNumber', 'FranchiseCode', 'BusinessAge'] have missing values   \n",
       "2                                            Cardinality of the categorical attribute space is very large, 13187, so need to use some kind of dimensionality reduction. Cannot one hot encode this size   \n",
       "3                                                                                                                     The class attribute is imbalanced, charge offs are less than five percent (0.048)   \n",
       "4                                                                                                                            Attributes with missing values are replaced with the string Not Applicable   \n",
       "5  Only ['BorrName', 'BankFDICNumber', 'BankZip', 'BorrZip', 'NaicsCode', 'FranchiseCode', 'BusinessAge', 'LoanStatus', 'SBAGuaranteedApproval'] attributes from the raw data file are used in modeling   \n",
       "\n",
       "   finding_seq  \n",
       "0            6  \n",
       "1            2  \n",
       "2            4  \n",
       "3            5  \n",
       "4            3  \n",
       "5            1  "
      ]
     },
     "execution_count": 2,
     "metadata": {},
     "output_type": "execute_result"
    }
   ],
   "source": [
    "load_exp_observations(onto2)"
   ]
  },
  {
   "cell_type": "markdown",
   "id": "99584c8a-155a-4f80-8e95-82db262b9d0d",
   "metadata": {},
   "source": [
    "## Load the Data Representation Observations"
   ]
  },
  {
   "cell_type": "code",
   "execution_count": 3,
   "id": "d4483dba-342d-4ed0-ae3f-a62a5975c659",
   "metadata": {},
   "outputs": [
    {
     "data": {
      "text/html": [
       "<div>\n",
       "<style scoped>\n",
       "    .dataframe tbody tr th:only-of-type {\n",
       "        vertical-align: middle;\n",
       "    }\n",
       "\n",
       "    .dataframe tbody tr th {\n",
       "        vertical-align: top;\n",
       "    }\n",
       "\n",
       "    .dataframe thead th {\n",
       "        text-align: right;\n",
       "    }\n",
       "</style>\n",
       "<table border=\"1\" class=\"dataframe\">\n",
       "  <thead>\n",
       "    <tr style=\"text-align: right;\">\n",
       "      <th></th>\n",
       "      <th>obs_type</th>\n",
       "      <th>finding</th>\n",
       "      <th>finding_seq</th>\n",
       "    </tr>\n",
       "  </thead>\n",
       "  <tbody>\n",
       "    <tr>\n",
       "      <th>0</th>\n",
       "      <td>Feature Engineering Observation</td>\n",
       "      <td>Feature Hashing is is used for dimensionality reduction. See the link in the data representation notebookfor information about setting up the input for feature hashing</td>\n",
       "      <td>1</td>\n",
       "    </tr>\n",
       "    <tr>\n",
       "      <th>1</th>\n",
       "      <td>Feature Engineering Observation</td>\n",
       "      <td>The feature dimension used for this exercise is 1024, this is a hyper-parameter.</td>\n",
       "      <td>2</td>\n",
       "    </tr>\n",
       "  </tbody>\n",
       "</table>\n",
       "</div>"
      ],
      "text/plain": [
       "                          obs_type  \\\n",
       "0  Feature Engineering Observation   \n",
       "1  Feature Engineering Observation   \n",
       "\n",
       "                                                                                                                                                                   finding  \\\n",
       "0  Feature Hashing is is used for dimensionality reduction. See the link in the data representation notebookfor information about setting up the input for feature hashing   \n",
       "1                                                                                         The feature dimension used for this exercise is 1024, this is a hyper-parameter.   \n",
       "\n",
       "   finding_seq  \n",
       "0            1  \n",
       "1            2  "
      ]
     },
     "execution_count": 3,
     "metadata": {},
     "output_type": "execute_result"
    }
   ],
   "source": [
    "load_data_rep_observations(onto2)"
   ]
  },
  {
   "cell_type": "markdown",
   "id": "985d674d-42b8-48d4-92b0-9b40e0b47dc0",
   "metadata": {},
   "source": [
    "## Load the Modelling Choice Observations"
   ]
  },
  {
   "cell_type": "code",
   "execution_count": 4,
   "id": "beabd768-9da7-48b4-bc31-66c287ae5616",
   "metadata": {},
   "outputs": [
    {
     "data": {
      "text/html": [
       "<div>\n",
       "<style scoped>\n",
       "    .dataframe tbody tr th:only-of-type {\n",
       "        vertical-align: middle;\n",
       "    }\n",
       "\n",
       "    .dataframe tbody tr th {\n",
       "        vertical-align: top;\n",
       "    }\n",
       "\n",
       "    .dataframe thead th {\n",
       "        text-align: right;\n",
       "    }\n",
       "</style>\n",
       "<table border=\"1\" class=\"dataframe\">\n",
       "  <thead>\n",
       "    <tr style=\"text-align: right;\">\n",
       "      <th></th>\n",
       "      <th>obs_type</th>\n",
       "      <th>finding</th>\n",
       "      <th>finding_seq</th>\n",
       "    </tr>\n",
       "  </thead>\n",
       "  <tbody>\n",
       "    <tr>\n",
       "      <th>0</th>\n",
       "      <td>Modelling Choice Observation</td>\n",
       "      <td>Bagging uses 100 estimators, this is a hyper-parameter choice.</td>\n",
       "      <td>2</td>\n",
       "    </tr>\n",
       "    <tr>\n",
       "      <th>1</th>\n",
       "      <td>Modelling Choice Observation</td>\n",
       "      <td>Boosting uses 200 estimators, this is a hyper-parameter choice.</td>\n",
       "      <td>3</td>\n",
       "    </tr>\n",
       "    <tr>\n",
       "      <th>2</th>\n",
       "      <td>Modelling Choice Observation</td>\n",
       "      <td>The feature dimension is 1024, this is a hyper-parameter choice.</td>\n",
       "      <td>1</td>\n",
       "    </tr>\n",
       "  </tbody>\n",
       "</table>\n",
       "</div>"
      ],
      "text/plain": [
       "                       obs_type  \\\n",
       "0  Modelling Choice Observation   \n",
       "1  Modelling Choice Observation   \n",
       "2  Modelling Choice Observation   \n",
       "\n",
       "                                                            finding  \\\n",
       "0    Bagging uses 100 estimators, this is a hyper-parameter choice.   \n",
       "1   Boosting uses 200 estimators, this is a hyper-parameter choice.   \n",
       "2  The feature dimension is 1024, this is a hyper-parameter choice.   \n",
       "\n",
       "   finding_seq  \n",
       "0            2  \n",
       "1            3  \n",
       "2            1  "
      ]
     },
     "execution_count": 4,
     "metadata": {},
     "output_type": "execute_result"
    }
   ],
   "source": [
    "load_modelling_choice_observations(onto2)"
   ]
  },
  {
   "cell_type": "markdown",
   "id": "e87ff1b4-6297-4125-b08d-405fef71bf8f",
   "metadata": {},
   "source": [
    "## Load the Model Selection Observations"
   ]
  },
  {
   "cell_type": "code",
   "execution_count": 5,
   "id": "13d04df7-bda9-4ba9-b9d1-a18667dae02a",
   "metadata": {},
   "outputs": [
    {
     "data": {
      "text/html": [
       "<div>\n",
       "<style scoped>\n",
       "    .dataframe tbody tr th:only-of-type {\n",
       "        vertical-align: middle;\n",
       "    }\n",
       "\n",
       "    .dataframe tbody tr th {\n",
       "        vertical-align: top;\n",
       "    }\n",
       "\n",
       "    .dataframe thead th {\n",
       "        text-align: right;\n",
       "    }\n",
       "</style>\n",
       "<table border=\"1\" class=\"dataframe\">\n",
       "  <thead>\n",
       "    <tr style=\"text-align: right;\">\n",
       "      <th></th>\n",
       "      <th>obs_type</th>\n",
       "      <th>finding</th>\n",
       "      <th>finding_seq</th>\n",
       "    </tr>\n",
       "  </thead>\n",
       "  <tbody>\n",
       "    <tr>\n",
       "      <th>0</th>\n",
       "      <td>Model Selection Observation</td>\n",
       "      <td>Bagging has balanced accuracy: 0.72, sensitivity: 0.53</td>\n",
       "      <td>2</td>\n",
       "    </tr>\n",
       "    <tr>\n",
       "      <th>1</th>\n",
       "      <td>Model Selection Observation</td>\n",
       "      <td>Bagging and Boosting approaches to model development are evaluated.</td>\n",
       "      <td>1</td>\n",
       "    </tr>\n",
       "    <tr>\n",
       "      <th>2</th>\n",
       "      <td>Model Selection Observation</td>\n",
       "      <td>Boosting has balanced accuracy: 0.53, sensitivity: 0.93</td>\n",
       "      <td>3</td>\n",
       "    </tr>\n",
       "  </tbody>\n",
       "</table>\n",
       "</div>"
      ],
      "text/plain": [
       "                      obs_type  \\\n",
       "0  Model Selection Observation   \n",
       "1  Model Selection Observation   \n",
       "2  Model Selection Observation   \n",
       "\n",
       "                                                               finding  \\\n",
       "0               Bagging has balanced accuracy: 0.72, sensitivity: 0.53   \n",
       "1  Bagging and Boosting approaches to model development are evaluated.   \n",
       "2              Boosting has balanced accuracy: 0.53, sensitivity: 0.93   \n",
       "\n",
       "   finding_seq  \n",
       "0            2  \n",
       "1            1  \n",
       "2            3  "
      ]
     },
     "execution_count": 5,
     "metadata": {},
     "output_type": "execute_result"
    }
   ],
   "source": [
    "load_model_selection_observations(onto2)"
   ]
  },
  {
   "cell_type": "code",
   "execution_count": null,
   "id": "6e955b9e-7873-4462-8042-5b564457ecc0",
   "metadata": {},
   "outputs": [],
   "source": []
  },
  {
   "cell_type": "code",
   "execution_count": null,
   "id": "1e1229ed-eb99-4394-82d7-5034f132bbca",
   "metadata": {},
   "outputs": [],
   "source": []
  }
 ],
 "metadata": {
  "kernelspec": {
   "display_name": "Python 3 (ipykernel)",
   "language": "python",
   "name": "python3"
  },
  "language_info": {
   "codemirror_mode": {
    "name": "ipython",
    "version": 3
   },
   "file_extension": ".py",
   "mimetype": "text/x-python",
   "name": "python",
   "nbconvert_exporter": "python",
   "pygments_lexer": "ipython3",
   "version": "3.10.13"
  }
 },
 "nbformat": 4,
 "nbformat_minor": 5
}
