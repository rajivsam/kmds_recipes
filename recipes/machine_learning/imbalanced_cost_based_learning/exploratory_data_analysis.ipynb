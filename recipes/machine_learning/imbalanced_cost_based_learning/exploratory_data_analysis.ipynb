{
 "cells": [
  {
   "cell_type": "code",
   "execution_count": 1,
   "id": "652d865a-8636-4074-a801-0b3ad0be311f",
   "metadata": {},
   "outputs": [
    {
     "name": "stderr",
     "output_type": "stream",
     "text": [
      "/var/folders/fb/t_m5qpcj6qq85rvkh73vbxh40000gn/T/ipykernel_11384/2973209858.py:3: DtypeWarning: Columns (34,35,39) have mixed types. Specify dtype option on import or set low_memory=False.\n",
      "  df = pd.read_csv(fp)\n"
     ]
    }
   ],
   "source": [
    "import pandas as pd\n",
    "fp =\"../../../data/sba_7a_loans.csv\"\n",
    "df = pd.read_csv(fp)"
   ]
  },
  {
   "cell_type": "code",
   "execution_count": 2,
   "id": "eafb11e8-7e05-49f8-ac3a-f47f0d1c8474",
   "metadata": {},
   "outputs": [
    {
     "data": {
      "text/html": [
       "<div>\n",
       "<style scoped>\n",
       "    .dataframe tbody tr th:only-of-type {\n",
       "        vertical-align: middle;\n",
       "    }\n",
       "\n",
       "    .dataframe tbody tr th {\n",
       "        vertical-align: top;\n",
       "    }\n",
       "\n",
       "    .dataframe thead th {\n",
       "        text-align: right;\n",
       "    }\n",
       "</style>\n",
       "<table border=\"1\" class=\"dataframe\">\n",
       "  <thead>\n",
       "    <tr style=\"text-align: right;\">\n",
       "      <th></th>\n",
       "      <th>Attribute</th>\n",
       "      <th>Inferred Type</th>\n",
       "    </tr>\n",
       "  </thead>\n",
       "  <tbody>\n",
       "    <tr>\n",
       "      <th>0</th>\n",
       "      <td>AsOfDate</td>\n",
       "      <td>int64</td>\n",
       "    </tr>\n",
       "    <tr>\n",
       "      <th>1</th>\n",
       "      <td>Program</td>\n",
       "      <td>object</td>\n",
       "    </tr>\n",
       "    <tr>\n",
       "      <th>2</th>\n",
       "      <td>BorrName</td>\n",
       "      <td>object</td>\n",
       "    </tr>\n",
       "    <tr>\n",
       "      <th>3</th>\n",
       "      <td>BorrStreet</td>\n",
       "      <td>object</td>\n",
       "    </tr>\n",
       "    <tr>\n",
       "      <th>4</th>\n",
       "      <td>BorrCity</td>\n",
       "      <td>object</td>\n",
       "    </tr>\n",
       "    <tr>\n",
       "      <th>5</th>\n",
       "      <td>BorrState</td>\n",
       "      <td>object</td>\n",
       "    </tr>\n",
       "    <tr>\n",
       "      <th>6</th>\n",
       "      <td>BorrZip</td>\n",
       "      <td>int64</td>\n",
       "    </tr>\n",
       "    <tr>\n",
       "      <th>7</th>\n",
       "      <td>BankName</td>\n",
       "      <td>object</td>\n",
       "    </tr>\n",
       "    <tr>\n",
       "      <th>8</th>\n",
       "      <td>BankFDICNumber</td>\n",
       "      <td>float64</td>\n",
       "    </tr>\n",
       "    <tr>\n",
       "      <th>9</th>\n",
       "      <td>BankNCUANumber</td>\n",
       "      <td>float64</td>\n",
       "    </tr>\n",
       "    <tr>\n",
       "      <th>10</th>\n",
       "      <td>BankStreet</td>\n",
       "      <td>object</td>\n",
       "    </tr>\n",
       "    <tr>\n",
       "      <th>11</th>\n",
       "      <td>BankCity</td>\n",
       "      <td>object</td>\n",
       "    </tr>\n",
       "    <tr>\n",
       "      <th>12</th>\n",
       "      <td>BankState</td>\n",
       "      <td>object</td>\n",
       "    </tr>\n",
       "    <tr>\n",
       "      <th>13</th>\n",
       "      <td>BankZip</td>\n",
       "      <td>int64</td>\n",
       "    </tr>\n",
       "    <tr>\n",
       "      <th>14</th>\n",
       "      <td>GrossApproval</td>\n",
       "      <td>float64</td>\n",
       "    </tr>\n",
       "    <tr>\n",
       "      <th>15</th>\n",
       "      <td>SBAGuaranteedApproval</td>\n",
       "      <td>float64</td>\n",
       "    </tr>\n",
       "    <tr>\n",
       "      <th>16</th>\n",
       "      <td>ApprovalDate</td>\n",
       "      <td>object</td>\n",
       "    </tr>\n",
       "    <tr>\n",
       "      <th>17</th>\n",
       "      <td>ApprovalFiscalYear</td>\n",
       "      <td>int64</td>\n",
       "    </tr>\n",
       "    <tr>\n",
       "      <th>18</th>\n",
       "      <td>FirstDisbursementDate</td>\n",
       "      <td>object</td>\n",
       "    </tr>\n",
       "    <tr>\n",
       "      <th>19</th>\n",
       "      <td>DeliveryMethod</td>\n",
       "      <td>object</td>\n",
       "    </tr>\n",
       "    <tr>\n",
       "      <th>20</th>\n",
       "      <td>subpgmdesc</td>\n",
       "      <td>object</td>\n",
       "    </tr>\n",
       "    <tr>\n",
       "      <th>21</th>\n",
       "      <td>InitialInterestRate</td>\n",
       "      <td>float64</td>\n",
       "    </tr>\n",
       "    <tr>\n",
       "      <th>22</th>\n",
       "      <td>TermInMonths</td>\n",
       "      <td>int64</td>\n",
       "    </tr>\n",
       "    <tr>\n",
       "      <th>23</th>\n",
       "      <td>NaicsCode</td>\n",
       "      <td>float64</td>\n",
       "    </tr>\n",
       "    <tr>\n",
       "      <th>24</th>\n",
       "      <td>NaicsDescription</td>\n",
       "      <td>object</td>\n",
       "    </tr>\n",
       "    <tr>\n",
       "      <th>25</th>\n",
       "      <td>FranchiseCode</td>\n",
       "      <td>object</td>\n",
       "    </tr>\n",
       "    <tr>\n",
       "      <th>26</th>\n",
       "      <td>FranchiseName</td>\n",
       "      <td>object</td>\n",
       "    </tr>\n",
       "    <tr>\n",
       "      <th>27</th>\n",
       "      <td>ProjectCounty</td>\n",
       "      <td>object</td>\n",
       "    </tr>\n",
       "    <tr>\n",
       "      <th>28</th>\n",
       "      <td>ProjectState</td>\n",
       "      <td>object</td>\n",
       "    </tr>\n",
       "    <tr>\n",
       "      <th>29</th>\n",
       "      <td>SBADistrictOffice</td>\n",
       "      <td>object</td>\n",
       "    </tr>\n",
       "    <tr>\n",
       "      <th>30</th>\n",
       "      <td>CongressionalDistrict</td>\n",
       "      <td>float64</td>\n",
       "    </tr>\n",
       "    <tr>\n",
       "      <th>31</th>\n",
       "      <td>BusinessType</td>\n",
       "      <td>object</td>\n",
       "    </tr>\n",
       "    <tr>\n",
       "      <th>32</th>\n",
       "      <td>BusinessAge</td>\n",
       "      <td>object</td>\n",
       "    </tr>\n",
       "    <tr>\n",
       "      <th>33</th>\n",
       "      <td>LoanStatus</td>\n",
       "      <td>object</td>\n",
       "    </tr>\n",
       "    <tr>\n",
       "      <th>34</th>\n",
       "      <td>PaidInFullDate</td>\n",
       "      <td>object</td>\n",
       "    </tr>\n",
       "    <tr>\n",
       "      <th>35</th>\n",
       "      <td>ChargeOffDate</td>\n",
       "      <td>object</td>\n",
       "    </tr>\n",
       "    <tr>\n",
       "      <th>36</th>\n",
       "      <td>GrossChargeOffAmount</td>\n",
       "      <td>int64</td>\n",
       "    </tr>\n",
       "    <tr>\n",
       "      <th>37</th>\n",
       "      <td>RevolverStatus</td>\n",
       "      <td>int64</td>\n",
       "    </tr>\n",
       "    <tr>\n",
       "      <th>38</th>\n",
       "      <td>JobsSupported</td>\n",
       "      <td>int64</td>\n",
       "    </tr>\n",
       "    <tr>\n",
       "      <th>39</th>\n",
       "      <td>SoldSecMortInd</td>\n",
       "      <td>object</td>\n",
       "    </tr>\n",
       "  </tbody>\n",
       "</table>\n",
       "</div>"
      ],
      "text/plain": [
       "                Attribute Inferred Type\n",
       "0                AsOfDate         int64\n",
       "1                 Program        object\n",
       "2                BorrName        object\n",
       "3              BorrStreet        object\n",
       "4                BorrCity        object\n",
       "5               BorrState        object\n",
       "6                 BorrZip         int64\n",
       "7                BankName        object\n",
       "8          BankFDICNumber       float64\n",
       "9          BankNCUANumber       float64\n",
       "10             BankStreet        object\n",
       "11               BankCity        object\n",
       "12              BankState        object\n",
       "13                BankZip         int64\n",
       "14          GrossApproval       float64\n",
       "15  SBAGuaranteedApproval       float64\n",
       "16           ApprovalDate        object\n",
       "17     ApprovalFiscalYear         int64\n",
       "18  FirstDisbursementDate        object\n",
       "19         DeliveryMethod        object\n",
       "20             subpgmdesc        object\n",
       "21    InitialInterestRate       float64\n",
       "22           TermInMonths         int64\n",
       "23              NaicsCode       float64\n",
       "24       NaicsDescription        object\n",
       "25          FranchiseCode        object\n",
       "26          FranchiseName        object\n",
       "27          ProjectCounty        object\n",
       "28           ProjectState        object\n",
       "29      SBADistrictOffice        object\n",
       "30  CongressionalDistrict       float64\n",
       "31           BusinessType        object\n",
       "32            BusinessAge        object\n",
       "33             LoanStatus        object\n",
       "34         PaidInFullDate        object\n",
       "35          ChargeOffDate        object\n",
       "36   GrossChargeOffAmount         int64\n",
       "37         RevolverStatus         int64\n",
       "38          JobsSupported         int64\n",
       "39         SoldSecMortInd        object"
      ]
     },
     "execution_count": 2,
     "metadata": {},
     "output_type": "execute_result"
    }
   ],
   "source": [
    "df_raw_meta = pd.DataFrame.from_dict({k:v for k, v in df.dtypes.items()}, orient=\"index\").reset_index()\n",
    "df_raw_meta.columns = [\"Attribute\", \"Inferred Type\"]\n",
    "df_raw_meta"
   ]
  },
  {
   "cell_type": "code",
   "execution_count": 3,
   "id": "2acdea5a-1691-4b79-b013-90d6c69236e9",
   "metadata": {},
   "outputs": [],
   "source": [
    "subset_cols = [\"BorrName\", \"BankFDICNumber\", \"BankZip\", \"BorrZip\", \"NaicsCode\", \"FranchiseCode\",\\\n",
    "               \"BusinessAge\", \"LoanStatus\", \"SBAGuaranteedApproval\"]\n",
    "df = df[subset_cols]"
   ]
  },
  {
   "cell_type": "code",
   "execution_count": 4,
   "id": "a2a59f06-ec10-414d-a2a6-03ba6d871418",
   "metadata": {},
   "outputs": [],
   "source": [
    "valid_loan_status_tags = [\"PIF\", \"CHGOFF\"]\n",
    "df = df[df.LoanStatus.isin(valid_loan_status_tags)]"
   ]
  },
  {
   "cell_type": "code",
   "execution_count": 5,
   "id": "19956b67-0d25-4f32-87c8-274124f47c51",
   "metadata": {},
   "outputs": [
    {
     "data": {
      "text/html": [
       "<div>\n",
       "<style scoped>\n",
       "    .dataframe tbody tr th:only-of-type {\n",
       "        vertical-align: middle;\n",
       "    }\n",
       "\n",
       "    .dataframe tbody tr th {\n",
       "        vertical-align: top;\n",
       "    }\n",
       "\n",
       "    .dataframe thead th {\n",
       "        text-align: right;\n",
       "    }\n",
       "</style>\n",
       "<table border=\"1\" class=\"dataframe\">\n",
       "  <thead>\n",
       "    <tr style=\"text-align: right;\">\n",
       "      <th></th>\n",
       "      <th>Attribute</th>\n",
       "      <th>Missing Value Count</th>\n",
       "    </tr>\n",
       "  </thead>\n",
       "  <tbody>\n",
       "    <tr>\n",
       "      <th>0</th>\n",
       "      <td>BankFDICNumber</td>\n",
       "      <td>2122</td>\n",
       "    </tr>\n",
       "    <tr>\n",
       "      <th>1</th>\n",
       "      <td>FranchiseCode</td>\n",
       "      <td>19923</td>\n",
       "    </tr>\n",
       "    <tr>\n",
       "      <th>2</th>\n",
       "      <td>BusinessAge</td>\n",
       "      <td>53</td>\n",
       "    </tr>\n",
       "  </tbody>\n",
       "</table>\n",
       "</div>"
      ],
      "text/plain": [
       "        Attribute  Missing Value Count\n",
       "0  BankFDICNumber                 2122\n",
       "1   FranchiseCode                19923\n",
       "2     BusinessAge                   53"
      ]
     },
     "execution_count": 5,
     "metadata": {},
     "output_type": "execute_result"
    }
   ],
   "source": [
    "df_missing_vals = pd.DataFrame.from_dict({c:df[c].isnull().sum() for c in subset_cols if df[c].isnull().sum() > 0},\\\n",
    "                                         orient=\"index\").reset_index()\n",
    "df_missing_vals.columns = [\"Attribute\", \"Missing Value Count\"]\n",
    "df_missing_vals"
   ]
  },
  {
   "cell_type": "code",
   "execution_count": 6,
   "id": "b3ca5314-9a72-4a06-b7e5-f7027efc904d",
   "metadata": {},
   "outputs": [],
   "source": [
    "for a in df_missing_vals[\"Attribute\"]:\n",
    "    df[a] = df[a].fillna(\"Not Applicable\")"
   ]
  },
  {
   "cell_type": "code",
   "execution_count": 7,
   "id": "1db32c47-b08d-442b-82c5-8b7482f168e8",
   "metadata": {},
   "outputs": [
    {
     "data": {
      "text/plain": [
       "{}"
      ]
     },
     "execution_count": 7,
     "metadata": {},
     "output_type": "execute_result"
    }
   ],
   "source": [
    "{c:df[c].isnull().sum() for c in subset_cols if df[c].isnull().sum() > 0}"
   ]
  },
  {
   "cell_type": "code",
   "execution_count": 8,
   "id": "720a8e40-c527-4a41-8415-2d07793d40af",
   "metadata": {},
   "outputs": [],
   "source": [
    "df[\"BankFDICNumber\"] = df[\"BankFDICNumber\"].apply(lambda x: x if x == \"Not Applicable\" else int(x))\n",
    "dtypes_toset = {\"BorrZip\": 'str', \"BankZip\": \"str\", \"BankFDICNumber\": 'str',\\\n",
    "                \"NaicsCode\": 'str', \"FranchiseCode\": 'str', \\\n",
    "                \"BusinessAge\" : 'str', \"LoanStatus\": 'str', \"SBAGuaranteedApproval\" : float}\n",
    "df = df.astype(dtypes_toset)\n",
    "                "
   ]
  },
  {
   "cell_type": "code",
   "execution_count": 9,
   "id": "9f362272-9456-4216-bbb0-734448c9a16e",
   "metadata": {},
   "outputs": [
    {
     "data": {
      "text/html": [
       "<div>\n",
       "<style scoped>\n",
       "    .dataframe tbody tr th:only-of-type {\n",
       "        vertical-align: middle;\n",
       "    }\n",
       "\n",
       "    .dataframe tbody tr th {\n",
       "        vertical-align: top;\n",
       "    }\n",
       "\n",
       "    .dataframe thead th {\n",
       "        text-align: right;\n",
       "    }\n",
       "</style>\n",
       "<table border=\"1\" class=\"dataframe\">\n",
       "  <thead>\n",
       "    <tr style=\"text-align: right;\">\n",
       "      <th></th>\n",
       "      <th>Attribute</th>\n",
       "      <th>Unique_Values</th>\n",
       "    </tr>\n",
       "  </thead>\n",
       "  <tbody>\n",
       "    <tr>\n",
       "      <th>0</th>\n",
       "      <td>BorrZip</td>\n",
       "      <td>9057</td>\n",
       "    </tr>\n",
       "    <tr>\n",
       "      <th>1</th>\n",
       "      <td>BankZip</td>\n",
       "      <td>1169</td>\n",
       "    </tr>\n",
       "    <tr>\n",
       "      <th>2</th>\n",
       "      <td>BankFDICNumber</td>\n",
       "      <td>1116</td>\n",
       "    </tr>\n",
       "    <tr>\n",
       "      <th>3</th>\n",
       "      <td>NaicsCode</td>\n",
       "      <td>860</td>\n",
       "    </tr>\n",
       "    <tr>\n",
       "      <th>4</th>\n",
       "      <td>FranchiseCode</td>\n",
       "      <td>979</td>\n",
       "    </tr>\n",
       "    <tr>\n",
       "      <th>5</th>\n",
       "      <td>BusinessAge</td>\n",
       "      <td>6</td>\n",
       "    </tr>\n",
       "    <tr>\n",
       "      <th>6</th>\n",
       "      <td>LoanStatus</td>\n",
       "      <td>2</td>\n",
       "    </tr>\n",
       "  </tbody>\n",
       "</table>\n",
       "</div>"
      ],
      "text/plain": [
       "        Attribute  Unique_Values\n",
       "0         BorrZip           9057\n",
       "1         BankZip           1169\n",
       "2  BankFDICNumber           1116\n",
       "3       NaicsCode            860\n",
       "4   FranchiseCode            979\n",
       "5     BusinessAge              6\n",
       "6      LoanStatus              2"
      ]
     },
     "execution_count": 9,
     "metadata": {},
     "output_type": "execute_result"
    }
   ],
   "source": [
    "df_catvars = pd.DataFrame.from_dict({k: df[k].nunique() for k, v in dtypes_toset.items() if v == 'str'}, orient=\"index\").reset_index()\n",
    "df_catvars.columns = [\"Attribute\", \"Unique_Values\"]\n",
    "df_catvars"
   ]
  },
  {
   "cell_type": "code",
   "execution_count": 10,
   "id": "f104774b-0c4b-4622-a263-c344f65b29c0",
   "metadata": {},
   "outputs": [
    {
     "data": {
      "text/plain": [
       "13187"
      ]
     },
     "execution_count": 10,
     "metadata": {},
     "output_type": "execute_result"
    }
   ],
   "source": [
    "df_catvars[df_catvars.Attribute != \"LoanStatus\"].Unique_Values.sum()"
   ]
  },
  {
   "cell_type": "code",
   "execution_count": 11,
   "id": "b6450ddc-2f73-4d3c-a6cc-18e64ad22437",
   "metadata": {},
   "outputs": [
    {
     "data": {
      "text/plain": [
       "LoanStatus\n",
       "PIF       21907\n",
       "CHGOFF     1054\n",
       "Name: count, dtype: int64"
      ]
     },
     "execution_count": 11,
     "metadata": {},
     "output_type": "execute_result"
    }
   ],
   "source": [
    "df.LoanStatus.value_counts()"
   ]
  },
  {
   "cell_type": "code",
   "execution_count": 12,
   "id": "fb9afb74-c7bf-4859-bf4b-61c41a048df6",
   "metadata": {},
   "outputs": [
    {
     "data": {
      "text/plain": [
       "0.048"
      ]
     },
     "execution_count": 12,
     "metadata": {},
     "output_type": "execute_result"
    }
   ],
   "source": [
    "(df.LoanStatus.value_counts()[\"CHGOFF\"]/df.LoanStatus.value_counts()[\"PIF\"]).round(3)"
   ]
  },
  {
   "cell_type": "code",
   "execution_count": 13,
   "id": "ad1c4d4c-d60d-472d-b933-e7226534ef99",
   "metadata": {},
   "outputs": [],
   "source": [
    "from sklearn.model_selection import train_test_split\n",
    "\n",
    "train, test = train_test_split(df, test_size=0.2)"
   ]
  },
  {
   "cell_type": "code",
   "execution_count": 14,
   "id": "55eb1c9b-cc7e-40fe-bcb6-eb27d509dc84",
   "metadata": {},
   "outputs": [],
   "source": [
    "fptrain = \"../../../data/sba_7a_loans_train.parquet\"\n",
    "fptest = \"../../../data/sba_7a_loans_test.parquet\"\n",
    "train.to_parquet(fptrain, index=False)\n",
    "test.to_parquet(fptest, index=False)"
   ]
  },
  {
   "cell_type": "code",
   "execution_count": 15,
   "id": "1349d422-2e4e-48a2-9d2a-2e619d6a06a0",
   "metadata": {},
   "outputs": [],
   "source": [
    "from kmds.ontology.kmds_ontology import *\n",
    "from kmds.tagging.tag_types import ExploratoryTags\n",
    "\n",
    "kaw = KnowledgeExtractionExperimentationWorkflow(\"sba_7a_loan_chargeoff_modelling\", namespace=onto)"
   ]
  },
  {
   "cell_type": "code",
   "execution_count": 16,
   "id": "13845fc9-5574-4323-a14f-376f0e56812a",
   "metadata": {},
   "outputs": [],
   "source": [
    "exp_obs_list = []\n",
    "observation_count :int = 1\n",
    "e1 = ExploratoryObservation(namespace=onto)"
   ]
  },
  {
   "cell_type": "code",
   "execution_count": 17,
   "id": "4f734266-3a86-455e-a489-18a1f1ce4b39",
   "metadata": {},
   "outputs": [],
   "source": [
    "e1.finding = \"Only {lst} attributes from the raw data file are used in modeling\".format(lst=subset_cols)\n",
    "e1.finding_sequence = observation_count\n",
    "e1.exploratory_observation_type = ExploratoryTags.RELEVANCE_OBSERVATION.value\n",
    "exp_obs_list.append(e1)"
   ]
  },
  {
   "cell_type": "code",
   "execution_count": 18,
   "id": "197888bf-48d9-4dc7-96fc-81725f6a2a6e",
   "metadata": {},
   "outputs": [],
   "source": [
    "observation_count += 1\n",
    "e2 = ExploratoryObservation(namespace=onto)\n",
    "e2.finding = \"Attributes {lst} have missing values\".format(lst=df_missing_vals[\"Attribute\"].values.tolist())\n",
    "e2.finding_sequence = observation_count\n",
    "e2.exploratory_observation_type = ExploratoryTags.DATA_QUALITY_OBSERVATION.value\n",
    "exp_obs_list.append(e2)"
   ]
  },
  {
   "cell_type": "code",
   "execution_count": 19,
   "id": "1e9b28a7-36be-40c5-b493-b4f16aea6d8e",
   "metadata": {},
   "outputs": [],
   "source": [
    "observation_count += 1\n",
    "e3 = ExploratoryObservation(namespace=onto)\n",
    "e3.finding = \"Attributes with missing values are replaced with the string Not Applicable\"\n",
    "e3.finding_sequence = observation_count\n",
    "e3.exploratory_observation_type = ExploratoryTags.DATA_QUALITY_OBSERVATION.value\n",
    "exp_obs_list.append(e3)"
   ]
  },
  {
   "cell_type": "code",
   "execution_count": 20,
   "id": "1b7ccd72-20f2-4fb1-be5e-5fbd3a759ad4",
   "metadata": {},
   "outputs": [],
   "source": [
    "observation_count += 1\n",
    "e4 = ExploratoryObservation(namespace=onto)\n",
    "e4.finding = \"Cardinality of the categorical attribute space is very large, {cardval}, so need to use some kind of \\\n",
    "dimensionality reduction. Cannot one hot encode this size\".format(cardval=\"13187\")\n",
    "e4.finding_sequence = observation_count\n",
    "e4.exploratory_observation_type = ExploratoryTags.DATA_QUALITY_OBSERVATION.value\n",
    "exp_obs_list.append(e4)"
   ]
  },
  {
   "cell_type": "code",
   "execution_count": 21,
   "id": "11d582c8-4fe1-423b-b605-2346992c1531",
   "metadata": {},
   "outputs": [],
   "source": [
    "observation_count += 1\n",
    "e4 = ExploratoryObservation(namespace=onto)\n",
    "e4.finding = \"The class attribute is imbalanced, charge offs are less than five percent ({val})\".format(val=0.048)\n",
    "e4.finding_sequence = observation_count\n",
    "e4.exploratory_observation_type = ExploratoryTags.DATA_QUALITY_OBSERVATION.value\n",
    "exp_obs_list.append(e4)"
   ]
  },
  {
   "cell_type": "code",
   "execution_count": 22,
   "id": "b1e7c748-42c1-4460-8e3b-79ce86c19026",
   "metadata": {},
   "outputs": [],
   "source": [
    "observation_count += 1\n",
    "e5 = ExploratoryObservation(namespace=onto)\n",
    "e5.finding = \"{val} percent of the data is kept for model evaluation, the rest is used for model building.\".format(val=0.2)\n",
    "e5.finding_sequence = observation_count\n",
    "e5.exploratory_observation_type = ExploratoryTags.RELEVANCE_OBSERVATION.value\n",
    "exp_obs_list.append(e5)"
   ]
  },
  {
   "cell_type": "code",
   "execution_count": 23,
   "id": "9064cade-08b9-4ddf-a918-bf570ef37ca1",
   "metadata": {},
   "outputs": [],
   "source": [
    "kaw.has_exploratory_observations = exp_obs_list\n",
    "from owlready2 import *\n",
    "KNOWLEDGE_BASE = \"sba_7a_loan_chargeoff_modelling.xml\"\n",
    "onto.save(file=KNOWLEDGE_BASE, format=\"rdfxml\")"
   ]
  },
  {
   "cell_type": "code",
   "execution_count": null,
   "id": "165fcc23-1560-4bae-8b8e-6e5ae79629cd",
   "metadata": {},
   "outputs": [],
   "source": []
  }
 ],
 "metadata": {
  "kernelspec": {
   "display_name": "Python 3 (ipykernel)",
   "language": "python",
   "name": "python3"
  },
  "language_info": {
   "codemirror_mode": {
    "name": "ipython",
    "version": 3
   },
   "file_extension": ".py",
   "mimetype": "text/x-python",
   "name": "python",
   "nbconvert_exporter": "python",
   "pygments_lexer": "ipython3",
   "version": "3.10.13"
  }
 },
 "nbformat": 4,
 "nbformat_minor": 5
}
