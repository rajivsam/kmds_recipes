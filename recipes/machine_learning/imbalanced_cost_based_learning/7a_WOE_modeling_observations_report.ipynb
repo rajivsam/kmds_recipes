{
 "cells": [
  {
   "cell_type": "markdown",
   "id": "d08c018c-9847-458a-a3d9-3544aad892f1",
   "metadata": {},
   "source": [
    "## Specify the Knowledge Base to use"
   ]
  },
  {
   "cell_type": "code",
   "execution_count": 1,
   "id": "a43dcda6-5670-4ff8-8713-68dfad4fc06d",
   "metadata": {},
   "outputs": [],
   "source": [
    "import kmds\n",
    "from kmds.tagging.tag_types import DataRepresentationTags\n",
    "from owlready2 import *\n",
    "from kmds.utils.load_utils import *\n",
    "from kmds.utils.path_utils import get_package_kb_path\n",
    "KNOWLEDGE_BASE = \"WOE_modeling_7a_charge_offs.xml\"\n",
    "onto2 :Ontology = load_kb(KNOWLEDGE_BASE)\n",
    "import pandas as pd\n",
    "pd.options.display.max_colwidth = 500"
   ]
  },
  {
   "cell_type": "markdown",
   "id": "e87ff1b4-6297-4125-b08d-405fef71bf8f",
   "metadata": {},
   "source": [
    "## Load the Model Selection Observations"
   ]
  },
  {
   "cell_type": "code",
   "execution_count": 2,
   "id": "13d04df7-bda9-4ba9-b9d1-a18667dae02a",
   "metadata": {},
   "outputs": [
    {
     "data": {
      "text/html": [
       "<div>\n",
       "<style scoped>\n",
       "    .dataframe tbody tr th:only-of-type {\n",
       "        vertical-align: middle;\n",
       "    }\n",
       "\n",
       "    .dataframe tbody tr th {\n",
       "        vertical-align: top;\n",
       "    }\n",
       "\n",
       "    .dataframe thead th {\n",
       "        text-align: right;\n",
       "    }\n",
       "</style>\n",
       "<table border=\"1\" class=\"dataframe\">\n",
       "  <thead>\n",
       "    <tr style=\"text-align: right;\">\n",
       "      <th></th>\n",
       "      <th>obs_type</th>\n",
       "      <th>finding</th>\n",
       "      <th>finding_seq</th>\n",
       "    </tr>\n",
       "  </thead>\n",
       "  <tbody>\n",
       "    <tr>\n",
       "      <th>0</th>\n",
       "      <td>Model Selection Observation</td>\n",
       "      <td>Logistic Regression using WOE encoding features was evaluated</td>\n",
       "      <td>1</td>\n",
       "    </tr>\n",
       "  </tbody>\n",
       "</table>\n",
       "</div>"
      ],
      "text/plain": [
       "                      obs_type  \\\n",
       "0  Model Selection Observation   \n",
       "\n",
       "                                                         finding  finding_seq  \n",
       "0  Logistic Regression using WOE encoding features was evaluated            1  "
      ]
     },
     "execution_count": 2,
     "metadata": {},
     "output_type": "execute_result"
    }
   ],
   "source": [
    "load_model_selection_observations(onto2)"
   ]
  },
  {
   "cell_type": "markdown",
   "id": "985d674d-42b8-48d4-92b0-9b40e0b47dc0",
   "metadata": {},
   "source": [
    "## Load the Modelling Choice Observations"
   ]
  },
  {
   "cell_type": "code",
   "execution_count": 3,
   "id": "beabd768-9da7-48b4-bc31-66c287ae5616",
   "metadata": {},
   "outputs": [
    {
     "data": {
      "text/html": [
       "<div>\n",
       "<style scoped>\n",
       "    .dataframe tbody tr th:only-of-type {\n",
       "        vertical-align: middle;\n",
       "    }\n",
       "\n",
       "    .dataframe tbody tr th {\n",
       "        vertical-align: top;\n",
       "    }\n",
       "\n",
       "    .dataframe thead th {\n",
       "        text-align: right;\n",
       "    }\n",
       "</style>\n",
       "<table border=\"1\" class=\"dataframe\">\n",
       "  <thead>\n",
       "    <tr style=\"text-align: right;\">\n",
       "      <th></th>\n",
       "      <th>obs_type</th>\n",
       "      <th>finding</th>\n",
       "      <th>finding_seq</th>\n",
       "    </tr>\n",
       "  </thead>\n",
       "  <tbody>\n",
       "    <tr>\n",
       "      <th>0</th>\n",
       "      <td>Modelling Choice Observation</td>\n",
       "      <td>An interval of 50 percent of the optimal threshold value on either direction is explored as part of threshold moving.</td>\n",
       "      <td>4</td>\n",
       "    </tr>\n",
       "    <tr>\n",
       "      <th>1</th>\n",
       "      <td>Modelling Choice Observation</td>\n",
       "      <td>Model Evaluation is done using 5 fold cross validation and with L2 regularization</td>\n",
       "      <td>1</td>\n",
       "    </tr>\n",
       "    <tr>\n",
       "      <th>2</th>\n",
       "      <td>Modelling Choice Observation</td>\n",
       "      <td>Isotonic Regression is used for model recalibration.</td>\n",
       "      <td>2</td>\n",
       "    </tr>\n",
       "    <tr>\n",
       "      <th>3</th>\n",
       "      <td>Modelling Choice Observation</td>\n",
       "      <td>Maximal Geometric Mean from ROC curve plot is used to prime the threshold moving experiment</td>\n",
       "      <td>3</td>\n",
       "    </tr>\n",
       "  </tbody>\n",
       "</table>\n",
       "</div>"
      ],
      "text/plain": [
       "                       obs_type  \\\n",
       "0  Modelling Choice Observation   \n",
       "1  Modelling Choice Observation   \n",
       "2  Modelling Choice Observation   \n",
       "3  Modelling Choice Observation   \n",
       "\n",
       "                                                                                                                 finding  \\\n",
       "0  An interval of 50 percent of the optimal threshold value on either direction is explored as part of threshold moving.   \n",
       "1                                      Model Evaluation is done using 5 fold cross validation and with L2 regularization   \n",
       "2                                                                   Isotonic Regression is used for model recalibration.   \n",
       "3                            Maximal Geometric Mean from ROC curve plot is used to prime the threshold moving experiment   \n",
       "\n",
       "   finding_seq  \n",
       "0            4  \n",
       "1            1  \n",
       "2            2  \n",
       "3            3  "
      ]
     },
     "execution_count": 3,
     "metadata": {},
     "output_type": "execute_result"
    }
   ],
   "source": [
    "load_modelling_choice_observations(onto2)"
   ]
  },
  {
   "cell_type": "markdown",
   "id": "e3025591-434f-4cef-959c-4546b1b2e48c",
   "metadata": {},
   "source": [
    "## Load the Dependency for this Workflow\n",
    "This is done programatically here. In the very near future, a convinient load api similar to what is available for observations wull be provided"
   ]
  },
  {
   "cell_type": "code",
   "execution_count": 4,
   "id": "eb288f83-ac20-45f5-89e1-c5bea85b0fba",
   "metadata": {},
   "outputs": [],
   "source": [
    "with onto2:\n",
    "    workflow_instances = Workflow.instances()\n",
    "    dependent_wf = workflow_instances[0].depends_on[0]"
   ]
  },
  {
   "cell_type": "markdown",
   "id": "92ac674c-fd37-4fb6-8f95-af36d9adae44",
   "metadata": {},
   "source": [
    "### We get the fully qualified name \n",
    "The dependency is what follows the # sign. This is the feature engineering workflow that developed the data representation for modeling"
   ]
  },
  {
   "cell_type": "code",
   "execution_count": 5,
   "id": "ba20edf6-330f-4bf6-8b30-930b12216b98",
   "metadata": {},
   "outputs": [
    {
     "data": {
      "text/plain": [
       "'http://test.org/kmds/kmds.owl#sba_7a_loans_WOE_DR_dev'"
      ]
     },
     "execution_count": 5,
     "metadata": {},
     "output_type": "execute_result"
    }
   ],
   "source": [
    "dependent_wf"
   ]
  }
 ],
 "metadata": {
  "kernelspec": {
   "display_name": "Python 3 (ipykernel)",
   "language": "python",
   "name": "python3"
  },
  "language_info": {
   "codemirror_mode": {
    "name": "ipython",
    "version": 3
   },
   "file_extension": ".py",
   "mimetype": "text/x-python",
   "name": "python",
   "nbconvert_exporter": "python",
   "pygments_lexer": "ipython3",
   "version": "3.10.13"
  }
 },
 "nbformat": 4,
 "nbformat_minor": 5
}
