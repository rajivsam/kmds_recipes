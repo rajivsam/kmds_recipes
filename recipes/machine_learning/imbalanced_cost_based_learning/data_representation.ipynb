{
 "cells": [
  {
   "cell_type": "code",
   "execution_count": 1,
   "id": "9259d5e5-3a86-4375-a44b-5e94bfbf5f3b",
   "metadata": {},
   "outputs": [],
   "source": [
    "import pandas as pd\n",
    "fptrain = \"../../../data/sba_7a_loans_train.parquet\"\n",
    "fptest = \"../../../data/sba_7a_loans_test.parquet\"\n",
    "df_train = pd.read_parquet(fptrain)"
   ]
  },
  {
   "cell_type": "code",
   "execution_count": 2,
   "id": "465a539d-4542-4875-b29b-d7968cd80b0d",
   "metadata": {},
   "outputs": [
    {
     "data": {
      "text/html": [
       "<div>\n",
       "<style scoped>\n",
       "    .dataframe tbody tr th:only-of-type {\n",
       "        vertical-align: middle;\n",
       "    }\n",
       "\n",
       "    .dataframe tbody tr th {\n",
       "        vertical-align: top;\n",
       "    }\n",
       "\n",
       "    .dataframe thead th {\n",
       "        text-align: right;\n",
       "    }\n",
       "</style>\n",
       "<table border=\"1\" class=\"dataframe\">\n",
       "  <thead>\n",
       "    <tr style=\"text-align: right;\">\n",
       "      <th></th>\n",
       "      <th>BorrName</th>\n",
       "      <th>BankFDICNumber</th>\n",
       "      <th>BankZip</th>\n",
       "      <th>BorrZip</th>\n",
       "      <th>NaicsCode</th>\n",
       "      <th>FranchiseCode</th>\n",
       "      <th>BusinessAge</th>\n",
       "      <th>LoanStatus</th>\n",
       "      <th>SBAGuaranteedApproval</th>\n",
       "    </tr>\n",
       "  </thead>\n",
       "  <tbody>\n",
       "    <tr>\n",
       "      <th>0</th>\n",
       "      <td>Brothers Freight Management L</td>\n",
       "      <td>Not Applicable</td>\n",
       "      <td>87109</td>\n",
       "      <td>14580</td>\n",
       "      <td>484121.0</td>\n",
       "      <td>Not Applicable</td>\n",
       "      <td>Change of Ownership</td>\n",
       "      <td>PIF</td>\n",
       "      <td>3525000.0</td>\n",
       "    </tr>\n",
       "    <tr>\n",
       "      <th>1</th>\n",
       "      <td>EASY SPACE STORAGE LLC</td>\n",
       "      <td>58665</td>\n",
       "      <td>28403</td>\n",
       "      <td>65401</td>\n",
       "      <td>531130.0</td>\n",
       "      <td>Not Applicable</td>\n",
       "      <td>Change of Ownership</td>\n",
       "      <td>PIF</td>\n",
       "      <td>654750.0</td>\n",
       "    </tr>\n",
       "    <tr>\n",
       "      <th>2</th>\n",
       "      <td>H&amp;W Endeavors Inc.</td>\n",
       "      <td>6560</td>\n",
       "      <td>43215</td>\n",
       "      <td>77493</td>\n",
       "      <td>449121.0</td>\n",
       "      <td>S0659</td>\n",
       "      <td>Startup, Loan Funds will Open Business</td>\n",
       "      <td>PIF</td>\n",
       "      <td>150000.0</td>\n",
       "    </tr>\n",
       "    <tr>\n",
       "      <th>3</th>\n",
       "      <td>Imagine Technology Group LLC</td>\n",
       "      <td>4767</td>\n",
       "      <td>80202</td>\n",
       "      <td>85226</td>\n",
       "      <td>423420.0</td>\n",
       "      <td>Not Applicable</td>\n",
       "      <td>Existing or more than 2 years old</td>\n",
       "      <td>PIF</td>\n",
       "      <td>3052500.0</td>\n",
       "    </tr>\n",
       "    <tr>\n",
       "      <th>4</th>\n",
       "      <td>Zorn Fruherziehung LLC</td>\n",
       "      <td>33555</td>\n",
       "      <td>33880</td>\n",
       "      <td>2301</td>\n",
       "      <td>624410.0</td>\n",
       "      <td>Not Applicable</td>\n",
       "      <td>Startup, Loan Funds will Open Business</td>\n",
       "      <td>PIF</td>\n",
       "      <td>187500.0</td>\n",
       "    </tr>\n",
       "    <tr>\n",
       "      <th>...</th>\n",
       "      <td>...</td>\n",
       "      <td>...</td>\n",
       "      <td>...</td>\n",
       "      <td>...</td>\n",
       "      <td>...</td>\n",
       "      <td>...</td>\n",
       "      <td>...</td>\n",
       "      <td>...</td>\n",
       "      <td>...</td>\n",
       "    </tr>\n",
       "    <tr>\n",
       "      <th>18363</th>\n",
       "      <td>ABC Wonderful LLC</td>\n",
       "      <td>23086</td>\n",
       "      <td>91801</td>\n",
       "      <td>90630</td>\n",
       "      <td>721110.0</td>\n",
       "      <td>Not Applicable</td>\n",
       "      <td>Existing or more than 2 years old</td>\n",
       "      <td>PIF</td>\n",
       "      <td>1800000.0</td>\n",
       "    </tr>\n",
       "    <tr>\n",
       "      <th>18364</th>\n",
       "      <td>Get After It LLC</td>\n",
       "      <td>13421</td>\n",
       "      <td>68506</td>\n",
       "      <td>80525</td>\n",
       "      <td>713940.0</td>\n",
       "      <td>S0024</td>\n",
       "      <td>Existing or more than 2 years old</td>\n",
       "      <td>PIF</td>\n",
       "      <td>57375.0</td>\n",
       "    </tr>\n",
       "    <tr>\n",
       "      <th>18365</th>\n",
       "      <td>BARGAINS &amp;amp; BUNDLES LLC</td>\n",
       "      <td>18409</td>\n",
       "      <td>19808</td>\n",
       "      <td>8753</td>\n",
       "      <td>561990.0</td>\n",
       "      <td>Not Applicable</td>\n",
       "      <td>Existing or more than 2 years old</td>\n",
       "      <td>PIF</td>\n",
       "      <td>37500.0</td>\n",
       "    </tr>\n",
       "    <tr>\n",
       "      <th>18366</th>\n",
       "      <td>T&amp;Z Logistics Inc</td>\n",
       "      <td>58158</td>\n",
       "      <td>60062</td>\n",
       "      <td>60008</td>\n",
       "      <td>484121.0</td>\n",
       "      <td>Not Applicable</td>\n",
       "      <td>Existing or more than 2 years old</td>\n",
       "      <td>PIF</td>\n",
       "      <td>330300.0</td>\n",
       "    </tr>\n",
       "    <tr>\n",
       "      <th>18367</th>\n",
       "      <td>Cash and Clive LLC</td>\n",
       "      <td>23621</td>\n",
       "      <td>1201</td>\n",
       "      <td>8204</td>\n",
       "      <td>448120.0</td>\n",
       "      <td>Not Applicable</td>\n",
       "      <td>Existing or more than 2 years old</td>\n",
       "      <td>PIF</td>\n",
       "      <td>1260000.0</td>\n",
       "    </tr>\n",
       "  </tbody>\n",
       "</table>\n",
       "<p>18368 rows × 9 columns</p>\n",
       "</div>"
      ],
      "text/plain": [
       "                            BorrName  BankFDICNumber BankZip BorrZip  \\\n",
       "0      Brothers Freight Management L  Not Applicable   87109   14580   \n",
       "1             EASY SPACE STORAGE LLC           58665   28403   65401   \n",
       "2                 H&W Endeavors Inc.            6560   43215   77493   \n",
       "3       Imagine Technology Group LLC            4767   80202   85226   \n",
       "4             Zorn Fruherziehung LLC           33555   33880    2301   \n",
       "...                              ...             ...     ...     ...   \n",
       "18363              ABC Wonderful LLC           23086   91801   90630   \n",
       "18364               Get After It LLC           13421   68506   80525   \n",
       "18365     BARGAINS &amp; BUNDLES LLC           18409   19808    8753   \n",
       "18366              T&Z Logistics Inc           58158   60062   60008   \n",
       "18367             Cash and Clive LLC           23621    1201    8204   \n",
       "\n",
       "      NaicsCode   FranchiseCode                             BusinessAge  \\\n",
       "0      484121.0  Not Applicable                     Change of Ownership   \n",
       "1      531130.0  Not Applicable                     Change of Ownership   \n",
       "2      449121.0           S0659  Startup, Loan Funds will Open Business   \n",
       "3      423420.0  Not Applicable       Existing or more than 2 years old   \n",
       "4      624410.0  Not Applicable  Startup, Loan Funds will Open Business   \n",
       "...         ...             ...                                     ...   \n",
       "18363  721110.0  Not Applicable       Existing or more than 2 years old   \n",
       "18364  713940.0           S0024       Existing or more than 2 years old   \n",
       "18365  561990.0  Not Applicable       Existing or more than 2 years old   \n",
       "18366  484121.0  Not Applicable       Existing or more than 2 years old   \n",
       "18367  448120.0  Not Applicable       Existing or more than 2 years old   \n",
       "\n",
       "      LoanStatus  SBAGuaranteedApproval  \n",
       "0            PIF              3525000.0  \n",
       "1            PIF               654750.0  \n",
       "2            PIF               150000.0  \n",
       "3            PIF              3052500.0  \n",
       "4            PIF               187500.0  \n",
       "...          ...                    ...  \n",
       "18363        PIF              1800000.0  \n",
       "18364        PIF                57375.0  \n",
       "18365        PIF                37500.0  \n",
       "18366        PIF               330300.0  \n",
       "18367        PIF              1260000.0  \n",
       "\n",
       "[18368 rows x 9 columns]"
      ]
     },
     "execution_count": 2,
     "metadata": {},
     "output_type": "execute_result"
    }
   ],
   "source": [
    "df_train"
   ]
  },
  {
   "cell_type": "code",
   "execution_count": 3,
   "id": "2de4c8d9-b96c-48cd-b219-8d1ce300cfa5",
   "metadata": {},
   "outputs": [],
   "source": [
    "y_label_train = df_train[\"LoanStatus\"].apply(lambda x: 0 if x == 'PIF' else 1)"
   ]
  },
  {
   "cell_type": "code",
   "execution_count": 4,
   "id": "53f9aa2d-21b3-42a5-9564-6870b75c36db",
   "metadata": {},
   "outputs": [
    {
     "data": {
      "text/plain": [
       "count    1.836800e+04\n",
       "mean     4.099987e+05\n",
       "std      7.072141e+05\n",
       "min      8.000000e+02\n",
       "25%      2.754750e+04\n",
       "50%      1.275000e+05\n",
       "75%      4.302225e+05\n",
       "max      4.500000e+06\n",
       "Name: SBAGuaranteedApproval, dtype: float64"
      ]
     },
     "execution_count": 4,
     "metadata": {},
     "output_type": "execute_result"
    }
   ],
   "source": [
    "df_train[\"SBAGuaranteedApproval\"].describe()"
   ]
  },
  {
   "cell_type": "code",
   "execution_count": 5,
   "id": "b32e3625-91b8-48b0-b3ca-9e172564ea09",
   "metadata": {},
   "outputs": [
    {
     "data": {
      "text/plain": [
       "0        0\n",
       "1        0\n",
       "2        0\n",
       "3        0\n",
       "4        0\n",
       "        ..\n",
       "18363    0\n",
       "18364    0\n",
       "18365    0\n",
       "18366    0\n",
       "18367    0\n",
       "Name: LoanStatus, Length: 18368, dtype: int64"
      ]
     },
     "execution_count": 5,
     "metadata": {},
     "output_type": "execute_result"
    }
   ],
   "source": [
    "y_label_train"
   ]
  },
  {
   "cell_type": "code",
   "execution_count": 6,
   "id": "1ceb30cf-f286-4471-9ca1-9db34550344f",
   "metadata": {},
   "outputs": [],
   "source": [
    "pred_cols = df_train.columns.tolist()\n",
    "pred_cols.remove(\"LoanStatus\")\n",
    "pred_cols.remove(\"SBAGuaranteedApproval\")"
   ]
  },
  {
   "cell_type": "code",
   "execution_count": 7,
   "id": "b1af2a27-0b1d-49c5-95cd-8d553e80e74d",
   "metadata": {},
   "outputs": [
    {
     "data": {
      "text/plain": [
       "['BorrName',\n",
       " 'BankFDICNumber',\n",
       " 'BankZip',\n",
       " 'BorrZip',\n",
       " 'NaicsCode',\n",
       " 'FranchiseCode',\n",
       " 'BusinessAge']"
      ]
     },
     "execution_count": 7,
     "metadata": {},
     "output_type": "execute_result"
    }
   ],
   "source": [
    "pred_cols"
   ]
  },
  {
   "cell_type": "code",
   "execution_count": 8,
   "id": "bb136007-1789-485a-a209-704ef71e6987",
   "metadata": {},
   "outputs": [
    {
     "data": {
      "text/plain": [
       "0        PIF\n",
       "1        PIF\n",
       "2        PIF\n",
       "3        PIF\n",
       "4        PIF\n",
       "        ... \n",
       "18363    PIF\n",
       "18364    PIF\n",
       "18365    PIF\n",
       "18366    PIF\n",
       "18367    PIF\n",
       "Name: LoanStatus, Length: 18368, dtype: object"
      ]
     },
     "execution_count": 8,
     "metadata": {},
     "output_type": "execute_result"
    }
   ],
   "source": [
    "df_train[\"LoanStatus\"]"
   ]
  },
  {
   "cell_type": "code",
   "execution_count": 9,
   "id": "075ec1a9-85a7-4d51-8315-2a49417498b2",
   "metadata": {},
   "outputs": [],
   "source": [
    "df_pred_train = df_train[pred_cols]\n",
    "df_pred_train = df_pred_train.astype({c: \"str\" for c in pred_cols})\n",
    "df_test = pd.read_parquet(fptest)\n",
    "y_label_test = df_test[\"LoanStatus\"].apply(lambda x: 0 if x == 'PIF' else 1)\n",
    "df_pred_test = df_test[pred_cols]\n",
    "df_pred_test = df_pred_test.astype({c: \"str\" for c in pred_cols})"
   ]
  },
  {
   "cell_type": "markdown",
   "id": "fd229821-eecd-4265-8aeb-04686a0f8b6f",
   "metadata": {},
   "source": [
    "### Note: see [this documentation](https://scikit-learn.org/stable/modules/generated/sklearn.feature_extraction.FeatureHasher.html#:~:text=Implements%20feature%20hashing%2C%20aka%20the,column%20corresponding%20to%20a%20name.) \n",
    "for how to set up the input for feature hasher"
   ]
  },
  {
   "cell_type": "code",
   "execution_count": 10,
   "id": "b1508c2f-9f30-468e-9652-7b8a3371954a",
   "metadata": {},
   "outputs": [],
   "source": [
    "feat_list_train = []\n",
    "for index, row in df_pred_train.iterrows():\n",
    "    arow = []\n",
    "    for c in pred_cols:\n",
    "        arow.append(row[c])\n",
    "    feat_list_train.append(arow)\n",
    "    "
   ]
  },
  {
   "cell_type": "code",
   "execution_count": 11,
   "id": "7e55094d-49b4-43b6-a5be-a15c395981f8",
   "metadata": {},
   "outputs": [],
   "source": [
    "feat_list_test = []\n",
    "for index, row in df_pred_test.iterrows():\n",
    "    arow = []\n",
    "    for c in pred_cols:\n",
    "        arow.append(row[c])\n",
    "    feat_list_test.append(arow)\n",
    "    "
   ]
  },
  {
   "cell_type": "code",
   "execution_count": 12,
   "id": "3f7f564b-ce51-40ab-a774-58a86b92a5fb",
   "metadata": {},
   "outputs": [],
   "source": [
    "del df_pred_train, df_pred_test"
   ]
  },
  {
   "cell_type": "code",
   "execution_count": 13,
   "id": "bb0f3798-2d47-4ca0-8a9e-298a4594d0d0",
   "metadata": {},
   "outputs": [],
   "source": [
    "from sklearn.feature_extraction import FeatureHasher\n",
    "h = FeatureHasher(n_features=1024, input_type=\"string\")\n",
    "train_feature_mat = h.transform(feat_list_train)\n",
    "test_feature_mat = h.transform(feat_list_test)"
   ]
  },
  {
   "cell_type": "code",
   "execution_count": 14,
   "id": "4cc539d8-430a-4750-ade8-39b1924b6766",
   "metadata": {},
   "outputs": [],
   "source": [
    "df_feat_train = pd.DataFrame.sparse.from_spmatrix(train_feature_mat)\n",
    "\n",
    "df_feat_test = pd.DataFrame.sparse.from_spmatrix(test_feature_mat)\n"
   ]
  },
  {
   "cell_type": "code",
   "execution_count": 15,
   "id": "cbda38cf-467f-4a65-85b6-80b8b5f7c1d2",
   "metadata": {},
   "outputs": [
    {
     "data": {
      "text/plain": [
       "scipy.sparse._csr.csr_matrix"
      ]
     },
     "execution_count": 15,
     "metadata": {},
     "output_type": "execute_result"
    }
   ],
   "source": [
    "type(test_feature_mat)"
   ]
  },
  {
   "cell_type": "code",
   "execution_count": 16,
   "id": "426b58aa-ad0b-473e-b952-445b142e5906",
   "metadata": {},
   "outputs": [],
   "source": [
    "import scipy as sp\n",
    "fp_feat_train = \"../../../data/sba_7a_loans_train_feat.npz\"\n",
    "fp_feat_test =  \"../../../data/sba_7a_loans_test_feat.npz\"\n",
    "sp.sparse.save_npz(fp_feat_train, train_feature_mat)\n",
    "sp.sparse.save_npz(fp_feat_test, test_feature_mat)\n"
   ]
  },
  {
   "cell_type": "code",
   "execution_count": 17,
   "id": "c3fce48d-e113-4244-9b84-c5cbcb81f098",
   "metadata": {},
   "outputs": [],
   "source": [
    "fp_label_train = \"../../../data/sba_7a_loans_train_labels.parquet\"\n",
    "df_label_train = pd.DataFrame(y_label_train)\n",
    "df_label_train.to_parquet(fp_label_train, index=False)"
   ]
  },
  {
   "cell_type": "code",
   "execution_count": 18,
   "id": "18b0c33d-0e48-4f07-a4f5-22e568ff97fc",
   "metadata": {},
   "outputs": [],
   "source": [
    "fp_label_test = \"../../../data/sba_7a_loans_test_labels.parquet\"\n",
    "df_label_test = pd.DataFrame(y_label_test)\n",
    "df_label_test.to_parquet(fp_label_test, index=False)"
   ]
  },
  {
   "cell_type": "code",
   "execution_count": 19,
   "id": "550bbe6b-5d09-4828-aed2-fd9e893a7f2f",
   "metadata": {},
   "outputs": [],
   "source": [
    "\n",
    "from kmds.tagging.tag_types import DataRepresentationTags\n",
    "from owlready2 import *\n",
    "from kmds.utils.load_utils import *\n",
    "from kmds.utils.path_utils import *\n",
    "KNOWLEDGE_BASE = \"sba_7a_loan_chargeoff_modelling.xml\""
   ]
  },
  {
   "cell_type": "code",
   "execution_count": 20,
   "id": "e839e74f-f070-4741-96cf-c5baa87a1634",
   "metadata": {},
   "outputs": [],
   "source": [
    "onto2 = load_kb(KNOWLEDGE_BASE)\n",
    "\n",
    "with onto2:\n",
    "    insts = Workflow.instances()\n",
    "\n",
    "the_workflow_instance = insts[0]"
   ]
  },
  {
   "cell_type": "code",
   "execution_count": 21,
   "id": "2cf2fbd6-a0b4-4a5b-b560-da9b0c61acc7",
   "metadata": {},
   "outputs": [],
   "source": [
    "dr_obs_list = []\n",
    "observation_count = 1\n",
    "\n",
    "dr1 = DataRepresentationObservation(namespace=onto2)\n",
    "dr1.finding = \"Feature Hashing is is used for dimensionality reduction. See the link in the data representation notebook\\\n",
    "for information about setting up the input for feature hashing\"\n",
    "dr1.finding_sequence = observation_count\n",
    "dr1.data_representation_observation_type = DataRepresentationTags.FEATURE_ENGG_OBSERVATION.value\n",
    "dr_obs_list.append(dr1)\n",
    "\n",
    "observation_count += 1\n",
    "dr2 = DataRepresentationObservation(namespace=onto2)\n",
    "dr2.finding = \"The feature dimension used for this exercise is 1024, this is a hyper-parameter.\"\n",
    "dr2.finding_sequence = observation_count\n",
    "dr2.data_representation_observation_type = DataRepresentationTags.FEATURE_ENGG_OBSERVATION.value\n",
    "dr_obs_list.append(dr2)\n",
    "\n",
    "\n"
   ]
  },
  {
   "cell_type": "code",
   "execution_count": 22,
   "id": "47c6fd43-e632-47e0-b10a-e02b2193668d",
   "metadata": {},
   "outputs": [],
   "source": [
    "the_workflow_instance.has_data_representation_observations = dr_obs_list\n",
    "onto2.save(file=KNOWLEDGE_BASE, format=\"rdfxml\")"
   ]
  },
  {
   "cell_type": "code",
   "execution_count": null,
   "id": "09f8d660-04e3-4dd9-aaef-0d7b1436893c",
   "metadata": {},
   "outputs": [],
   "source": []
  }
 ],
 "metadata": {
  "kernelspec": {
   "display_name": "Python 3 (ipykernel)",
   "language": "python",
   "name": "python3"
  },
  "language_info": {
   "codemirror_mode": {
    "name": "ipython",
    "version": 3
   },
   "file_extension": ".py",
   "mimetype": "text/x-python",
   "name": "python",
   "nbconvert_exporter": "python",
   "pygments_lexer": "ipython3",
   "version": "3.10.13"
  }
 },
 "nbformat": 4,
 "nbformat_minor": 5
}
