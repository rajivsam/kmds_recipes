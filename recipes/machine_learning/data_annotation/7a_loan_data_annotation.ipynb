{
 "cells": [
  {
   "cell_type": "markdown",
   "id": "d80c2f3a-5fb9-4220-8303-8c8b1c852a0c",
   "metadata": {},
   "source": [
    "## Read Raw Data Files"
   ]
  },
  {
   "cell_type": "code",
   "execution_count": 1,
   "id": "b7f61619-889b-4e4c-a3b7-4aaa4bfaf606",
   "metadata": {},
   "outputs": [],
   "source": [
    "import pandas as pd\n",
    "fptrain = \"../../../data/cleaned_sba_7a_loans_train.parquet\"\n",
    "fptest = \"../../../data/cleaned_sba_7a_loans_test.parquet\"\n",
    "fp_model_loc = r\"../../../models/WOE_calibrated_classifier.pkl\""
   ]
  },
  {
   "cell_type": "code",
   "execution_count": 2,
   "id": "6f80648b-4596-40ba-9f9f-8eed4046ff86",
   "metadata": {},
   "outputs": [],
   "source": [
    "df_train = pd.read_parquet(fptrain)\n",
    "df_test = pd.read_parquet(fptest)\n",
    "df = pd.concat([df_train, df_test])"
   ]
  },
  {
   "cell_type": "markdown",
   "id": "79c37c55-9b18-4048-8935-4264e69c3c6f",
   "metadata": {},
   "source": [
    "## Load the Model"
   ]
  },
  {
   "cell_type": "code",
   "execution_count": 3,
   "id": "6d43a289-c63a-467b-a303-4d4e2002bc66",
   "metadata": {},
   "outputs": [],
   "source": [
    "import pickle\n",
    "with open(fp_model_loc , 'rb') as f:\n",
    "    clf = pickle.load(f)"
   ]
  },
  {
   "cell_type": "code",
   "execution_count": 4,
   "id": "6b7f7416-abb2-42fa-88e4-dedd7c5c1f62",
   "metadata": {},
   "outputs": [
    {
     "data": {
      "text/html": [
       "<style>#sk-container-id-1 {\n",
       "  /* Definition of color scheme common for light and dark mode */\n",
       "  --sklearn-color-text: black;\n",
       "  --sklearn-color-line: gray;\n",
       "  /* Definition of color scheme for unfitted estimators */\n",
       "  --sklearn-color-unfitted-level-0: #fff5e6;\n",
       "  --sklearn-color-unfitted-level-1: #f6e4d2;\n",
       "  --sklearn-color-unfitted-level-2: #ffe0b3;\n",
       "  --sklearn-color-unfitted-level-3: chocolate;\n",
       "  /* Definition of color scheme for fitted estimators */\n",
       "  --sklearn-color-fitted-level-0: #f0f8ff;\n",
       "  --sklearn-color-fitted-level-1: #d4ebff;\n",
       "  --sklearn-color-fitted-level-2: #b3dbfd;\n",
       "  --sklearn-color-fitted-level-3: cornflowerblue;\n",
       "\n",
       "  /* Specific color for light theme */\n",
       "  --sklearn-color-text-on-default-background: var(--sg-text-color, var(--theme-code-foreground, var(--jp-content-font-color1, black)));\n",
       "  --sklearn-color-background: var(--sg-background-color, var(--theme-background, var(--jp-layout-color0, white)));\n",
       "  --sklearn-color-border-box: var(--sg-text-color, var(--theme-code-foreground, var(--jp-content-font-color1, black)));\n",
       "  --sklearn-color-icon: #696969;\n",
       "\n",
       "  @media (prefers-color-scheme: dark) {\n",
       "    /* Redefinition of color scheme for dark theme */\n",
       "    --sklearn-color-text-on-default-background: var(--sg-text-color, var(--theme-code-foreground, var(--jp-content-font-color1, white)));\n",
       "    --sklearn-color-background: var(--sg-background-color, var(--theme-background, var(--jp-layout-color0, #111)));\n",
       "    --sklearn-color-border-box: var(--sg-text-color, var(--theme-code-foreground, var(--jp-content-font-color1, white)));\n",
       "    --sklearn-color-icon: #878787;\n",
       "  }\n",
       "}\n",
       "\n",
       "#sk-container-id-1 {\n",
       "  color: var(--sklearn-color-text);\n",
       "}\n",
       "\n",
       "#sk-container-id-1 pre {\n",
       "  padding: 0;\n",
       "}\n",
       "\n",
       "#sk-container-id-1 input.sk-hidden--visually {\n",
       "  border: 0;\n",
       "  clip: rect(1px 1px 1px 1px);\n",
       "  clip: rect(1px, 1px, 1px, 1px);\n",
       "  height: 1px;\n",
       "  margin: -1px;\n",
       "  overflow: hidden;\n",
       "  padding: 0;\n",
       "  position: absolute;\n",
       "  width: 1px;\n",
       "}\n",
       "\n",
       "#sk-container-id-1 div.sk-dashed-wrapped {\n",
       "  border: 1px dashed var(--sklearn-color-line);\n",
       "  margin: 0 0.4em 0.5em 0.4em;\n",
       "  box-sizing: border-box;\n",
       "  padding-bottom: 0.4em;\n",
       "  background-color: var(--sklearn-color-background);\n",
       "}\n",
       "\n",
       "#sk-container-id-1 div.sk-container {\n",
       "  /* jupyter's `normalize.less` sets `[hidden] { display: none; }`\n",
       "     but bootstrap.min.css set `[hidden] { display: none !important; }`\n",
       "     so we also need the `!important` here to be able to override the\n",
       "     default hidden behavior on the sphinx rendered scikit-learn.org.\n",
       "     See: https://github.com/scikit-learn/scikit-learn/issues/21755 */\n",
       "  display: inline-block !important;\n",
       "  position: relative;\n",
       "}\n",
       "\n",
       "#sk-container-id-1 div.sk-text-repr-fallback {\n",
       "  display: none;\n",
       "}\n",
       "\n",
       "div.sk-parallel-item,\n",
       "div.sk-serial,\n",
       "div.sk-item {\n",
       "  /* draw centered vertical line to link estimators */\n",
       "  background-image: linear-gradient(var(--sklearn-color-text-on-default-background), var(--sklearn-color-text-on-default-background));\n",
       "  background-size: 2px 100%;\n",
       "  background-repeat: no-repeat;\n",
       "  background-position: center center;\n",
       "}\n",
       "\n",
       "/* Parallel-specific style estimator block */\n",
       "\n",
       "#sk-container-id-1 div.sk-parallel-item::after {\n",
       "  content: \"\";\n",
       "  width: 100%;\n",
       "  border-bottom: 2px solid var(--sklearn-color-text-on-default-background);\n",
       "  flex-grow: 1;\n",
       "}\n",
       "\n",
       "#sk-container-id-1 div.sk-parallel {\n",
       "  display: flex;\n",
       "  align-items: stretch;\n",
       "  justify-content: center;\n",
       "  background-color: var(--sklearn-color-background);\n",
       "  position: relative;\n",
       "}\n",
       "\n",
       "#sk-container-id-1 div.sk-parallel-item {\n",
       "  display: flex;\n",
       "  flex-direction: column;\n",
       "}\n",
       "\n",
       "#sk-container-id-1 div.sk-parallel-item:first-child::after {\n",
       "  align-self: flex-end;\n",
       "  width: 50%;\n",
       "}\n",
       "\n",
       "#sk-container-id-1 div.sk-parallel-item:last-child::after {\n",
       "  align-self: flex-start;\n",
       "  width: 50%;\n",
       "}\n",
       "\n",
       "#sk-container-id-1 div.sk-parallel-item:only-child::after {\n",
       "  width: 0;\n",
       "}\n",
       "\n",
       "/* Serial-specific style estimator block */\n",
       "\n",
       "#sk-container-id-1 div.sk-serial {\n",
       "  display: flex;\n",
       "  flex-direction: column;\n",
       "  align-items: center;\n",
       "  background-color: var(--sklearn-color-background);\n",
       "  padding-right: 1em;\n",
       "  padding-left: 1em;\n",
       "}\n",
       "\n",
       "\n",
       "/* Toggleable style: style used for estimator/Pipeline/ColumnTransformer box that is\n",
       "clickable and can be expanded/collapsed.\n",
       "- Pipeline and ColumnTransformer use this feature and define the default style\n",
       "- Estimators will overwrite some part of the style using the `sk-estimator` class\n",
       "*/\n",
       "\n",
       "/* Pipeline and ColumnTransformer style (default) */\n",
       "\n",
       "#sk-container-id-1 div.sk-toggleable {\n",
       "  /* Default theme specific background. It is overwritten whether we have a\n",
       "  specific estimator or a Pipeline/ColumnTransformer */\n",
       "  background-color: var(--sklearn-color-background);\n",
       "}\n",
       "\n",
       "/* Toggleable label */\n",
       "#sk-container-id-1 label.sk-toggleable__label {\n",
       "  cursor: pointer;\n",
       "  display: block;\n",
       "  width: 100%;\n",
       "  margin-bottom: 0;\n",
       "  padding: 0.5em;\n",
       "  box-sizing: border-box;\n",
       "  text-align: center;\n",
       "}\n",
       "\n",
       "#sk-container-id-1 label.sk-toggleable__label-arrow:before {\n",
       "  /* Arrow on the left of the label */\n",
       "  content: \"▸\";\n",
       "  float: left;\n",
       "  margin-right: 0.25em;\n",
       "  color: var(--sklearn-color-icon);\n",
       "}\n",
       "\n",
       "#sk-container-id-1 label.sk-toggleable__label-arrow:hover:before {\n",
       "  color: var(--sklearn-color-text);\n",
       "}\n",
       "\n",
       "/* Toggleable content - dropdown */\n",
       "\n",
       "#sk-container-id-1 div.sk-toggleable__content {\n",
       "  max-height: 0;\n",
       "  max-width: 0;\n",
       "  overflow: hidden;\n",
       "  text-align: left;\n",
       "  /* unfitted */\n",
       "  background-color: var(--sklearn-color-unfitted-level-0);\n",
       "}\n",
       "\n",
       "#sk-container-id-1 div.sk-toggleable__content.fitted {\n",
       "  /* fitted */\n",
       "  background-color: var(--sklearn-color-fitted-level-0);\n",
       "}\n",
       "\n",
       "#sk-container-id-1 div.sk-toggleable__content pre {\n",
       "  margin: 0.2em;\n",
       "  border-radius: 0.25em;\n",
       "  color: var(--sklearn-color-text);\n",
       "  /* unfitted */\n",
       "  background-color: var(--sklearn-color-unfitted-level-0);\n",
       "}\n",
       "\n",
       "#sk-container-id-1 div.sk-toggleable__content.fitted pre {\n",
       "  /* unfitted */\n",
       "  background-color: var(--sklearn-color-fitted-level-0);\n",
       "}\n",
       "\n",
       "#sk-container-id-1 input.sk-toggleable__control:checked~div.sk-toggleable__content {\n",
       "  /* Expand drop-down */\n",
       "  max-height: 200px;\n",
       "  max-width: 100%;\n",
       "  overflow: auto;\n",
       "}\n",
       "\n",
       "#sk-container-id-1 input.sk-toggleable__control:checked~label.sk-toggleable__label-arrow:before {\n",
       "  content: \"▾\";\n",
       "}\n",
       "\n",
       "/* Pipeline/ColumnTransformer-specific style */\n",
       "\n",
       "#sk-container-id-1 div.sk-label input.sk-toggleable__control:checked~label.sk-toggleable__label {\n",
       "  color: var(--sklearn-color-text);\n",
       "  background-color: var(--sklearn-color-unfitted-level-2);\n",
       "}\n",
       "\n",
       "#sk-container-id-1 div.sk-label.fitted input.sk-toggleable__control:checked~label.sk-toggleable__label {\n",
       "  background-color: var(--sklearn-color-fitted-level-2);\n",
       "}\n",
       "\n",
       "/* Estimator-specific style */\n",
       "\n",
       "/* Colorize estimator box */\n",
       "#sk-container-id-1 div.sk-estimator input.sk-toggleable__control:checked~label.sk-toggleable__label {\n",
       "  /* unfitted */\n",
       "  background-color: var(--sklearn-color-unfitted-level-2);\n",
       "}\n",
       "\n",
       "#sk-container-id-1 div.sk-estimator.fitted input.sk-toggleable__control:checked~label.sk-toggleable__label {\n",
       "  /* fitted */\n",
       "  background-color: var(--sklearn-color-fitted-level-2);\n",
       "}\n",
       "\n",
       "#sk-container-id-1 div.sk-label label.sk-toggleable__label,\n",
       "#sk-container-id-1 div.sk-label label {\n",
       "  /* The background is the default theme color */\n",
       "  color: var(--sklearn-color-text-on-default-background);\n",
       "}\n",
       "\n",
       "/* On hover, darken the color of the background */\n",
       "#sk-container-id-1 div.sk-label:hover label.sk-toggleable__label {\n",
       "  color: var(--sklearn-color-text);\n",
       "  background-color: var(--sklearn-color-unfitted-level-2);\n",
       "}\n",
       "\n",
       "/* Label box, darken color on hover, fitted */\n",
       "#sk-container-id-1 div.sk-label.fitted:hover label.sk-toggleable__label.fitted {\n",
       "  color: var(--sklearn-color-text);\n",
       "  background-color: var(--sklearn-color-fitted-level-2);\n",
       "}\n",
       "\n",
       "/* Estimator label */\n",
       "\n",
       "#sk-container-id-1 div.sk-label label {\n",
       "  font-family: monospace;\n",
       "  font-weight: bold;\n",
       "  display: inline-block;\n",
       "  line-height: 1.2em;\n",
       "}\n",
       "\n",
       "#sk-container-id-1 div.sk-label-container {\n",
       "  text-align: center;\n",
       "}\n",
       "\n",
       "/* Estimator-specific */\n",
       "#sk-container-id-1 div.sk-estimator {\n",
       "  font-family: monospace;\n",
       "  border: 1px dotted var(--sklearn-color-border-box);\n",
       "  border-radius: 0.25em;\n",
       "  box-sizing: border-box;\n",
       "  margin-bottom: 0.5em;\n",
       "  /* unfitted */\n",
       "  background-color: var(--sklearn-color-unfitted-level-0);\n",
       "}\n",
       "\n",
       "#sk-container-id-1 div.sk-estimator.fitted {\n",
       "  /* fitted */\n",
       "  background-color: var(--sklearn-color-fitted-level-0);\n",
       "}\n",
       "\n",
       "/* on hover */\n",
       "#sk-container-id-1 div.sk-estimator:hover {\n",
       "  /* unfitted */\n",
       "  background-color: var(--sklearn-color-unfitted-level-2);\n",
       "}\n",
       "\n",
       "#sk-container-id-1 div.sk-estimator.fitted:hover {\n",
       "  /* fitted */\n",
       "  background-color: var(--sklearn-color-fitted-level-2);\n",
       "}\n",
       "\n",
       "/* Specification for estimator info (e.g. \"i\" and \"?\") */\n",
       "\n",
       "/* Common style for \"i\" and \"?\" */\n",
       "\n",
       ".sk-estimator-doc-link,\n",
       "a:link.sk-estimator-doc-link,\n",
       "a:visited.sk-estimator-doc-link {\n",
       "  float: right;\n",
       "  font-size: smaller;\n",
       "  line-height: 1em;\n",
       "  font-family: monospace;\n",
       "  background-color: var(--sklearn-color-background);\n",
       "  border-radius: 1em;\n",
       "  height: 1em;\n",
       "  width: 1em;\n",
       "  text-decoration: none !important;\n",
       "  margin-left: 1ex;\n",
       "  /* unfitted */\n",
       "  border: var(--sklearn-color-unfitted-level-1) 1pt solid;\n",
       "  color: var(--sklearn-color-unfitted-level-1);\n",
       "}\n",
       "\n",
       ".sk-estimator-doc-link.fitted,\n",
       "a:link.sk-estimator-doc-link.fitted,\n",
       "a:visited.sk-estimator-doc-link.fitted {\n",
       "  /* fitted */\n",
       "  border: var(--sklearn-color-fitted-level-1) 1pt solid;\n",
       "  color: var(--sklearn-color-fitted-level-1);\n",
       "}\n",
       "\n",
       "/* On hover */\n",
       "div.sk-estimator:hover .sk-estimator-doc-link:hover,\n",
       ".sk-estimator-doc-link:hover,\n",
       "div.sk-label-container:hover .sk-estimator-doc-link:hover,\n",
       ".sk-estimator-doc-link:hover {\n",
       "  /* unfitted */\n",
       "  background-color: var(--sklearn-color-unfitted-level-3);\n",
       "  color: var(--sklearn-color-background);\n",
       "  text-decoration: none;\n",
       "}\n",
       "\n",
       "div.sk-estimator.fitted:hover .sk-estimator-doc-link.fitted:hover,\n",
       ".sk-estimator-doc-link.fitted:hover,\n",
       "div.sk-label-container:hover .sk-estimator-doc-link.fitted:hover,\n",
       ".sk-estimator-doc-link.fitted:hover {\n",
       "  /* fitted */\n",
       "  background-color: var(--sklearn-color-fitted-level-3);\n",
       "  color: var(--sklearn-color-background);\n",
       "  text-decoration: none;\n",
       "}\n",
       "\n",
       "/* Span, style for the box shown on hovering the info icon */\n",
       ".sk-estimator-doc-link span {\n",
       "  display: none;\n",
       "  z-index: 9999;\n",
       "  position: relative;\n",
       "  font-weight: normal;\n",
       "  right: .2ex;\n",
       "  padding: .5ex;\n",
       "  margin: .5ex;\n",
       "  width: min-content;\n",
       "  min-width: 20ex;\n",
       "  max-width: 50ex;\n",
       "  color: var(--sklearn-color-text);\n",
       "  box-shadow: 2pt 2pt 4pt #999;\n",
       "  /* unfitted */\n",
       "  background: var(--sklearn-color-unfitted-level-0);\n",
       "  border: .5pt solid var(--sklearn-color-unfitted-level-3);\n",
       "}\n",
       "\n",
       ".sk-estimator-doc-link.fitted span {\n",
       "  /* fitted */\n",
       "  background: var(--sklearn-color-fitted-level-0);\n",
       "  border: var(--sklearn-color-fitted-level-3);\n",
       "}\n",
       "\n",
       ".sk-estimator-doc-link:hover span {\n",
       "  display: block;\n",
       "}\n",
       "\n",
       "/* \"?\"-specific style due to the `<a>` HTML tag */\n",
       "\n",
       "#sk-container-id-1 a.estimator_doc_link {\n",
       "  float: right;\n",
       "  font-size: 1rem;\n",
       "  line-height: 1em;\n",
       "  font-family: monospace;\n",
       "  background-color: var(--sklearn-color-background);\n",
       "  border-radius: 1rem;\n",
       "  height: 1rem;\n",
       "  width: 1rem;\n",
       "  text-decoration: none;\n",
       "  /* unfitted */\n",
       "  color: var(--sklearn-color-unfitted-level-1);\n",
       "  border: var(--sklearn-color-unfitted-level-1) 1pt solid;\n",
       "}\n",
       "\n",
       "#sk-container-id-1 a.estimator_doc_link.fitted {\n",
       "  /* fitted */\n",
       "  border: var(--sklearn-color-fitted-level-1) 1pt solid;\n",
       "  color: var(--sklearn-color-fitted-level-1);\n",
       "}\n",
       "\n",
       "/* On hover */\n",
       "#sk-container-id-1 a.estimator_doc_link:hover {\n",
       "  /* unfitted */\n",
       "  background-color: var(--sklearn-color-unfitted-level-3);\n",
       "  color: var(--sklearn-color-background);\n",
       "  text-decoration: none;\n",
       "}\n",
       "\n",
       "#sk-container-id-1 a.estimator_doc_link.fitted:hover {\n",
       "  /* fitted */\n",
       "  background-color: var(--sklearn-color-fitted-level-3);\n",
       "}\n",
       "</style><div id=\"sk-container-id-1\" class=\"sk-top-container\"><div class=\"sk-text-repr-fallback\"><pre>CalibratedClassifierCV(cv=3,\n",
       "                       estimator=LogisticRegressionCV(cv=5, random_state=0),\n",
       "                       method=&#x27;isotonic&#x27;)</pre><b>In a Jupyter environment, please rerun this cell to show the HTML representation or trust the notebook. <br />On GitHub, the HTML representation is unable to render, please try loading this page with nbviewer.org.</b></div><div class=\"sk-container\" hidden><div class=\"sk-item sk-dashed-wrapped\"><div class=\"sk-label-container\"><div class=\"sk-label fitted sk-toggleable\"><input class=\"sk-toggleable__control sk-hidden--visually\" id=\"sk-estimator-id-1\" type=\"checkbox\" ><label for=\"sk-estimator-id-1\" class=\"sk-toggleable__label fitted sk-toggleable__label-arrow fitted\">&nbsp;&nbsp;CalibratedClassifierCV<a class=\"sk-estimator-doc-link fitted\" rel=\"noreferrer\" target=\"_blank\" href=\"https://scikit-learn.org/1.4/modules/generated/sklearn.calibration.CalibratedClassifierCV.html\">?<span>Documentation for CalibratedClassifierCV</span></a><span class=\"sk-estimator-doc-link fitted\">i<span>Fitted</span></span></label><div class=\"sk-toggleable__content fitted\"><pre>CalibratedClassifierCV(cv=3,\n",
       "                       estimator=LogisticRegressionCV(cv=5, random_state=0),\n",
       "                       method=&#x27;isotonic&#x27;)</pre></div> </div></div><div class=\"sk-parallel\"><div class=\"sk-parallel-item\"><div class=\"sk-item\"><div class=\"sk-label-container\"><div class=\"sk-label fitted sk-toggleable\"><input class=\"sk-toggleable__control sk-hidden--visually\" id=\"sk-estimator-id-2\" type=\"checkbox\" ><label for=\"sk-estimator-id-2\" class=\"sk-toggleable__label fitted sk-toggleable__label-arrow fitted\">estimator: LogisticRegressionCV</label><div class=\"sk-toggleable__content fitted\"><pre>LogisticRegressionCV(cv=5, random_state=0)</pre></div> </div></div><div class=\"sk-serial\"><div class=\"sk-item\"><div class=\"sk-estimator fitted sk-toggleable\"><input class=\"sk-toggleable__control sk-hidden--visually\" id=\"sk-estimator-id-3\" type=\"checkbox\" ><label for=\"sk-estimator-id-3\" class=\"sk-toggleable__label fitted sk-toggleable__label-arrow fitted\">&nbsp;LogisticRegressionCV<a class=\"sk-estimator-doc-link fitted\" rel=\"noreferrer\" target=\"_blank\" href=\"https://scikit-learn.org/1.4/modules/generated/sklearn.linear_model.LogisticRegressionCV.html\">?<span>Documentation for LogisticRegressionCV</span></a></label><div class=\"sk-toggleable__content fitted\"><pre>LogisticRegressionCV(cv=5, random_state=0)</pre></div> </div></div></div></div></div></div></div></div></div>"
      ],
      "text/plain": [
       "CalibratedClassifierCV(cv=3,\n",
       "                       estimator=LogisticRegressionCV(cv=5, random_state=0),\n",
       "                       method='isotonic')"
      ]
     },
     "execution_count": 4,
     "metadata": {},
     "output_type": "execute_result"
    }
   ],
   "source": [
    "clf"
   ]
  },
  {
   "cell_type": "code",
   "execution_count": 5,
   "id": "6746d22f-2401-4285-ba8b-fef1d466d82d",
   "metadata": {},
   "outputs": [],
   "source": [
    "preds = df.columns.tolist()\n",
    "preds = [p for p in preds if p not in[\"LoanStatus\", \"SBAGuaranteedApproval\"]]"
   ]
  },
  {
   "cell_type": "code",
   "execution_count": 6,
   "id": "ee6747d0-ff69-4131-8def-a2b0bbf0dd6f",
   "metadata": {},
   "outputs": [],
   "source": [
    "df_X = df[preds]\n",
    "df_Y = df[\"LoanStatus\"]"
   ]
  },
  {
   "cell_type": "code",
   "execution_count": 7,
   "id": "c3c6da1c-1298-4753-b720-da6f17d0f848",
   "metadata": {},
   "outputs": [
    {
     "data": {
      "text/plain": [
       "(7838, 6)"
      ]
     },
     "execution_count": 7,
     "metadata": {},
     "output_type": "execute_result"
    }
   ],
   "source": [
    "df_X.shape"
   ]
  },
  {
   "cell_type": "markdown",
   "id": "e434d54e-643b-40f1-9d93-26d7d2bad323",
   "metadata": {},
   "source": [
    "## Score Charge Off Probabilities"
   ]
  },
  {
   "cell_type": "code",
   "execution_count": 8,
   "id": "cdd127c2-6e40-4d5c-855e-c3775c1b7b99",
   "metadata": {},
   "outputs": [],
   "source": [
    "charge_off_prob = clf.predict_proba(df_X)[:,1]"
   ]
  },
  {
   "cell_type": "code",
   "execution_count": 9,
   "id": "a79fbd99-0b8e-4e41-83fa-4e3e698ce067",
   "metadata": {},
   "outputs": [],
   "source": [
    "NUM_BINS = 10\n",
    "import numpy as np\n",
    "import matplotlib.pyplot as plt\n",
    "plabels = [\"p-\" + str(i+1) for i in range(NUM_BINS)]\n",
    "bin_prob = pd.qcut(charge_off_prob, NUM_BINS, labels=plabels)"
   ]
  },
  {
   "cell_type": "markdown",
   "id": "a3ac8451-01da-4ddb-87c3-de0bf6d83bed",
   "metadata": {},
   "source": [
    "## Rebin for Annotation"
   ]
  },
  {
   "cell_type": "markdown",
   "id": "c3a10864-3877-4549-8aa6-48f5f0c3614f",
   "metadata": {},
   "source": [
    "While the decile binning scheme (where the probability range is binned into deciles) is good for calibration, it is not readily interpretable because there are many bins with very low counts because of the data imbalance. To make it easy to interpret and apply the model, we need to rebin so that we have a small number of bins and the bin count is such that it is easy to apply in practice. The approach I have used here is to rebin such that there are _similar_ (not the exact same) counts in each bin. I started with 4 bins, looked at the results, then merged bins 3 and 4 together. This gives a set of three bins with similar counts. It can also be easily interpreted and applied. So one way to circumvent the thresholding problem we discussed in the modeling notebook is to check which bin a new loan (received in 2024) falls into based on the predicted probability from the model. We then know its quality based on the bin profile. The bin profiles for each of the three bins are developed below."
   ]
  },
  {
   "cell_type": "code",
   "execution_count": 10,
   "id": "175fa94a-0a5c-402e-a546-fddd4648c567",
   "metadata": {},
   "outputs": [
    {
     "name": "stderr",
     "output_type": "stream",
     "text": [
      "/var/folders/fb/t_m5qpcj6qq85rvkh73vbxh40000gn/T/ipykernel_50428/3685624035.py:2: FutureWarning: The default of observed=False is deprecated and will be changed to True in a future version of pandas. Pass observed=False to retain current behavior or observed=True to adopt the future default and silence this warning.\n",
      "  df_probs.groupby(\"bin\")[\"LoanStatus\"].value_counts()\n"
     ]
    },
    {
     "data": {
      "text/plain": [
       "bin   LoanStatus\n",
       "p-1   0             1109\n",
       "      1               12\n",
       "p-2   0              557\n",
       "      1                8\n",
       "p-3   0              775\n",
       "      1               20\n",
       "p-4   0              937\n",
       "      1               51\n",
       "p-5   0              964\n",
       "      1               67\n",
       "p-6   0              451\n",
       "      1               41\n",
       "p-7   0              810\n",
       "      1              101\n",
       "p-8   0              347\n",
       "      1               58\n",
       "p-9   0              584\n",
       "      1              188\n",
       "p-10  0              410\n",
       "      1              348\n",
       "Name: count, dtype: int64"
      ]
     },
     "execution_count": 10,
     "metadata": {},
     "output_type": "execute_result"
    }
   ],
   "source": [
    "df_probs = pd.DataFrame({\"prob\": charge_off_prob, \"bin\": bin_prob, \"LoanStatus\": df_Y})\n",
    "df_probs.groupby(\"bin\")[\"LoanStatus\"].value_counts()"
   ]
  },
  {
   "cell_type": "markdown",
   "id": "fc6ef65b-72aa-4765-b920-c371fa51204b",
   "metadata": {},
   "source": [
    "Note that there are to many bins with low counts. We try 4 bins now"
   ]
  },
  {
   "cell_type": "code",
   "execution_count": 11,
   "id": "9e08d842-21e1-4c77-95cc-d061ef338a6f",
   "metadata": {},
   "outputs": [],
   "source": [
    "NUM_BINS = 4\n",
    "import numpy as np\n",
    "import matplotlib.pyplot as plt\n",
    "plabels = [\"p-\" + str(i+1) for i in range(NUM_BINS)]\n",
    "bin_prob = pd.qcut(charge_off_prob, NUM_BINS, labels=plabels)"
   ]
  },
  {
   "cell_type": "code",
   "execution_count": 12,
   "id": "4a83bfb1-84af-4bf9-8ea1-b22c8876cd8a",
   "metadata": {},
   "outputs": [
    {
     "name": "stderr",
     "output_type": "stream",
     "text": [
      "/var/folders/fb/t_m5qpcj6qq85rvkh73vbxh40000gn/T/ipykernel_50428/3685624035.py:2: FutureWarning: The default of observed=False is deprecated and will be changed to True in a future version of pandas. Pass observed=False to retain current behavior or observed=True to adopt the future default and silence this warning.\n",
      "  df_probs.groupby(\"bin\")[\"LoanStatus\"].value_counts()\n"
     ]
    },
    {
     "data": {
      "text/plain": [
       "bin  LoanStatus\n",
       "p-1  0             2159\n",
       "     1               31\n",
       "p-2  0             2183\n",
       "     1              127\n",
       "p-3  0             1261\n",
       "     1              142\n",
       "p-4  0             1341\n",
       "     1              594\n",
       "Name: count, dtype: int64"
      ]
     },
     "execution_count": 12,
     "metadata": {},
     "output_type": "execute_result"
    }
   ],
   "source": [
    "df_probs = pd.DataFrame({\"prob\": charge_off_prob, \"bin\": bin_prob, \"LoanStatus\": df_Y})\n",
    "df_probs.groupby(\"bin\")[\"LoanStatus\"].value_counts()"
   ]
  },
  {
   "cell_type": "markdown",
   "id": "d7ecac50-143c-4afe-b23c-9b5e62dcafda",
   "metadata": {},
   "source": [
    "If we merge p-3 and p-4 together then we get a set of bin profiles with similar counts "
   ]
  },
  {
   "cell_type": "code",
   "execution_count": 13,
   "id": "8b565b62-1cf0-4f57-92e7-0f74a2c7ffb6",
   "metadata": {},
   "outputs": [],
   "source": [
    "def label_bins(x):\n",
    "    label = \"\"\n",
    "    if x == \"p-1\":\n",
    "        label = \"GOOD\"\n",
    "    elif (x == \"p-3\") or (x == \"p-4\"):\n",
    "        label = \"POOR\"\n",
    "    else:\n",
    "        label = \"AVERAGE\"\n",
    "    return label\n"
   ]
  },
  {
   "cell_type": "code",
   "execution_count": 14,
   "id": "01681dd8-ea9f-4f23-8bfd-3042461f58eb",
   "metadata": {},
   "outputs": [],
   "source": [
    "df_probs[\"credit_quality\"] = df_probs[\"bin\"].apply(label_bins)"
   ]
  },
  {
   "cell_type": "markdown",
   "id": "a112c1c8-fcee-44ac-a3fe-83b3dc1454e2",
   "metadata": {},
   "source": [
    "## Rebinned Loan Quality\n",
    "The rebinned loan quality now has three bins with similar number of loans in each bin. We can now annotate the loan with this quality annotation. The 1 represents a charge off. So the ordering of the bins in terms of credit quality is GOOD, AVERAGE, POOR."
   ]
  },
  {
   "cell_type": "code",
   "execution_count": 15,
   "id": "2d7ea2f6-8a26-44f7-8511-6dedb4e8d7a2",
   "metadata": {},
   "outputs": [
    {
     "data": {
      "text/plain": [
       "credit_quality  LoanStatus\n",
       "AVERAGE         0             2183\n",
       "                1              127\n",
       "GOOD            0             2159\n",
       "                1               31\n",
       "POOR            0             2602\n",
       "                1              736\n",
       "Name: count, dtype: int64"
      ]
     },
     "execution_count": 15,
     "metadata": {},
     "output_type": "execute_result"
    }
   ],
   "source": [
    "df_probs.groupby(\"credit_quality\")[\"LoanStatus\"].value_counts()"
   ]
  },
  {
   "cell_type": "markdown",
   "id": "43402c79-f9e7-4798-b5d3-bab368b1e861",
   "metadata": {},
   "source": [
    "### Note: \n",
    "_It is possible to interpret this with borrower data, but I choose not to do this in this notebook. The goal here is to illustrate modeling features that we can use with KMDS and not credit quality_."
   ]
  },
  {
   "cell_type": "markdown",
   "id": "51febcb7-7f5d-4249-8ee7-c74cdcd0dc29",
   "metadata": {},
   "source": [
    "### KMDS Logging for Data Annotation"
   ]
  },
  {
   "cell_type": "code",
   "execution_count": 16,
   "id": "81c4dbc6-e159-4d22-8f33-80cdeb7a0c10",
   "metadata": {},
   "outputs": [],
   "source": [
    "from kmds.ontology.kmds_ontology import *\n",
    "from kmds.tagging.tag_types import DataRepresentationTags\n"
   ]
  },
  {
   "cell_type": "code",
   "execution_count": 17,
   "id": "4b115c30-9001-44d3-ac8d-ce4b52b8ac2c",
   "metadata": {},
   "outputs": [],
   "source": [
    "from kmds.utils.load_utils import *\n",
    "RP_DEP_KB = \"../imbalanced_cost_based_learning/WOE_modeling_7a_charge_offs.xml\"\n",
    "\n",
    "try:\n",
    "    onto2 = get_ontology(RP_DEP_KB).load()\n",
    "    workflow_instances = Workflow.instances()\n",
    "except Exception as e:\n",
    "    print(\"Error opening KB, check if KB exists and permissions are right\")\n",
    "if onto is None:\n",
    "    print(\"Could not load Ontology, check the file and try again.\")\n",
    "\n"
   ]
  },
  {
   "cell_type": "code",
   "execution_count": 18,
   "id": "402e1837-9e46-4b4b-b790-77ebd27d6918",
   "metadata": {},
   "outputs": [],
   "source": [
    "kaw = KnowledgeApplicationWorkflow(\"7a_credit_quality_data_annotation\")"
   ]
  },
  {
   "cell_type": "code",
   "execution_count": 19,
   "id": "03ff5c23-792f-4a88-80a8-0116589c96b7",
   "metadata": {},
   "outputs": [],
   "source": [
    "kaw.depends_on = [workflow_instances[0]]"
   ]
  },
  {
   "cell_type": "code",
   "execution_count": 20,
   "id": "d690a839-96ce-4006-a046-62374edd6eb8",
   "metadata": {},
   "outputs": [
    {
     "data": {
      "text/plain": [
       "'WOE_modeling_7a_charge_offs'"
      ]
     },
     "execution_count": 20,
     "metadata": {},
     "output_type": "execute_result"
    }
   ],
   "source": [
    "kaw.depends_on[0].name"
   ]
  },
  {
   "cell_type": "code",
   "execution_count": 25,
   "id": "26b72df2-714e-42ad-a267-2208b6e7fd8f",
   "metadata": {},
   "outputs": [],
   "source": [
    "from kmds.tagging.tag_types import DataRepresentationTags\n",
    "dr_obs_list = []\n",
    "dr_observation_count = 1\n",
    "\n",
    "dr1 = DataRepresentationObservation(namespace=onto)\n",
    "dr1.finding = \"The 7a WOE based Logistic Regression model is used to score the 2023 7a lender dataset\"\n",
    "dr1.finding_sequence = dr_observation_count\n",
    "dr1.model_selection_observation_type = DataRepresentationTags.FEATURE_ENGG_OBSERVATION.value\n",
    "dr_obs_list.append(dr1)\n",
    "dr_observation_count += 1\n",
    "\n",
    "dr2 = DataRepresentationObservation(namespace=onto)\n",
    "dr2.finding = \"The decile binning scheme that was used for probability calibration yielded some bins with low counts, so rebinning was done.\"\n",
    "dr2.finding_sequence = dr_observation_count\n",
    "dr2.model_selection_observation_type = DataRepresentationTags.FEATURE_ENGG_OBSERVATION.value\n",
    "dr_obs_list.append(dr2)\n",
    "dr_observation_count += 1\n",
    "\n",
    "dr3 = DataRepresentationObservation(namespace=onto)\n",
    "dr3.finding = \"A quartile binning scheme and subsequent adjustment yielded bins with similar counts - 3 bins seems like a good choice\\\n",
    "for annotation. The bins are ordered in terms of proportion of chargeoffs in the bin. We have three bins - GOOD, AVERAGE and POOR\"\n",
    "dr3.finding_sequence = dr_observation_count\n",
    "dr3.model_selection_observation_type = DataRepresentationTags.FEATURE_ENGG_OBSERVATION.value\n",
    "dr_obs_list.append(dr3)\n",
    "dr_observation_count += 1\n",
    "\n",
    "dr4 = DataRepresentationObservation(namespace=onto)\n",
    "dr4.finding = \"We can partition 2023 loans into 4 subsets; (1) Gold Quality Loans (2) Outliers: These are loans\\\n",
    "with too few instances for us to apply supervised learning because we cannot evaluate generalization on them.\\\n",
    "If you had to model these, unsupervised learning may be good choice (3) Loans Scored by the WOE Logistic regression model.\"\n",
    "dr4.finding_sequence = dr_observation_count\n",
    "dr4.model_selection_observation_type = DataRepresentationTags.FEATURE_ENGG_OBSERVATION.value\n",
    "dr_obs_list.append(dr4)\n",
    "dr_observation_count += 1"
   ]
  },
  {
   "cell_type": "code",
   "execution_count": 27,
   "id": "eaf6cb29-79b0-4eb5-ab75-9224b9ca2458",
   "metadata": {},
   "outputs": [],
   "source": [
    "kaw.has_data_representation_observations = dr_obs_list\n",
    "KNOWLEDGE_BASE = \"WOE_data_annotation_7a_chargeoffs.xml\"\n",
    "onto.save(file=KNOWLEDGE_BASE, format=\"rdfxml\")"
   ]
  },
  {
   "cell_type": "code",
   "execution_count": null,
   "id": "3606db80-e6ee-407a-a3b1-d5f8260058d3",
   "metadata": {},
   "outputs": [],
   "source": []
  }
 ],
 "metadata": {
  "kernelspec": {
   "display_name": "Python 3 (ipykernel)",
   "language": "python",
   "name": "python3"
  },
  "language_info": {
   "codemirror_mode": {
    "name": "ipython",
    "version": 3
   },
   "file_extension": ".py",
   "mimetype": "text/x-python",
   "name": "python",
   "nbconvert_exporter": "python",
   "pygments_lexer": "ipython3",
   "version": "3.10.13"
  }
 },
 "nbformat": 4,
 "nbformat_minor": 5
}
