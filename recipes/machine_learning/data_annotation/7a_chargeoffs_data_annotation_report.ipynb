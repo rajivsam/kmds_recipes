{
 "cells": [
  {
   "cell_type": "markdown",
   "id": "d08c018c-9847-458a-a3d9-3544aad892f1",
   "metadata": {},
   "source": [
    "## Specify the Knowledge Base to use"
   ]
  },
  {
   "cell_type": "code",
   "execution_count": 1,
   "id": "a43dcda6-5670-4ff8-8713-68dfad4fc06d",
   "metadata": {},
   "outputs": [],
   "source": [
    "import kmds\n",
    "from kmds.tagging.tag_types import DataRepresentationTags\n",
    "from owlready2 import *\n",
    "from kmds.utils.load_utils import *\n",
    "from kmds.utils.path_utils import get_package_kb_path\n",
    "KNOWLEDGE_BASE = \"WOE_data_annotation_7a_chargeoffs.xml\"\n",
    "onto2 :Ontology = load_kb(KNOWLEDGE_BASE)\n",
    "import pandas as pd\n",
    "pd.options.display.max_colwidth = 500"
   ]
  },
  {
   "cell_type": "markdown",
   "id": "e87ff1b4-6297-4125-b08d-405fef71bf8f",
   "metadata": {},
   "source": [
    "## Load the Data Representation Observations"
   ]
  },
  {
   "cell_type": "code",
   "execution_count": 2,
   "id": "13d04df7-bda9-4ba9-b9d1-a18667dae02a",
   "metadata": {},
   "outputs": [
    {
     "data": {
      "text/html": [
       "<div>\n",
       "<style scoped>\n",
       "    .dataframe tbody tr th:only-of-type {\n",
       "        vertical-align: middle;\n",
       "    }\n",
       "\n",
       "    .dataframe tbody tr th {\n",
       "        vertical-align: top;\n",
       "    }\n",
       "\n",
       "    .dataframe thead th {\n",
       "        text-align: right;\n",
       "    }\n",
       "</style>\n",
       "<table border=\"1\" class=\"dataframe\">\n",
       "  <thead>\n",
       "    <tr style=\"text-align: right;\">\n",
       "      <th></th>\n",
       "      <th>obs_type</th>\n",
       "      <th>finding</th>\n",
       "      <th>finding_seq</th>\n",
       "    </tr>\n",
       "  </thead>\n",
       "  <tbody>\n",
       "    <tr>\n",
       "      <th>0</th>\n",
       "      <td>Feature Engineering Observation</td>\n",
       "      <td>We can partition 2023 loans into 4 subsets; (1) Gold Quality Loans (2) Outliers: These are loanswith too few instances for us to apply supervised learning because we cannot evaluate generalization on them.If you had to model these, unsupervised learning may be good choice (3) Loans Scored by the WOE Logistic regression model.</td>\n",
       "      <td>4</td>\n",
       "    </tr>\n",
       "    <tr>\n",
       "      <th>1</th>\n",
       "      <td>Feature Engineering Observation</td>\n",
       "      <td>A quartile binning scheme and subsequent adjustment yielded bins with similar counts - 3 bins seems like a good choicefor annotation. The bins are ordered in terms of proportion of chargeoffs in the bin. We have three bins - GOOD, AVERAGE and POOR</td>\n",
       "      <td>3</td>\n",
       "    </tr>\n",
       "    <tr>\n",
       "      <th>2</th>\n",
       "      <td>Feature Engineering Observation</td>\n",
       "      <td>The 7a WOE based Logistic Regression model is used to score the 2023 7a lender dataset</td>\n",
       "      <td>1</td>\n",
       "    </tr>\n",
       "    <tr>\n",
       "      <th>3</th>\n",
       "      <td>Feature Engineering Observation</td>\n",
       "      <td>The decile binning scheme that was used for probability calibration yielded some bins with low counts, so rebinning was done.</td>\n",
       "      <td>2</td>\n",
       "    </tr>\n",
       "  </tbody>\n",
       "</table>\n",
       "</div>"
      ],
      "text/plain": [
       "                          obs_type  \\\n",
       "0  Feature Engineering Observation   \n",
       "1  Feature Engineering Observation   \n",
       "2  Feature Engineering Observation   \n",
       "3  Feature Engineering Observation   \n",
       "\n",
       "                                                                                                                                                                                                                                                                                                                                   finding  \\\n",
       "0  We can partition 2023 loans into 4 subsets; (1) Gold Quality Loans (2) Outliers: These are loanswith too few instances for us to apply supervised learning because we cannot evaluate generalization on them.If you had to model these, unsupervised learning may be good choice (3) Loans Scored by the WOE Logistic regression model.   \n",
       "1                                                                                  A quartile binning scheme and subsequent adjustment yielded bins with similar counts - 3 bins seems like a good choicefor annotation. The bins are ordered in terms of proportion of chargeoffs in the bin. We have three bins - GOOD, AVERAGE and POOR   \n",
       "2                                                                                                                                                                                                                                                   The 7a WOE based Logistic Regression model is used to score the 2023 7a lender dataset   \n",
       "3                                                                                                                                                                                                            The decile binning scheme that was used for probability calibration yielded some bins with low counts, so rebinning was done.   \n",
       "\n",
       "   finding_seq  \n",
       "0            4  \n",
       "1            3  \n",
       "2            1  \n",
       "3            2  "
      ]
     },
     "execution_count": 2,
     "metadata": {},
     "output_type": "execute_result"
    }
   ],
   "source": [
    "load_data_rep_observations(onto2)"
   ]
  },
  {
   "cell_type": "markdown",
   "id": "e3025591-434f-4cef-959c-4546b1b2e48c",
   "metadata": {},
   "source": [
    "## Load the Dependency for this Workflow\n",
    "This is done programatically here. In the very near future, a convinient load api similar to what is available for observations wull be provided"
   ]
  },
  {
   "cell_type": "code",
   "execution_count": 3,
   "id": "eb288f83-ac20-45f5-89e1-c5bea85b0fba",
   "metadata": {},
   "outputs": [],
   "source": [
    "with onto2:\n",
    "    workflow_instances = Workflow.instances()\n",
    "    dependent_wf = workflow_instances[0].depends_on[0]"
   ]
  },
  {
   "cell_type": "markdown",
   "id": "92ac674c-fd37-4fb6-8f95-af36d9adae44",
   "metadata": {},
   "source": [
    "### We get the fully qualified name \n",
    "The dependency is what follows the # sign. This is the feature engineering workflow that developed the data representation for modeling"
   ]
  },
  {
   "cell_type": "code",
   "execution_count": 4,
   "id": "ba20edf6-330f-4bf6-8b30-930b12216b98",
   "metadata": {},
   "outputs": [
    {
     "data": {
      "text/plain": [
       "'http://test.org/kmds/kmds.owl#WOE_modeling_7a_charge_offs'"
      ]
     },
     "execution_count": 4,
     "metadata": {},
     "output_type": "execute_result"
    }
   ],
   "source": [
    "dependent_wf"
   ]
  },
  {
   "cell_type": "code",
   "execution_count": null,
   "id": "f9ff052e-3ab5-4f8f-acf2-24e329448462",
   "metadata": {},
   "outputs": [],
   "source": []
  }
 ],
 "metadata": {
  "kernelspec": {
   "display_name": "Python 3 (ipykernel)",
   "language": "python",
   "name": "python3"
  },
  "language_info": {
   "codemirror_mode": {
    "name": "ipython",
    "version": 3
   },
   "file_extension": ".py",
   "mimetype": "text/x-python",
   "name": "python",
   "nbconvert_exporter": "python",
   "pygments_lexer": "ipython3",
   "version": "3.10.13"
  }
 },
 "nbformat": 4,
 "nbformat_minor": 5
}
