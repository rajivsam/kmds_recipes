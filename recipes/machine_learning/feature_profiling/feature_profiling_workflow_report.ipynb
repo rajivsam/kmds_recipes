{
 "cells": [
  {
   "cell_type": "markdown",
   "id": "d08c018c-9847-458a-a3d9-3544aad892f1",
   "metadata": {},
   "source": [
    "## Specify the Knowledge Base to use"
   ]
  },
  {
   "cell_type": "code",
   "execution_count": 1,
   "id": "a43dcda6-5670-4ff8-8713-68dfad4fc06d",
   "metadata": {},
   "outputs": [],
   "source": [
    "import kmds\n",
    "from kmds.tagging.tag_types import DataRepresentationTags\n",
    "from owlready2 import *\n",
    "from kmds.utils.load_utils import *\n",
    "from kmds.utils.path_utils import get_package_kb_path\n",
    "KNOWLEDGE_BASE = \"sensor_data_feature_profile.xml\"\n",
    "onto2 :Ontology = load_kb(KNOWLEDGE_BASE)\n",
    "import pandas as pd\n",
    "pd.options.display.max_colwidth = 500"
   ]
  },
  {
   "cell_type": "markdown",
   "id": "99584c8a-155a-4f80-8e95-82db262b9d0d",
   "metadata": {},
   "source": [
    "## Load the Exploratory Data Observations"
   ]
  },
  {
   "cell_type": "code",
   "execution_count": 2,
   "id": "d4483dba-342d-4ed0-ae3f-a62a5975c659",
   "metadata": {},
   "outputs": [
    {
     "data": {
      "text/html": [
       "<div>\n",
       "<style scoped>\n",
       "    .dataframe tbody tr th:only-of-type {\n",
       "        vertical-align: middle;\n",
       "    }\n",
       "\n",
       "    .dataframe tbody tr th {\n",
       "        vertical-align: top;\n",
       "    }\n",
       "\n",
       "    .dataframe thead th {\n",
       "        text-align: right;\n",
       "    }\n",
       "</style>\n",
       "<table border=\"1\" class=\"dataframe\">\n",
       "  <thead>\n",
       "    <tr style=\"text-align: right;\">\n",
       "      <th></th>\n",
       "      <th>obs_type</th>\n",
       "      <th>finding</th>\n",
       "      <th>finding_seq</th>\n",
       "    </tr>\n",
       "  </thead>\n",
       "  <tbody>\n",
       "    <tr>\n",
       "      <th>0</th>\n",
       "      <td>Data Quality Observation</td>\n",
       "      <td>A non parametric method, decision tree was used for the feature profiling, but, since there is good separation,a hyperplane classifier should also work well. The contributors of this dataset have used an SVM for example.</td>\n",
       "      <td>3</td>\n",
       "    </tr>\n",
       "    <tr>\n",
       "      <th>1</th>\n",
       "      <td>Data Quality Observation</td>\n",
       "      <td>Oil and Water have very distinct voltage recordings on the sensor. It looks like there is goodseparation (except for label noise) for this dataset. Voltage build up on the sensor has an exponential typebehavior due to the physics of the process and the capacitive nature of the sensor.</td>\n",
       "      <td>1</td>\n",
       "    </tr>\n",
       "    <tr>\n",
       "      <th>2</th>\n",
       "      <td>Data Quality Observation</td>\n",
       "      <td>Analysis of the classifier errors revealed that there is likely some label noise in the data. These can be identified,by running an outlier analysis (for example, with the IsolationForest algorithm) to identify outliers. The classifier should be developed.after removing the label noise.</td>\n",
       "      <td>2</td>\n",
       "    </tr>\n",
       "  </tbody>\n",
       "</table>\n",
       "</div>"
      ],
      "text/plain": [
       "                   obs_type  \\\n",
       "0  Data Quality Observation   \n",
       "1  Data Quality Observation   \n",
       "2  Data Quality Observation   \n",
       "\n",
       "                                                                                                                                                                                                                                                                                           finding  \\\n",
       "0                                                                     A non parametric method, decision tree was used for the feature profiling, but, since there is good separation,a hyperplane classifier should also work well. The contributors of this dataset have used an SVM for example.   \n",
       "1    Oil and Water have very distinct voltage recordings on the sensor. It looks like there is goodseparation (except for label noise) for this dataset. Voltage build up on the sensor has an exponential typebehavior due to the physics of the process and the capacitive nature of the sensor.   \n",
       "2  Analysis of the classifier errors revealed that there is likely some label noise in the data. These can be identified,by running an outlier analysis (for example, with the IsolationForest algorithm) to identify outliers. The classifier should be developed.after removing the label noise.   \n",
       "\n",
       "   finding_seq  \n",
       "0            3  \n",
       "1            1  \n",
       "2            2  "
      ]
     },
     "execution_count": 2,
     "metadata": {},
     "output_type": "execute_result"
    }
   ],
   "source": [
    "load_exp_observations(onto2)"
   ]
  },
  {
   "cell_type": "markdown",
   "id": "437fd9cf-8aae-447f-ae2c-2318ac705627",
   "metadata": {},
   "source": [
    "## Load Data Representation Observations"
   ]
  },
  {
   "cell_type": "code",
   "execution_count": 3,
   "id": "f577bc26-32cd-4ca6-8b17-a497230682d8",
   "metadata": {},
   "outputs": [
    {
     "data": {
      "text/html": [
       "<div>\n",
       "<style scoped>\n",
       "    .dataframe tbody tr th:only-of-type {\n",
       "        vertical-align: middle;\n",
       "    }\n",
       "\n",
       "    .dataframe tbody tr th {\n",
       "        vertical-align: top;\n",
       "    }\n",
       "\n",
       "    .dataframe thead th {\n",
       "        text-align: right;\n",
       "    }\n",
       "</style>\n",
       "<table border=\"1\" class=\"dataframe\">\n",
       "  <thead>\n",
       "    <tr style=\"text-align: right;\">\n",
       "      <th></th>\n",
       "      <th>obs_type</th>\n",
       "      <th>finding</th>\n",
       "      <th>finding_seq</th>\n",
       "    </tr>\n",
       "  </thead>\n",
       "  <tbody>\n",
       "    <tr>\n",
       "      <th>0</th>\n",
       "      <td>Feature Engineering Observation</td>\n",
       "      <td>The featurization scheme with the statistical properties performs better.</td>\n",
       "      <td>2</td>\n",
       "    </tr>\n",
       "    <tr>\n",
       "      <th>1</th>\n",
       "      <td>Feature Engineering Observation</td>\n",
       "      <td>Two featurization schemes are evaluated (1) With raw features (2) Featurization with statistical signal properties</td>\n",
       "      <td>1</td>\n",
       "    </tr>\n",
       "    <tr>\n",
       "      <th>2</th>\n",
       "      <td>Feature Engineering Observation</td>\n",
       "      <td>The minimum volatage value recorded by the sensor has the most discriminative power.</td>\n",
       "      <td>3</td>\n",
       "    </tr>\n",
       "  </tbody>\n",
       "</table>\n",
       "</div>"
      ],
      "text/plain": [
       "                          obs_type  \\\n",
       "0  Feature Engineering Observation   \n",
       "1  Feature Engineering Observation   \n",
       "2  Feature Engineering Observation   \n",
       "\n",
       "                                                                                                              finding  \\\n",
       "0                                           The featurization scheme with the statistical properties performs better.   \n",
       "1  Two featurization schemes are evaluated (1) With raw features (2) Featurization with statistical signal properties   \n",
       "2                                The minimum volatage value recorded by the sensor has the most discriminative power.   \n",
       "\n",
       "   finding_seq  \n",
       "0            2  \n",
       "1            1  \n",
       "2            3  "
      ]
     },
     "execution_count": 3,
     "metadata": {},
     "output_type": "execute_result"
    }
   ],
   "source": [
    "load_data_rep_observations(onto2)"
   ]
  },
  {
   "cell_type": "code",
   "execution_count": null,
   "id": "f946e018-aa4a-4868-831f-c63c9dd13fd3",
   "metadata": {},
   "outputs": [],
   "source": []
  }
 ],
 "metadata": {
  "kernelspec": {
   "display_name": "Python 3 (ipykernel)",
   "language": "python",
   "name": "python3"
  },
  "language_info": {
   "codemirror_mode": {
    "name": "ipython",
    "version": 3
   },
   "file_extension": ".py",
   "mimetype": "text/x-python",
   "name": "python",
   "nbconvert_exporter": "python",
   "pygments_lexer": "ipython3",
   "version": "3.10.13"
  }
 },
 "nbformat": 4,
 "nbformat_minor": 5
}
