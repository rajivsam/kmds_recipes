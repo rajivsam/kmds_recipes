{
 "cells": [
  {
   "cell_type": "markdown",
   "id": "d08c018c-9847-458a-a3d9-3544aad892f1",
   "metadata": {},
   "source": [
    "## Specify the Knowledge Base to use"
   ]
  },
  {
   "cell_type": "code",
   "execution_count": 1,
   "id": "a43dcda6-5670-4ff8-8713-68dfad4fc06d",
   "metadata": {},
   "outputs": [],
   "source": [
    "import kmds\n",
    "from owlready2 import *\n",
    "from kmds.utils.load_utils import *\n",
    "from kmds.utils.path_utils import get_package_kb_path\n",
    "KNOWLEDGE_BASE = \"data_profile_producer_price_index.xml\"\n",
    "onto2 :Ontology = load_kb(KNOWLEDGE_BASE)\n",
    "import pandas as pd\n",
    "pd.options.display.max_colwidth = 500"
   ]
  },
  {
   "cell_type": "markdown",
   "id": "e87ff1b4-6297-4125-b08d-405fef71bf8f",
   "metadata": {},
   "source": [
    "## Load the Exploratory Data Observations"
   ]
  },
  {
   "cell_type": "code",
   "execution_count": 2,
   "id": "13d04df7-bda9-4ba9-b9d1-a18667dae02a",
   "metadata": {},
   "outputs": [
    {
     "data": {
      "text/html": [
       "<div>\n",
       "<style scoped>\n",
       "    .dataframe tbody tr th:only-of-type {\n",
       "        vertical-align: middle;\n",
       "    }\n",
       "\n",
       "    .dataframe tbody tr th {\n",
       "        vertical-align: top;\n",
       "    }\n",
       "\n",
       "    .dataframe thead th {\n",
       "        text-align: right;\n",
       "    }\n",
       "</style>\n",
       "<table border=\"1\" class=\"dataframe\">\n",
       "  <thead>\n",
       "    <tr style=\"text-align: right;\">\n",
       "      <th></th>\n",
       "      <th>obs_type</th>\n",
       "      <th>finding</th>\n",
       "      <th>finding_seq</th>\n",
       "    </tr>\n",
       "  </thead>\n",
       "  <tbody>\n",
       "    <tr>\n",
       "      <th>0</th>\n",
       "      <td>Relevance Observation</td>\n",
       "      <td>Decomposition done with a yearly time window shows a trend component that explains most of the variationThere is some oscillatory behavior that dampens out quickly with time. The data, file producer_price_index_ssa_trend.parquet,in the repository has the trend data</td>\n",
       "      <td>1</td>\n",
       "    </tr>\n",
       "    <tr>\n",
       "      <th>1</th>\n",
       "      <td>Relevance Observation</td>\n",
       "      <td>A high frequency oscillatory component was also identified. The specific harmonics can be extracted througha Fourier analysis of this component. The data file, producer_price_index_ssa_osc.parquet, has the oscillatory component data.</td>\n",
       "      <td>2</td>\n",
       "    </tr>\n",
       "  </tbody>\n",
       "</table>\n",
       "</div>"
      ],
      "text/plain": [
       "                obs_type  \\\n",
       "0  Relevance Observation   \n",
       "1  Relevance Observation   \n",
       "\n",
       "                                                                                                                                                                                                                                                                     finding  \\\n",
       "0  Decomposition done with a yearly time window shows a trend component that explains most of the variationThere is some oscillatory behavior that dampens out quickly with time. The data, file producer_price_index_ssa_trend.parquet,in the repository has the trend data   \n",
       "1                                  A high frequency oscillatory component was also identified. The specific harmonics can be extracted througha Fourier analysis of this component. The data file, producer_price_index_ssa_osc.parquet, has the oscillatory component data.   \n",
       "\n",
       "   finding_seq  \n",
       "0            1  \n",
       "1            2  "
      ]
     },
     "execution_count": 2,
     "metadata": {},
     "output_type": "execute_result"
    }
   ],
   "source": [
    "load_exp_observations(onto2)"
   ]
  }
 ],
 "metadata": {
  "kernelspec": {
   "display_name": "Python 3 (ipykernel)",
   "language": "python",
   "name": "python3"
  },
  "language_info": {
   "codemirror_mode": {
    "name": "ipython",
    "version": 3
   },
   "file_extension": ".py",
   "mimetype": "text/x-python",
   "name": "python",
   "nbconvert_exporter": "python",
   "pygments_lexer": "ipython3",
   "version": "3.10.13"
  }
 },
 "nbformat": 4,
 "nbformat_minor": 5
}
