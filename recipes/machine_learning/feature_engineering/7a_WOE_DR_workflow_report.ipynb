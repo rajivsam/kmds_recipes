{
 "cells": [
  {
   "cell_type": "markdown",
   "id": "d08c018c-9847-458a-a3d9-3544aad892f1",
   "metadata": {},
   "source": [
    "## Specify the Knowledge Base to use"
   ]
  },
  {
   "cell_type": "code",
   "execution_count": 1,
   "id": "a43dcda6-5670-4ff8-8713-68dfad4fc06d",
   "metadata": {},
   "outputs": [],
   "source": [
    "import kmds\n",
    "from kmds.tagging.tag_types import DataRepresentationTags\n",
    "from owlready2 import *\n",
    "from kmds.utils.load_utils import *\n",
    "from kmds.utils.path_utils import get_package_kb_path\n",
    "KNOWLEDGE_BASE = \"sba_7a_loans_WOE_DR_dev.xml\"\n",
    "onto2 :Ontology = load_kb(KNOWLEDGE_BASE)\n",
    "import pandas as pd\n",
    "pd.options.display.max_colwidth = 500"
   ]
  },
  {
   "cell_type": "markdown",
   "id": "99584c8a-155a-4f80-8e95-82db262b9d0d",
   "metadata": {},
   "source": [
    "## Load the Data Representation Observations"
   ]
  },
  {
   "cell_type": "code",
   "execution_count": 2,
   "id": "d4483dba-342d-4ed0-ae3f-a62a5975c659",
   "metadata": {},
   "outputs": [
    {
     "data": {
      "text/html": [
       "<div>\n",
       "<style scoped>\n",
       "    .dataframe tbody tr th:only-of-type {\n",
       "        vertical-align: middle;\n",
       "    }\n",
       "\n",
       "    .dataframe tbody tr th {\n",
       "        vertical-align: top;\n",
       "    }\n",
       "\n",
       "    .dataframe thead th {\n",
       "        text-align: right;\n",
       "    }\n",
       "</style>\n",
       "<table border=\"1\" class=\"dataframe\">\n",
       "  <thead>\n",
       "    <tr style=\"text-align: right;\">\n",
       "      <th></th>\n",
       "      <th>obs_type</th>\n",
       "      <th>finding</th>\n",
       "      <th>finding_seq</th>\n",
       "    </tr>\n",
       "  </thead>\n",
       "  <tbody>\n",
       "    <tr>\n",
       "      <th>0</th>\n",
       "      <td>Feature Engineering Observation</td>\n",
       "      <td>If we use the zip code in both borrower and bank, as is, we get many cateogories with too few records.This will hinder generalization. By restricting ourself to the first three digits of the zip code we can get better generalization data.This is done as part othis feature development experiment.</td>\n",
       "      <td>1</td>\n",
       "    </tr>\n",
       "    <tr>\n",
       "      <th>1</th>\n",
       "      <td>Data Transformation Observation</td>\n",
       "      <td>A weight of evidence encoder is used to encode the categorical values.</td>\n",
       "      <td>3</td>\n",
       "    </tr>\n",
       "    <tr>\n",
       "      <th>2</th>\n",
       "      <td>Feature Engineering Observation</td>\n",
       "      <td>Even after shrinking the zip code representation for borrower and bank, we have many categorieswith less than 5 observations. We drop these observations from the data used for model development. This subset of datathat have too few examples similar to it are deemed outliers. We can analyze these separately. A large chunk of the dataoffers good generalization, so we proceed with the analysis with the good data and set aside the outliers. These can be profiledand analyzed later.</td>\n",
       "      <td>2</td>\n",
       "    </tr>\n",
       "  </tbody>\n",
       "</table>\n",
       "</div>"
      ],
      "text/plain": [
       "                          obs_type  \\\n",
       "0  Feature Engineering Observation   \n",
       "1  Data Transformation Observation   \n",
       "2  Feature Engineering Observation   \n",
       "\n",
       "                                                                                                                                                                                                                                                                                                                                                                                                                                                                                             finding  \\\n",
       "0                                                                                                                                                                                           If we use the zip code in both borrower and bank, as is, we get many cateogories with too few records.This will hinder generalization. By restricting ourself to the first three digits of the zip code we can get better generalization data.This is done as part othis feature development experiment.   \n",
       "1                                                                                                                                                                                                                                                                                                                                                                                                                             A weight of evidence encoder is used to encode the categorical values.   \n",
       "2  Even after shrinking the zip code representation for borrower and bank, we have many categorieswith less than 5 observations. We drop these observations from the data used for model development. This subset of datathat have too few examples similar to it are deemed outliers. We can analyze these separately. A large chunk of the dataoffers good generalization, so we proceed with the analysis with the good data and set aside the outliers. These can be profiledand analyzed later.   \n",
       "\n",
       "   finding_seq  \n",
       "0            1  \n",
       "1            3  \n",
       "2            2  "
      ]
     },
     "execution_count": 2,
     "metadata": {},
     "output_type": "execute_result"
    }
   ],
   "source": [
    "load_data_rep_observations(onto2)"
   ]
  },
  {
   "cell_type": "code",
   "execution_count": null,
   "id": "c20457a1-bbff-4959-b880-bae573375c33",
   "metadata": {},
   "outputs": [],
   "source": []
  }
 ],
 "metadata": {
  "kernelspec": {
   "display_name": "Python 3 (ipykernel)",
   "language": "python",
   "name": "python3"
  },
  "language_info": {
   "codemirror_mode": {
    "name": "ipython",
    "version": 3
   },
   "file_extension": ".py",
   "mimetype": "text/x-python",
   "name": "python",
   "nbconvert_exporter": "python",
   "pygments_lexer": "ipython3",
   "version": "3.10.13"
  }
 },
 "nbformat": 4,
 "nbformat_minor": 5
}
