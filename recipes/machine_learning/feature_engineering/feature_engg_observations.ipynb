{
 "cells": [
  {
   "cell_type": "code",
   "execution_count": 1,
   "id": "fe4e2282-31cd-4ec7-9cb9-6bee19348535",
   "metadata": {},
   "outputs": [
    {
     "data": {
      "text/html": [
       "<div>\n",
       "<style scoped>\n",
       "    .dataframe tbody tr th:only-of-type {\n",
       "        vertical-align: middle;\n",
       "    }\n",
       "\n",
       "    .dataframe tbody tr th {\n",
       "        vertical-align: top;\n",
       "    }\n",
       "\n",
       "    .dataframe thead th {\n",
       "        text-align: right;\n",
       "    }\n",
       "</style>\n",
       "<table border=\"1\" class=\"dataframe\">\n",
       "  <thead>\n",
       "    <tr style=\"text-align: right;\">\n",
       "      <th></th>\n",
       "      <th>BorrName</th>\n",
       "      <th>BankFDICNumber</th>\n",
       "      <th>BankZip</th>\n",
       "      <th>BorrZip</th>\n",
       "      <th>NaicsCode</th>\n",
       "      <th>FranchiseCode</th>\n",
       "      <th>BusinessAge</th>\n",
       "      <th>LoanStatus</th>\n",
       "      <th>SBAGuaranteedApproval</th>\n",
       "    </tr>\n",
       "  </thead>\n",
       "  <tbody>\n",
       "    <tr>\n",
       "      <th>0</th>\n",
       "      <td>Brothers Freight Management L</td>\n",
       "      <td>Not Applicable</td>\n",
       "      <td>87109</td>\n",
       "      <td>14580</td>\n",
       "      <td>484121.0</td>\n",
       "      <td>Not Applicable</td>\n",
       "      <td>Change of Ownership</td>\n",
       "      <td>PIF</td>\n",
       "      <td>3525000.0</td>\n",
       "    </tr>\n",
       "    <tr>\n",
       "      <th>1</th>\n",
       "      <td>EASY SPACE STORAGE LLC</td>\n",
       "      <td>58665</td>\n",
       "      <td>28403</td>\n",
       "      <td>65401</td>\n",
       "      <td>531130.0</td>\n",
       "      <td>Not Applicable</td>\n",
       "      <td>Change of Ownership</td>\n",
       "      <td>PIF</td>\n",
       "      <td>654750.0</td>\n",
       "    </tr>\n",
       "    <tr>\n",
       "      <th>2</th>\n",
       "      <td>H&amp;W Endeavors Inc.</td>\n",
       "      <td>6560</td>\n",
       "      <td>43215</td>\n",
       "      <td>77493</td>\n",
       "      <td>449121.0</td>\n",
       "      <td>S0659</td>\n",
       "      <td>Startup, Loan Funds will Open Business</td>\n",
       "      <td>PIF</td>\n",
       "      <td>150000.0</td>\n",
       "    </tr>\n",
       "    <tr>\n",
       "      <th>3</th>\n",
       "      <td>Imagine Technology Group LLC</td>\n",
       "      <td>4767</td>\n",
       "      <td>80202</td>\n",
       "      <td>85226</td>\n",
       "      <td>423420.0</td>\n",
       "      <td>Not Applicable</td>\n",
       "      <td>Existing or more than 2 years old</td>\n",
       "      <td>PIF</td>\n",
       "      <td>3052500.0</td>\n",
       "    </tr>\n",
       "    <tr>\n",
       "      <th>4</th>\n",
       "      <td>Zorn Fruherziehung LLC</td>\n",
       "      <td>33555</td>\n",
       "      <td>33880</td>\n",
       "      <td>2301</td>\n",
       "      <td>624410.0</td>\n",
       "      <td>Not Applicable</td>\n",
       "      <td>Startup, Loan Funds will Open Business</td>\n",
       "      <td>PIF</td>\n",
       "      <td>187500.0</td>\n",
       "    </tr>\n",
       "    <tr>\n",
       "      <th>...</th>\n",
       "      <td>...</td>\n",
       "      <td>...</td>\n",
       "      <td>...</td>\n",
       "      <td>...</td>\n",
       "      <td>...</td>\n",
       "      <td>...</td>\n",
       "      <td>...</td>\n",
       "      <td>...</td>\n",
       "      <td>...</td>\n",
       "    </tr>\n",
       "    <tr>\n",
       "      <th>4588</th>\n",
       "      <td>IronPlane LLC</td>\n",
       "      <td>4255</td>\n",
       "      <td>4843</td>\n",
       "      <td>4101</td>\n",
       "      <td>454110.0</td>\n",
       "      <td>Not Applicable</td>\n",
       "      <td>Existing or more than 2 years old</td>\n",
       "      <td>PIF</td>\n",
       "      <td>79600.0</td>\n",
       "    </tr>\n",
       "    <tr>\n",
       "      <th>4589</th>\n",
       "      <td>ADORE HAIR &amp; NAILS SALON LLC</td>\n",
       "      <td>17308</td>\n",
       "      <td>96813</td>\n",
       "      <td>96826</td>\n",
       "      <td>812112.0</td>\n",
       "      <td>Not Applicable</td>\n",
       "      <td>Startup, Loan Funds will Open Business</td>\n",
       "      <td>CHGOFF</td>\n",
       "      <td>15000.0</td>\n",
       "    </tr>\n",
       "    <tr>\n",
       "      <th>4590</th>\n",
       "      <td>Sunberry Limited Manufacturing</td>\n",
       "      <td>6560</td>\n",
       "      <td>43215</td>\n",
       "      <td>48335</td>\n",
       "      <td>424990.0</td>\n",
       "      <td>Not Applicable</td>\n",
       "      <td>Existing or more than 2 years old</td>\n",
       "      <td>PIF</td>\n",
       "      <td>717750.0</td>\n",
       "    </tr>\n",
       "    <tr>\n",
       "      <th>4591</th>\n",
       "      <td>SNFood &amp;amp; Beverage LLC</td>\n",
       "      <td>5304</td>\n",
       "      <td>54220</td>\n",
       "      <td>53023</td>\n",
       "      <td>312140.0</td>\n",
       "      <td>Not Applicable</td>\n",
       "      <td>Unanswered</td>\n",
       "      <td>PIF</td>\n",
       "      <td>175000.0</td>\n",
       "    </tr>\n",
       "    <tr>\n",
       "      <th>4592</th>\n",
       "      <td>Blue Sky Self Storage Charwill</td>\n",
       "      <td>58665</td>\n",
       "      <td>28403</td>\n",
       "      <td>28358</td>\n",
       "      <td>531130.0</td>\n",
       "      <td>Not Applicable</td>\n",
       "      <td>Change of Ownership</td>\n",
       "      <td>PIF</td>\n",
       "      <td>840000.0</td>\n",
       "    </tr>\n",
       "  </tbody>\n",
       "</table>\n",
       "<p>22961 rows × 9 columns</p>\n",
       "</div>"
      ],
      "text/plain": [
       "                            BorrName  BankFDICNumber BankZip BorrZip  \\\n",
       "0      Brothers Freight Management L  Not Applicable   87109   14580   \n",
       "1             EASY SPACE STORAGE LLC           58665   28403   65401   \n",
       "2                 H&W Endeavors Inc.            6560   43215   77493   \n",
       "3       Imagine Technology Group LLC            4767   80202   85226   \n",
       "4             Zorn Fruherziehung LLC           33555   33880    2301   \n",
       "...                              ...             ...     ...     ...   \n",
       "4588                   IronPlane LLC            4255    4843    4101   \n",
       "4589    ADORE HAIR & NAILS SALON LLC           17308   96813   96826   \n",
       "4590  Sunberry Limited Manufacturing            6560   43215   48335   \n",
       "4591       SNFood &amp; Beverage LLC            5304   54220   53023   \n",
       "4592  Blue Sky Self Storage Charwill           58665   28403   28358   \n",
       "\n",
       "     NaicsCode   FranchiseCode                             BusinessAge  \\\n",
       "0     484121.0  Not Applicable                     Change of Ownership   \n",
       "1     531130.0  Not Applicable                     Change of Ownership   \n",
       "2     449121.0           S0659  Startup, Loan Funds will Open Business   \n",
       "3     423420.0  Not Applicable       Existing or more than 2 years old   \n",
       "4     624410.0  Not Applicable  Startup, Loan Funds will Open Business   \n",
       "...        ...             ...                                     ...   \n",
       "4588  454110.0  Not Applicable       Existing or more than 2 years old   \n",
       "4589  812112.0  Not Applicable  Startup, Loan Funds will Open Business   \n",
       "4590  424990.0  Not Applicable       Existing or more than 2 years old   \n",
       "4591  312140.0  Not Applicable                              Unanswered   \n",
       "4592  531130.0  Not Applicable                     Change of Ownership   \n",
       "\n",
       "     LoanStatus  SBAGuaranteedApproval  \n",
       "0           PIF              3525000.0  \n",
       "1           PIF               654750.0  \n",
       "2           PIF               150000.0  \n",
       "3           PIF              3052500.0  \n",
       "4           PIF               187500.0  \n",
       "...         ...                    ...  \n",
       "4588        PIF                79600.0  \n",
       "4589     CHGOFF                15000.0  \n",
       "4590        PIF               717750.0  \n",
       "4591        PIF               175000.0  \n",
       "4592        PIF               840000.0  \n",
       "\n",
       "[22961 rows x 9 columns]"
      ]
     },
     "execution_count": 1,
     "metadata": {},
     "output_type": "execute_result"
    }
   ],
   "source": [
    "import pandas as pd\n",
    "fptrain = \"../../../data/sba_7a_loans_train.parquet\"\n",
    "fptest = \"../../../data/sba_7a_loans_test.parquet\"\n",
    "df_train = pd.read_parquet(fptrain)\n",
    "df_test = pd.read_parquet(fptest)\n",
    "df = pd.concat([df_train, df_test])\n",
    "df"
   ]
  },
  {
   "cell_type": "code",
   "execution_count": 2,
   "id": "d502c6c8-ab1a-4ff3-b6a2-200c3f1b1496",
   "metadata": {},
   "outputs": [],
   "source": [
    "df[\"NaicsCode\"] = df[\"NaicsCode\"].apply(lambda x: x.replace(\".0\", \"\"))\n",
    "df = df.drop([\"BorrName\"], axis=1)\n",
    "dtypes_toset = {\"BorrZip\": 'str', \"BankZip\": \"str\", \"BankFDICNumber\": 'str',\\\n",
    "                \"NaicsCode\": 'str', \"FranchiseCode\": 'str', \\\n",
    "                \"BusinessAge\" : 'str', \"LoanStatus\": 'str'}"
   ]
  },
  {
   "cell_type": "code",
   "execution_count": 3,
   "id": "770b52b7-a5c5-4c3f-b2f4-f324cddf18c1",
   "metadata": {},
   "outputs": [],
   "source": [
    "df = df.astype(dtypes_toset)"
   ]
  },
  {
   "cell_type": "code",
   "execution_count": 4,
   "id": "e50a95ae-d046-4843-b1ff-09970d852dec",
   "metadata": {},
   "outputs": [
    {
     "data": {
      "text/html": [
       "<div>\n",
       "<style scoped>\n",
       "    .dataframe tbody tr th:only-of-type {\n",
       "        vertical-align: middle;\n",
       "    }\n",
       "\n",
       "    .dataframe tbody tr th {\n",
       "        vertical-align: top;\n",
       "    }\n",
       "\n",
       "    .dataframe thead th {\n",
       "        text-align: right;\n",
       "    }\n",
       "</style>\n",
       "<table border=\"1\" class=\"dataframe\">\n",
       "  <thead>\n",
       "    <tr style=\"text-align: right;\">\n",
       "      <th></th>\n",
       "      <th>Attribute</th>\n",
       "      <th>Unique_Values</th>\n",
       "    </tr>\n",
       "  </thead>\n",
       "  <tbody>\n",
       "    <tr>\n",
       "      <th>0</th>\n",
       "      <td>BorrZip</td>\n",
       "      <td>9057</td>\n",
       "    </tr>\n",
       "    <tr>\n",
       "      <th>1</th>\n",
       "      <td>BankZip</td>\n",
       "      <td>1169</td>\n",
       "    </tr>\n",
       "    <tr>\n",
       "      <th>2</th>\n",
       "      <td>BankFDICNumber</td>\n",
       "      <td>1116</td>\n",
       "    </tr>\n",
       "    <tr>\n",
       "      <th>3</th>\n",
       "      <td>NaicsCode</td>\n",
       "      <td>860</td>\n",
       "    </tr>\n",
       "    <tr>\n",
       "      <th>4</th>\n",
       "      <td>FranchiseCode</td>\n",
       "      <td>979</td>\n",
       "    </tr>\n",
       "    <tr>\n",
       "      <th>5</th>\n",
       "      <td>BusinessAge</td>\n",
       "      <td>6</td>\n",
       "    </tr>\n",
       "    <tr>\n",
       "      <th>6</th>\n",
       "      <td>LoanStatus</td>\n",
       "      <td>2</td>\n",
       "    </tr>\n",
       "  </tbody>\n",
       "</table>\n",
       "</div>"
      ],
      "text/plain": [
       "        Attribute  Unique_Values\n",
       "0         BorrZip           9057\n",
       "1         BankZip           1169\n",
       "2  BankFDICNumber           1116\n",
       "3       NaicsCode            860\n",
       "4   FranchiseCode            979\n",
       "5     BusinessAge              6\n",
       "6      LoanStatus              2"
      ]
     },
     "execution_count": 4,
     "metadata": {},
     "output_type": "execute_result"
    }
   ],
   "source": [
    "df_catvars = pd.DataFrame.from_dict({k: df[k].nunique() for k, v in dtypes_toset.items() if v in ['category', 'str']}, orient=\"index\").reset_index()\n",
    "df_catvars.columns = [\"Attribute\", \"Unique_Values\"]\n",
    "df_catvars"
   ]
  },
  {
   "cell_type": "code",
   "execution_count": 5,
   "id": "9b1c96bc-73e4-4495-b5aa-c51cdae720c2",
   "metadata": {},
   "outputs": [
    {
     "data": {
      "text/plain": [
       "BorrZip\n",
       "10001    10\n",
       "10002     1\n",
       "10004     1\n",
       "10005     3\n",
       "10006     6\n",
       "         ..\n",
       "99709     1\n",
       "99752     1\n",
       "99801     1\n",
       "99827     1\n",
       "99835     1\n",
       "Length: 9057, dtype: int64"
      ]
     },
     "execution_count": 5,
     "metadata": {},
     "output_type": "execute_result"
    }
   ],
   "source": [
    "high_cardinality_attribs = [\"BorrZip\", \"BankZip\", \"BankFDICNumber\", \"NaicsCode\", \"FranchiseCode\"]\n",
    "df.groupby(\"BorrZip\").size()"
   ]
  },
  {
   "cell_type": "markdown",
   "id": "409a506e-a03b-4503-ad3f-1a6820a5207e",
   "metadata": {},
   "source": [
    "## Zip Code Digit Interpretation\n",
    "see the [wikipidea link](https://en.wikipedia.org/wiki/ZIP_Code#:~:text=ZIP%20Codes%20are%20numbered%20with,delivery%20addresses%20within%20that%20region.) for the zip code to see the interpretation of the digits. The first digit represents the region, the second and third digits represent the city, the fourth and fifth digits represent the delivery address location. Since using the full zip code gives us attributes with very high branching (cardinality) lead to values that have no generalizatblity (and hence cause overfitting), stopping with the third digit uses only the city information of the zip code. This gives us better generalization since zip codes that differ only in the last two digits get pooled together. So rather than using the Borrower Zip, we use the borrower city and *get a better feature*. It is the same story with *bank zip*"
   ]
  },
  {
   "cell_type": "code",
   "execution_count": 6,
   "id": "a4885420-2930-456c-9a8a-3f4524a74021",
   "metadata": {},
   "outputs": [],
   "source": [
    "df[\"BorrZip\"] = df[\"BorrZip\"].apply(lambda x : str(x)[:3])\n",
    "df[\"BankZip\"] = df[\"BankZip\"].apply(lambda x : str(x)[:3])"
   ]
  },
  {
   "cell_type": "markdown",
   "id": "0ecef759-3f06-4ffc-bb89-285b6fb3806d",
   "metadata": {},
   "source": [
    "### Note: Reduction in Cardinality\n",
    "After recoding the _BankZip_ and the _BorrZip_ the cardinality of these attributes drops a lot. Please review the original and recoded cardinalities of these attributes"
   ]
  },
  {
   "cell_type": "code",
   "execution_count": 7,
   "id": "bbeb6214-8be3-41df-a751-9b26e5775fe4",
   "metadata": {},
   "outputs": [
    {
     "data": {
      "text/html": [
       "<div>\n",
       "<style scoped>\n",
       "    .dataframe tbody tr th:only-of-type {\n",
       "        vertical-align: middle;\n",
       "    }\n",
       "\n",
       "    .dataframe tbody tr th {\n",
       "        vertical-align: top;\n",
       "    }\n",
       "\n",
       "    .dataframe thead th {\n",
       "        text-align: right;\n",
       "    }\n",
       "</style>\n",
       "<table border=\"1\" class=\"dataframe\">\n",
       "  <thead>\n",
       "    <tr style=\"text-align: right;\">\n",
       "      <th></th>\n",
       "      <th>Attribute</th>\n",
       "      <th>Unique_Values</th>\n",
       "    </tr>\n",
       "  </thead>\n",
       "  <tbody>\n",
       "    <tr>\n",
       "      <th>0</th>\n",
       "      <td>BorrZip</td>\n",
       "      <td>814</td>\n",
       "    </tr>\n",
       "    <tr>\n",
       "      <th>1</th>\n",
       "      <td>BankZip</td>\n",
       "      <td>552</td>\n",
       "    </tr>\n",
       "    <tr>\n",
       "      <th>2</th>\n",
       "      <td>BankFDICNumber</td>\n",
       "      <td>1116</td>\n",
       "    </tr>\n",
       "    <tr>\n",
       "      <th>3</th>\n",
       "      <td>NaicsCode</td>\n",
       "      <td>860</td>\n",
       "    </tr>\n",
       "    <tr>\n",
       "      <th>4</th>\n",
       "      <td>FranchiseCode</td>\n",
       "      <td>979</td>\n",
       "    </tr>\n",
       "    <tr>\n",
       "      <th>5</th>\n",
       "      <td>BusinessAge</td>\n",
       "      <td>6</td>\n",
       "    </tr>\n",
       "    <tr>\n",
       "      <th>6</th>\n",
       "      <td>LoanStatus</td>\n",
       "      <td>2</td>\n",
       "    </tr>\n",
       "  </tbody>\n",
       "</table>\n",
       "</div>"
      ],
      "text/plain": [
       "        Attribute  Unique_Values\n",
       "0         BorrZip            814\n",
       "1         BankZip            552\n",
       "2  BankFDICNumber           1116\n",
       "3       NaicsCode            860\n",
       "4   FranchiseCode            979\n",
       "5     BusinessAge              6\n",
       "6      LoanStatus              2"
      ]
     },
     "execution_count": 7,
     "metadata": {},
     "output_type": "execute_result"
    }
   ],
   "source": [
    "df_catvars = pd.DataFrame.from_dict({k: df[k].nunique() for k, v in dtypes_toset.items() if v in ['category', 'str']}, orient=\"index\").reset_index()\n",
    "df_catvars.columns = [\"Attribute\", \"Unique_Values\"]\n",
    "df_catvars"
   ]
  },
  {
   "cell_type": "code",
   "execution_count": 8,
   "id": "7372d335-b171-48bb-947b-78cb0a1bc723",
   "metadata": {},
   "outputs": [],
   "source": [
    "dfg = df.groupby(\"BorrZip\")[\"LoanStatus\"].value_counts()"
   ]
  },
  {
   "cell_type": "code",
   "execution_count": 9,
   "id": "54e84f78-9baf-4152-878b-f49cd3b98f46",
   "metadata": {},
   "outputs": [
    {
     "data": {
      "text/plain": [
       "BorrZip  LoanStatus\n",
       "100      PIF           84\n",
       "         CHGOFF        10\n",
       "102      PIF            2\n",
       "103      PIF            9\n",
       "         CHGOFF         2\n",
       "                       ..\n",
       "994      PIF            1\n",
       "995      PIF           18\n",
       "996      PIF            4\n",
       "997      PIF            6\n",
       "998      PIF            3\n",
       "Name: count, Length: 1191, dtype: int64"
      ]
     },
     "execution_count": 9,
     "metadata": {},
     "output_type": "execute_result"
    }
   ],
   "source": [
    "dfg"
   ]
  },
  {
   "cell_type": "markdown",
   "id": "3078130d-3cef-483e-ae9d-37f8fbd5591d",
   "metadata": {},
   "source": [
    "## Outliers\n",
    "We still have some high cardinality attributes with less than 5 instances per each unique value. The problem with these records is that:\n",
    "1. We really can't test for generalization of these attributes because we don't have enough data with these values to split between training and test\n",
    "2. We will overfit if we try to fit to data with this level of granularity, see for example, slide 17, in [this link](https://www.mimuw.edu.pl/~son/datamining/DM/5-decision%20tree.pdf)\n",
    "\n",
    "So we consider these groups outliers. There are about 3.5K records in a dataset of about 23 K records with such behavior. We can analyze these as a separate group if need be and focus on the data with good generalization for the core model development."
   ]
  },
  {
   "cell_type": "code",
   "execution_count": 10,
   "id": "5282ca2e-ea5b-404e-b3ed-868734bf7e2c",
   "metadata": {},
   "outputs": [],
   "source": [
    "high_cardinality_attribs = [\"BorrZip\", \"BankZip\", \"BankFDICNumber\", \"NaicsCode\", \"FranchiseCode\"]\n",
    "DROP_THRESHOLD = 5\n",
    "drop_these_records = {}\n",
    "for attrib in high_cardinality_attribs:\n",
    "    dfg = df.groupby(attrib, observed=False).size().reset_index()\n",
    "    dfg.columns = [attrib, \"group_size\"]\n",
    "    drop_these_records[attrib] = dfg[dfg.group_size < DROP_THRESHOLD][attrib].tolist()\n",
    "    "
   ]
  },
  {
   "cell_type": "code",
   "execution_count": 11,
   "id": "9bf34638-84dd-467d-8b60-eba768448364",
   "metadata": {},
   "outputs": [],
   "source": [
    "for attrib in high_cardinality_attribs:\n",
    "    df = df[~df[attrib].isin(drop_these_records[attrib])]\n"
   ]
  },
  {
   "cell_type": "code",
   "execution_count": 12,
   "id": "bf97470a-c991-44d8-9fca-e80ce7b0765c",
   "metadata": {},
   "outputs": [
    {
     "data": {
      "text/plain": [
       "(19516, 8)"
      ]
     },
     "execution_count": 12,
     "metadata": {},
     "output_type": "execute_result"
    }
   ],
   "source": [
    "df.shape"
   ]
  },
  {
   "cell_type": "markdown",
   "id": "fef22b98-4fb7-4610-b9e7-39eb7ecb14e0",
   "metadata": {},
   "source": [
    "## Drop the Pure Levels"
   ]
  },
  {
   "cell_type": "code",
   "execution_count": 13,
   "id": "a0e54cc5-c150-4330-bf46-46b95d9784b7",
   "metadata": {},
   "outputs": [],
   "source": [
    "drop_these_records = {}\n",
    "the_red_flags = {}\n",
    "for attrib in high_cardinality_attribs:\n",
    "    dfg = df.groupby(attrib)[\"LoanStatus\"].value_counts().reset_index()\n",
    "    dfg[\"percentage\"] = (100 * dfg[\"count\"]  / dfg.groupby(attrib)['count'].transform('sum')).round(2)\n",
    "    all_cases_chgoff = (dfg.LoanStatus == \"CHGOFF\") & (dfg.percentage == 100.00)\n",
    "    the_red_flags[attrib] = dfg[all_cases_chgoff][attrib].tolist()\n",
    "    all_cases_pif = (dfg.LoanStatus == \"PIF\") & (dfg.percentage == 100.00)\n",
    "    all_cases = all_cases_chgoff | all_cases_pif\n",
    "    drop_these_records[attrib] = dfg[all_cases][attrib].tolist()"
   ]
  },
  {
   "cell_type": "code",
   "execution_count": 14,
   "id": "566f5b54-d314-4213-8916-822499569b44",
   "metadata": {},
   "outputs": [
    {
     "data": {
      "text/plain": [
       "{'BorrZip': [],\n",
       " 'BankZip': [],\n",
       " 'BankFDICNumber': [],\n",
       " 'NaicsCode': [],\n",
       " 'FranchiseCode': []}"
      ]
     },
     "execution_count": 14,
     "metadata": {},
     "output_type": "execute_result"
    }
   ],
   "source": [
    "the_red_flags"
   ]
  },
  {
   "cell_type": "code",
   "execution_count": 15,
   "id": "67b0bed7-3a45-4bf1-8ad3-e3366554c80b",
   "metadata": {},
   "outputs": [],
   "source": [
    "drop_list = []\n",
    "for attrib in high_cardinality_attribs:\n",
    "    drop_list.append(df[df[attrib].isin(drop_these_records[attrib])])"
   ]
  },
  {
   "cell_type": "code",
   "execution_count": 16,
   "id": "0686219a-5859-433b-9b82-df9795336928",
   "metadata": {},
   "outputs": [],
   "source": [
    "df_to_drop = pd.concat(drop_list)"
   ]
  },
  {
   "cell_type": "code",
   "execution_count": 17,
   "id": "2fb3ecc3-b35f-4cca-b011-c0abb2e23472",
   "metadata": {},
   "outputs": [],
   "source": [
    "df_to_drop = df_to_drop.drop_duplicates()"
   ]
  },
  {
   "cell_type": "code",
   "execution_count": 18,
   "id": "453c3dd6-83aa-46f7-99de-e22174600337",
   "metadata": {},
   "outputs": [],
   "source": [
    "for attrib in high_cardinality_attribs:\n",
    "    df = df[~df[attrib].isin(drop_these_records[attrib])]"
   ]
  },
  {
   "cell_type": "markdown",
   "id": "3f4d1624-14ca-43fc-804e-e34a44135c1f",
   "metadata": {},
   "source": [
    "### Pure Level Data Set Characteristics\n",
    "Please note that there is a single value of the target attribute associated with the _gold_ quality loans. There are charge offs and this levels are supported by five or more data instances per each level value."
   ]
  },
  {
   "cell_type": "code",
   "execution_count": 19,
   "id": "5b56c7e3-c4b4-4bfd-9fbb-20de0ce15684",
   "metadata": {},
   "outputs": [
    {
     "data": {
      "text/plain": [
       "LoanStatus\n",
       "PIF    11585\n",
       "Name: count, dtype: int64"
      ]
     },
     "execution_count": 19,
     "metadata": {},
     "output_type": "execute_result"
    }
   ],
   "source": [
    "df_to_drop[\"LoanStatus\"].value_counts()"
   ]
  },
  {
   "cell_type": "code",
   "execution_count": 20,
   "id": "b22811ce-b1bf-4278-825c-ed9433f43c22",
   "metadata": {},
   "outputs": [
    {
     "data": {
      "text/html": [
       "<div>\n",
       "<style scoped>\n",
       "    .dataframe tbody tr th:only-of-type {\n",
       "        vertical-align: middle;\n",
       "    }\n",
       "\n",
       "    .dataframe tbody tr th {\n",
       "        vertical-align: top;\n",
       "    }\n",
       "\n",
       "    .dataframe thead th {\n",
       "        text-align: right;\n",
       "    }\n",
       "</style>\n",
       "<table border=\"1\" class=\"dataframe\">\n",
       "  <thead>\n",
       "    <tr style=\"text-align: right;\">\n",
       "      <th></th>\n",
       "      <th>BankFDICNumber</th>\n",
       "      <th>BankZip</th>\n",
       "      <th>BorrZip</th>\n",
       "      <th>NaicsCode</th>\n",
       "      <th>FranchiseCode</th>\n",
       "      <th>BusinessAge</th>\n",
       "      <th>LoanStatus</th>\n",
       "      <th>SBAGuaranteedApproval</th>\n",
       "    </tr>\n",
       "  </thead>\n",
       "  <tbody>\n",
       "    <tr>\n",
       "      <th>1</th>\n",
       "      <td>58665</td>\n",
       "      <td>284</td>\n",
       "      <td>654</td>\n",
       "      <td>531130</td>\n",
       "      <td>Not Applicable</td>\n",
       "      <td>Change of Ownership</td>\n",
       "      <td>PIF</td>\n",
       "      <td>654750.0</td>\n",
       "    </tr>\n",
       "    <tr>\n",
       "      <th>6</th>\n",
       "      <td>Not Applicable</td>\n",
       "      <td>558</td>\n",
       "      <td>563</td>\n",
       "      <td>623220</td>\n",
       "      <td>Not Applicable</td>\n",
       "      <td>Startup, Loan Funds will Open Business</td>\n",
       "      <td>PIF</td>\n",
       "      <td>130500.0</td>\n",
       "    </tr>\n",
       "    <tr>\n",
       "      <th>7</th>\n",
       "      <td>29950</td>\n",
       "      <td>198</td>\n",
       "      <td>720</td>\n",
       "      <td>484110</td>\n",
       "      <td>Not Applicable</td>\n",
       "      <td>Existing or more than 2 years old</td>\n",
       "      <td>PIF</td>\n",
       "      <td>6000.0</td>\n",
       "    </tr>\n",
       "    <tr>\n",
       "      <th>9</th>\n",
       "      <td>1978</td>\n",
       "      <td>590</td>\n",
       "      <td>597</td>\n",
       "      <td>811111</td>\n",
       "      <td>Not Applicable</td>\n",
       "      <td>Existing or more than 2 years old</td>\n",
       "      <td>PIF</td>\n",
       "      <td>63750.0</td>\n",
       "    </tr>\n",
       "    <tr>\n",
       "      <th>21</th>\n",
       "      <td>1978</td>\n",
       "      <td>590</td>\n",
       "      <td>591</td>\n",
       "      <td>113310</td>\n",
       "      <td>Not Applicable</td>\n",
       "      <td>Existing or more than 2 years old</td>\n",
       "      <td>PIF</td>\n",
       "      <td>354750.0</td>\n",
       "    </tr>\n",
       "    <tr>\n",
       "      <th>...</th>\n",
       "      <td>...</td>\n",
       "      <td>...</td>\n",
       "      <td>...</td>\n",
       "      <td>...</td>\n",
       "      <td>...</td>\n",
       "      <td>...</td>\n",
       "      <td>...</td>\n",
       "      <td>...</td>\n",
       "    </tr>\n",
       "    <tr>\n",
       "      <th>4336</th>\n",
       "      <td>58665</td>\n",
       "      <td>284</td>\n",
       "      <td>305</td>\n",
       "      <td>812990</td>\n",
       "      <td>S1224</td>\n",
       "      <td>Existing or more than 2 years old</td>\n",
       "      <td>PIF</td>\n",
       "      <td>2331000.0</td>\n",
       "    </tr>\n",
       "    <tr>\n",
       "      <th>4354</th>\n",
       "      <td>10988</td>\n",
       "      <td>563</td>\n",
       "      <td>152</td>\n",
       "      <td>713940</td>\n",
       "      <td>S0596</td>\n",
       "      <td>Startup, Loan Funds will Open Business</td>\n",
       "      <td>PIF</td>\n",
       "      <td>174225.0</td>\n",
       "    </tr>\n",
       "    <tr>\n",
       "      <th>4364</th>\n",
       "      <td>6560</td>\n",
       "      <td>432</td>\n",
       "      <td>454</td>\n",
       "      <td>722513</td>\n",
       "      <td>S1815</td>\n",
       "      <td>Existing or more than 2 years old</td>\n",
       "      <td>PIF</td>\n",
       "      <td>32250.0</td>\n",
       "    </tr>\n",
       "    <tr>\n",
       "      <th>4451</th>\n",
       "      <td>6560</td>\n",
       "      <td>432</td>\n",
       "      <td>430</td>\n",
       "      <td>812111</td>\n",
       "      <td>S2521</td>\n",
       "      <td>Startup, Loan Funds will Open Business</td>\n",
       "      <td>PIF</td>\n",
       "      <td>18000.0</td>\n",
       "    </tr>\n",
       "    <tr>\n",
       "      <th>4528</th>\n",
       "      <td>6560</td>\n",
       "      <td>432</td>\n",
       "      <td>442</td>\n",
       "      <td>562111</td>\n",
       "      <td>S3588</td>\n",
       "      <td>New Business or 2 years or less</td>\n",
       "      <td>PIF</td>\n",
       "      <td>116250.0</td>\n",
       "    </tr>\n",
       "  </tbody>\n",
       "</table>\n",
       "<p>11585 rows × 8 columns</p>\n",
       "</div>"
      ],
      "text/plain": [
       "      BankFDICNumber BankZip BorrZip NaicsCode   FranchiseCode  \\\n",
       "1              58665     284     654    531130  Not Applicable   \n",
       "6     Not Applicable     558     563    623220  Not Applicable   \n",
       "7              29950     198     720    484110  Not Applicable   \n",
       "9               1978     590     597    811111  Not Applicable   \n",
       "21              1978     590     591    113310  Not Applicable   \n",
       "...              ...     ...     ...       ...             ...   \n",
       "4336           58665     284     305    812990           S1224   \n",
       "4354           10988     563     152    713940           S0596   \n",
       "4364            6560     432     454    722513           S1815   \n",
       "4451            6560     432     430    812111           S2521   \n",
       "4528            6560     432     442    562111           S3588   \n",
       "\n",
       "                                 BusinessAge LoanStatus  SBAGuaranteedApproval  \n",
       "1                        Change of Ownership        PIF               654750.0  \n",
       "6     Startup, Loan Funds will Open Business        PIF               130500.0  \n",
       "7          Existing or more than 2 years old        PIF                 6000.0  \n",
       "9          Existing or more than 2 years old        PIF                63750.0  \n",
       "21         Existing or more than 2 years old        PIF               354750.0  \n",
       "...                                      ...        ...                    ...  \n",
       "4336       Existing or more than 2 years old        PIF              2331000.0  \n",
       "4354  Startup, Loan Funds will Open Business        PIF               174225.0  \n",
       "4364       Existing or more than 2 years old        PIF                32250.0  \n",
       "4451  Startup, Loan Funds will Open Business        PIF                18000.0  \n",
       "4528         New Business or 2 years or less        PIF               116250.0  \n",
       "\n",
       "[11585 rows x 8 columns]"
      ]
     },
     "execution_count": 20,
     "metadata": {},
     "output_type": "execute_result"
    }
   ],
   "source": [
    "fpgo = \"../../../data/sba_7a_loans_gold_quality.parquet\"\n",
    "df_to_drop"
   ]
  },
  {
   "cell_type": "code",
   "execution_count": 21,
   "id": "a3688fd2-d5f0-4a9a-ad4b-7ddaf3a49ebd",
   "metadata": {},
   "outputs": [
    {
     "data": {
      "text/html": [
       "<div>\n",
       "<style scoped>\n",
       "    .dataframe tbody tr th:only-of-type {\n",
       "        vertical-align: middle;\n",
       "    }\n",
       "\n",
       "    .dataframe tbody tr th {\n",
       "        vertical-align: top;\n",
       "    }\n",
       "\n",
       "    .dataframe thead th {\n",
       "        text-align: right;\n",
       "    }\n",
       "</style>\n",
       "<table border=\"1\" class=\"dataframe\">\n",
       "  <thead>\n",
       "    <tr style=\"text-align: right;\">\n",
       "      <th></th>\n",
       "      <th>Attribute</th>\n",
       "      <th>Unique_Values</th>\n",
       "    </tr>\n",
       "  </thead>\n",
       "  <tbody>\n",
       "    <tr>\n",
       "      <th>0</th>\n",
       "      <td>BorrZip</td>\n",
       "      <td>337</td>\n",
       "    </tr>\n",
       "    <tr>\n",
       "      <th>1</th>\n",
       "      <td>BankZip</td>\n",
       "      <td>95</td>\n",
       "    </tr>\n",
       "    <tr>\n",
       "      <th>2</th>\n",
       "      <td>BankFDICNumber</td>\n",
       "      <td>101</td>\n",
       "    </tr>\n",
       "    <tr>\n",
       "      <th>3</th>\n",
       "      <td>NaicsCode</td>\n",
       "      <td>242</td>\n",
       "    </tr>\n",
       "    <tr>\n",
       "      <th>4</th>\n",
       "      <td>FranchiseCode</td>\n",
       "      <td>43</td>\n",
       "    </tr>\n",
       "    <tr>\n",
       "      <th>5</th>\n",
       "      <td>BusinessAge</td>\n",
       "      <td>6</td>\n",
       "    </tr>\n",
       "    <tr>\n",
       "      <th>6</th>\n",
       "      <td>LoanStatus</td>\n",
       "      <td>2</td>\n",
       "    </tr>\n",
       "  </tbody>\n",
       "</table>\n",
       "</div>"
      ],
      "text/plain": [
       "        Attribute  Unique_Values\n",
       "0         BorrZip            337\n",
       "1         BankZip             95\n",
       "2  BankFDICNumber            101\n",
       "3       NaicsCode            242\n",
       "4   FranchiseCode             43\n",
       "5     BusinessAge              6\n",
       "6      LoanStatus              2"
      ]
     },
     "execution_count": 21,
     "metadata": {},
     "output_type": "execute_result"
    }
   ],
   "source": [
    "df_catvars = pd.DataFrame.from_dict({k: df[k].nunique() for k, v in dtypes_toset.items() if v in ['category', 'str']}, orient=\"index\").reset_index()\n",
    "df_catvars.columns = [\"Attribute\", \"Unique_Values\"]\n",
    "df_catvars"
   ]
  },
  {
   "cell_type": "markdown",
   "id": "97ff0120-10c2-4ed2-aa84-740c8770c8d1",
   "metadata": {},
   "source": [
    "## Reduction in Imbalance \n",
    "After removing the gold quality loans, the dataset is smaller and has better imbalance"
   ]
  },
  {
   "cell_type": "code",
   "execution_count": 22,
   "id": "4b52ddc4-162c-4579-b2bb-91a8932ac3f7",
   "metadata": {},
   "outputs": [
    {
     "data": {
      "text/plain": [
       "LoanStatus\n",
       "PIF       6944\n",
       "CHGOFF     894\n",
       "Name: count, dtype: int64"
      ]
     },
     "execution_count": 22,
     "metadata": {},
     "output_type": "execute_result"
    }
   ],
   "source": [
    "df[\"LoanStatus\"].value_counts()"
   ]
  },
  {
   "cell_type": "code",
   "execution_count": 23,
   "id": "371d6439-d164-43a8-a541-369e1a63e162",
   "metadata": {},
   "outputs": [
    {
     "data": {
      "text/plain": [
       "0.1140597091094667"
      ]
     },
     "execution_count": 23,
     "metadata": {},
     "output_type": "execute_result"
    }
   ],
   "source": [
    "df[\"LoanStatus\"].value_counts().iloc[1]/df[\"LoanStatus\"].value_counts().sum()"
   ]
  },
  {
   "cell_type": "code",
   "execution_count": 24,
   "id": "dedf64cf-dbb9-4b55-baae-614839f8235a",
   "metadata": {},
   "outputs": [],
   "source": [
    "from sklearn.model_selection import train_test_split\n",
    "\n",
    "df_train, df_test = train_test_split(df, test_size=0.2)"
   ]
  },
  {
   "cell_type": "markdown",
   "id": "88826c93-1670-46eb-8723-bf8c99fc262c",
   "metadata": {},
   "source": [
    "## Weight of Evidence Encoding\n",
    "Now that we have reduced the cardinality of the categorical attributes, we can apply a popular technique called _weight of evidence_ encoding to featurize the categorical attributes. _Weight of Evidence_ encoding is very popular in score card development for credit risk assesment. So this is a good featurization candidate for this dataset, **after** cardinality reduction. See [this article](https://ishanjainoffical.medium.com/understanding-weight-of-evidence-woe-with-python-code-cd0df0e4001e) for example for the details of calculation. This is available in the _category encoders_ package, so it is a simple enough implementation."
   ]
  },
  {
   "cell_type": "code",
   "execution_count": 25,
   "id": "d56496e8-a750-4ad4-8c01-68e32a7a48ed",
   "metadata": {},
   "outputs": [],
   "source": [
    "cols_to_encode = high_cardinality_attribs + [\"BusinessAge\"]\n",
    "import category_encoders as ce\n",
    "encoder = ce.WOEEncoder(cols=cols_to_encode )"
   ]
  },
  {
   "cell_type": "code",
   "execution_count": 26,
   "id": "51efce9c-de69-473a-9184-8739e74d722d",
   "metadata": {},
   "outputs": [],
   "source": [
    "df_train[\"LoanStatus\"] = df_train[\"LoanStatus\"].apply(lambda x: 0 if x == \"PIF\" else 1)\n",
    "df_test[\"LoanStatus\"] = df_test[\"LoanStatus\"].apply(lambda x: 0 if x == \"PIF\" else 1)"
   ]
  },
  {
   "cell_type": "code",
   "execution_count": 27,
   "id": "2fdd9037-52c8-4009-a07d-284e95f2f6a2",
   "metadata": {},
   "outputs": [
    {
     "data": {
      "text/plain": [
       "LoanStatus\n",
       "0    5561\n",
       "1     709\n",
       "Name: count, dtype: int64"
      ]
     },
     "execution_count": 27,
     "metadata": {},
     "output_type": "execute_result"
    }
   ],
   "source": [
    "df_train[\"LoanStatus\"].value_counts() "
   ]
  },
  {
   "cell_type": "code",
   "execution_count": 28,
   "id": "cc40df13-6f01-42e1-bd70-6adc65c04aa6",
   "metadata": {},
   "outputs": [],
   "source": [
    "df_train = encoder.fit_transform(df_train, df_train[\"LoanStatus\"])\n",
    "df_test = encoder.transform(df_test)"
   ]
  },
  {
   "cell_type": "code",
   "execution_count": 29,
   "id": "ec987112-0196-45b2-99c5-3b63d2fa4b87",
   "metadata": {},
   "outputs": [],
   "source": [
    "fptrain = \"../../../data/cleaned_sba_7a_loans_train.parquet\"\n",
    "fptest = \"../../../data/cleaned_sba_7a_loans_test.parquet\"\n",
    "df_train.to_parquet(fptrain, index=False)\n",
    "df_test.to_parquet(fptest, index=False)"
   ]
  },
  {
   "cell_type": "code",
   "execution_count": 30,
   "id": "30c86e21-35a2-4e39-8d62-897ce503119f",
   "metadata": {},
   "outputs": [
    {
     "data": {
      "text/html": [
       "<div>\n",
       "<style scoped>\n",
       "    .dataframe tbody tr th:only-of-type {\n",
       "        vertical-align: middle;\n",
       "    }\n",
       "\n",
       "    .dataframe tbody tr th {\n",
       "        vertical-align: top;\n",
       "    }\n",
       "\n",
       "    .dataframe thead th {\n",
       "        text-align: right;\n",
       "    }\n",
       "</style>\n",
       "<table border=\"1\" class=\"dataframe\">\n",
       "  <thead>\n",
       "    <tr style=\"text-align: right;\">\n",
       "      <th></th>\n",
       "      <th>BankFDICNumber</th>\n",
       "      <th>BankZip</th>\n",
       "      <th>BorrZip</th>\n",
       "      <th>NaicsCode</th>\n",
       "      <th>FranchiseCode</th>\n",
       "      <th>BusinessAge</th>\n",
       "      <th>LoanStatus</th>\n",
       "      <th>SBAGuaranteedApproval</th>\n",
       "    </tr>\n",
       "  </thead>\n",
       "  <tbody>\n",
       "    <tr>\n",
       "      <th>2851</th>\n",
       "      <td>-0.597585</td>\n",
       "      <td>-0.452379</td>\n",
       "      <td>-1.161655</td>\n",
       "      <td>1.140930</td>\n",
       "      <td>-0.064275</td>\n",
       "      <td>-0.350694</td>\n",
       "      <td>0</td>\n",
       "      <td>900000.0</td>\n",
       "    </tr>\n",
       "    <tr>\n",
       "      <th>9685</th>\n",
       "      <td>0.327981</td>\n",
       "      <td>0.164656</td>\n",
       "      <td>0.735465</td>\n",
       "      <td>0.111310</td>\n",
       "      <td>-0.064275</td>\n",
       "      <td>-0.350694</td>\n",
       "      <td>0</td>\n",
       "      <td>187500.0</td>\n",
       "    </tr>\n",
       "    <tr>\n",
       "      <th>1763</th>\n",
       "      <td>-0.279945</td>\n",
       "      <td>-0.715368</td>\n",
       "      <td>-0.650830</td>\n",
       "      <td>1.364073</td>\n",
       "      <td>-0.064275</td>\n",
       "      <td>0.432278</td>\n",
       "      <td>0</td>\n",
       "      <td>15550.0</td>\n",
       "    </tr>\n",
       "    <tr>\n",
       "      <th>13172</th>\n",
       "      <td>-0.462239</td>\n",
       "      <td>-0.512352</td>\n",
       "      <td>0.211394</td>\n",
       "      <td>0.095116</td>\n",
       "      <td>-0.064275</td>\n",
       "      <td>-0.350694</td>\n",
       "      <td>0</td>\n",
       "      <td>25000.0</td>\n",
       "    </tr>\n",
       "    <tr>\n",
       "      <th>7114</th>\n",
       "      <td>-0.279945</td>\n",
       "      <td>0.211394</td>\n",
       "      <td>0.352472</td>\n",
       "      <td>0.185418</td>\n",
       "      <td>-0.064275</td>\n",
       "      <td>0.765140</td>\n",
       "      <td>0</td>\n",
       "      <td>150000.0</td>\n",
       "    </tr>\n",
       "    <tr>\n",
       "      <th>...</th>\n",
       "      <td>...</td>\n",
       "      <td>...</td>\n",
       "      <td>...</td>\n",
       "      <td>...</td>\n",
       "      <td>...</td>\n",
       "      <td>...</td>\n",
       "      <td>...</td>\n",
       "      <td>...</td>\n",
       "    </tr>\n",
       "    <tr>\n",
       "      <th>4938</th>\n",
       "      <td>-0.063043</td>\n",
       "      <td>-0.140004</td>\n",
       "      <td>-0.183489</td>\n",
       "      <td>-0.107743</td>\n",
       "      <td>0.958608</td>\n",
       "      <td>0.461116</td>\n",
       "      <td>0</td>\n",
       "      <td>380250.0</td>\n",
       "    </tr>\n",
       "    <tr>\n",
       "      <th>6415</th>\n",
       "      <td>-0.462239</td>\n",
       "      <td>-0.512352</td>\n",
       "      <td>-0.256415</td>\n",
       "      <td>-0.172396</td>\n",
       "      <td>-0.064275</td>\n",
       "      <td>-0.350694</td>\n",
       "      <td>0</td>\n",
       "      <td>111750.0</td>\n",
       "    </tr>\n",
       "    <tr>\n",
       "      <th>13555</th>\n",
       "      <td>-0.128831</td>\n",
       "      <td>-0.128831</td>\n",
       "      <td>-0.022221</td>\n",
       "      <td>0.111310</td>\n",
       "      <td>-0.064275</td>\n",
       "      <td>-0.350694</td>\n",
       "      <td>0</td>\n",
       "      <td>1347675.0</td>\n",
       "    </tr>\n",
       "    <tr>\n",
       "      <th>2192</th>\n",
       "      <td>-0.294155</td>\n",
       "      <td>-0.294155</td>\n",
       "      <td>0.958608</td>\n",
       "      <td>-0.278155</td>\n",
       "      <td>-0.064275</td>\n",
       "      <td>0.765140</td>\n",
       "      <td>0</td>\n",
       "      <td>202500.0</td>\n",
       "    </tr>\n",
       "    <tr>\n",
       "      <th>17755</th>\n",
       "      <td>1.364073</td>\n",
       "      <td>1.050565</td>\n",
       "      <td>0.670926</td>\n",
       "      <td>-0.746140</td>\n",
       "      <td>-0.064275</td>\n",
       "      <td>-0.350694</td>\n",
       "      <td>0</td>\n",
       "      <td>30000.0</td>\n",
       "    </tr>\n",
       "  </tbody>\n",
       "</table>\n",
       "<p>6270 rows × 8 columns</p>\n",
       "</div>"
      ],
      "text/plain": [
       "       BankFDICNumber   BankZip   BorrZip  NaicsCode  FranchiseCode  \\\n",
       "2851        -0.597585 -0.452379 -1.161655   1.140930      -0.064275   \n",
       "9685         0.327981  0.164656  0.735465   0.111310      -0.064275   \n",
       "1763        -0.279945 -0.715368 -0.650830   1.364073      -0.064275   \n",
       "13172       -0.462239 -0.512352  0.211394   0.095116      -0.064275   \n",
       "7114        -0.279945  0.211394  0.352472   0.185418      -0.064275   \n",
       "...               ...       ...       ...        ...            ...   \n",
       "4938        -0.063043 -0.140004 -0.183489  -0.107743       0.958608   \n",
       "6415        -0.462239 -0.512352 -0.256415  -0.172396      -0.064275   \n",
       "13555       -0.128831 -0.128831 -0.022221   0.111310      -0.064275   \n",
       "2192        -0.294155 -0.294155  0.958608  -0.278155      -0.064275   \n",
       "17755        1.364073  1.050565  0.670926  -0.746140      -0.064275   \n",
       "\n",
       "       BusinessAge  LoanStatus  SBAGuaranteedApproval  \n",
       "2851     -0.350694           0               900000.0  \n",
       "9685     -0.350694           0               187500.0  \n",
       "1763      0.432278           0                15550.0  \n",
       "13172    -0.350694           0                25000.0  \n",
       "7114      0.765140           0               150000.0  \n",
       "...            ...         ...                    ...  \n",
       "4938      0.461116           0               380250.0  \n",
       "6415     -0.350694           0               111750.0  \n",
       "13555    -0.350694           0              1347675.0  \n",
       "2192      0.765140           0               202500.0  \n",
       "17755    -0.350694           0                30000.0  \n",
       "\n",
       "[6270 rows x 8 columns]"
      ]
     },
     "execution_count": 30,
     "metadata": {},
     "output_type": "execute_result"
    }
   ],
   "source": [
    "df_train"
   ]
  },
  {
   "cell_type": "markdown",
   "id": "2b995103-8b72-4664-8d96-485302390bf2",
   "metadata": {},
   "source": [
    "## Result Description\n",
    "A review of the training dataset post featurization reveals a set of encoded attributes that we can use for model development."
   ]
  },
  {
   "cell_type": "markdown",
   "id": "01fd5d79-e1a0-4964-a083-387942dafad6",
   "metadata": {},
   "source": [
    "## KMDS Logging"
   ]
  },
  {
   "cell_type": "code",
   "execution_count": 31,
   "id": "ba00b6eb-ded4-4bf4-84a1-8ae74dd54c71",
   "metadata": {},
   "outputs": [],
   "source": [
    "\n",
    "from kmds.ontology.kmds_ontology import *\n",
    "from kmds.tagging.tag_types import DataRepresentationTags"
   ]
  },
  {
   "cell_type": "code",
   "execution_count": 32,
   "id": "9ebae1d3-52e8-4e59-bc35-cf1ed0150b54",
   "metadata": {},
   "outputs": [],
   "source": [
    "kaw = KnowledgeApplicationWorkflow(\"sba_7a_loans_WOE_DR_dev\", namespace=onto)\n",
    "KNOWLEDGE_BASE = \"sba_7a_loans_WOE_DR_dev.xml\""
   ]
  },
  {
   "cell_type": "code",
   "execution_count": 33,
   "id": "03546ddb-bbbe-4a1c-a665-1be9cbb13163",
   "metadata": {},
   "outputs": [],
   "source": [
    "\n",
    "dr_obs_list = []\n",
    "observation_count = 1\n",
    "\n",
    "dr1 = DataRepresentationObservation(namespace=onto)\n",
    "dr1.finding = \"If we use the zip code in both borrower and bank, as is, we get many cateogories with too few records.\\\n",
    "This will hinder generalization. By restricting ourself to the first three digits of the zip code we can get better generalization data.\\\n",
    "This is done as part othis feature development experiment.\"\n",
    "dr1.finding_sequence = observation_count\n",
    "dr1.data_representation_observation_type = DataRepresentationTags.FEATURE_ENGG_OBSERVATION.value\n",
    "dr_obs_list.append(dr1)\n"
   ]
  },
  {
   "cell_type": "code",
   "execution_count": 34,
   "id": "b34fb2de-0aa8-4b6f-9f48-294fd337632a",
   "metadata": {},
   "outputs": [],
   "source": [
    "observation_count += 1\n",
    "dr2 = DataRepresentationObservation(namespace=onto)\n",
    "dr2.finding = \"Even after shrinking the zip code representation for borrower and bank, we have many categories\\\n",
    "with less than 5 observations. We drop these observations from the data used for model development. This subset of data\\\n",
    "that have too few examples similar to it are deemed outliers. We can analyze these separately. A large chunk of the data\\\n",
    "offers good generalization, so we proceed with the analysis with the good data and set aside the outliers. These can be profiled\\\n",
    "and analyzed later.\"\n",
    "dr2.finding_sequence = observation_count\n",
    "dr2.data_representation_observation_type = DataRepresentationTags.FEATURE_ENGG_OBSERVATION.value\n",
    "dr_obs_list.append(dr2)"
   ]
  },
  {
   "cell_type": "code",
   "execution_count": 35,
   "id": "abd23286-a33d-4365-9483-2068149e01d2",
   "metadata": {},
   "outputs": [],
   "source": [
    "observation_count += 1\n",
    "dr3 = DataRepresentationObservation(namespace=onto)\n",
    "dr3.finding = \"There are some category levels with only value of target attribute. These are not really useful for training\\\n",
    "because the target attribute will always be the single value associated with these categories. This is the analogue of the \\\n",
    "IR classifier for these levels. So we don't include them in training. For new loans in 2024, if they have category values in\\\n",
    "this dataset, we simply classify them with the paid in full tag\"\n",
    "dr3.finding_sequence = observation_count\n",
    "dr3.data_representation_observation_type = DataRepresentationTags.FEATURE_ENGG_OBSERVATION.value\n",
    "dr_obs_list.append(dr3)"
   ]
  },
  {
   "cell_type": "code",
   "execution_count": 36,
   "id": "d65a9a0d-45c0-4e99-9a44-d719874ad3b7",
   "metadata": {},
   "outputs": [],
   "source": [
    "observation_count += 1\n",
    "dr4 = DataRepresentationObservation(namespace=onto)\n",
    "dr4.finding = \"After removing the gold quality loans, the imbalance in the dataset improves from under 5 percent to 11.4 percent.\"\n",
    "dr4.finding_sequence = observation_count\n",
    "dr4.data_representation_observation_type = DataRepresentationTags.FEATURE_ENGG_OBSERVATION.value\n",
    "dr_obs_list.append(dr4)"
   ]
  },
  {
   "cell_type": "code",
   "execution_count": 37,
   "id": "a168f43c-e516-4cb4-a3ce-3d3acb430bec",
   "metadata": {},
   "outputs": [],
   "source": [
    "observation_count += 1\n",
    "dr5 = DataRepresentationObservation(namespace=onto)\n",
    "dr5.finding = \"A weight of evidence encoder is used to encode the categorical values.\"\n",
    "dr5.finding_sequence = observation_count\n",
    "dr5.data_representation_observation_type = DataRepresentationTags.DATA_TRANSFORMATION_OBSERVATION.value\n",
    "dr_obs_list.append(dr5)"
   ]
  },
  {
   "cell_type": "code",
   "execution_count": 38,
   "id": "9893846e-cb3b-4c89-9f1b-70d93ce8d385",
   "metadata": {},
   "outputs": [],
   "source": [
    "kaw.has_data_representation_observations = dr_obs_list\n",
    "onto.save(KNOWLEDGE_BASE)"
   ]
  },
  {
   "cell_type": "code",
   "execution_count": null,
   "id": "61a17398-658a-4e75-bee4-47b8e65653e6",
   "metadata": {},
   "outputs": [],
   "source": []
  }
 ],
 "metadata": {
  "kernelspec": {
   "display_name": "Python 3 (ipykernel)",
   "language": "python",
   "name": "python3"
  },
  "language_info": {
   "codemirror_mode": {
    "name": "ipython",
    "version": 3
   },
   "file_extension": ".py",
   "mimetype": "text/x-python",
   "name": "python",
   "nbconvert_exporter": "python",
   "pygments_lexer": "ipython3",
   "version": "3.10.13"
  }
 },
 "nbformat": 4,
 "nbformat_minor": 5
}
